{
 "cells": [
  {
   "cell_type": "markdown",
   "id": "respective-anaheim",
   "metadata": {},
   "source": [
    "**Date: 24th Aug 2021** \\\n",
    "**Author: Osama Sidahmed**"
   ]
  },
  {
   "cell_type": "markdown",
   "id": "hairy-ireland",
   "metadata": {},
   "source": [
    "### Objective"
   ]
  },
  {
   "cell_type": "markdown",
   "id": "collect-norfolk",
   "metadata": {},
   "source": [
    "The objective of this notebook is to create a classifier that differentiate between a tweet related to a real natural disaster and others that do not, using Natural language Processing (NLP) methods.\n",
    "\n",
    "The data will be explored after which it it will be processed and then few classifiers using standard Machine learning algorithms and Deep Learning algorithms will be trained on the data to get to the best comparison using the relevant evaluation metrics."
   ]
  },
  {
   "cell_type": "markdown",
   "id": "secure-component",
   "metadata": {
    "ExecuteTime": {
     "end_time": "2021-08-24T10:57:14.919906Z",
     "start_time": "2021-08-24T10:57:14.915286Z"
    }
   },
   "source": [
    "### EDA"
   ]
  },
  {
   "cell_type": "code",
   "execution_count": 2,
   "id": "hidden-index",
   "metadata": {
    "ExecuteTime": {
     "end_time": "2021-09-17T13:41:44.548043Z",
     "start_time": "2021-09-17T13:41:44.544048Z"
    }
   },
   "outputs": [],
   "source": [
    "import numpy as np\n",
    "import pandas as pd\n",
    "import matplotlib.pyplot as plt\n",
    "import seaborn as sns"
   ]
  },
  {
   "cell_type": "code",
   "execution_count": 3,
   "id": "complex-window",
   "metadata": {
    "ExecuteTime": {
     "end_time": "2021-09-17T13:41:46.391002Z",
     "start_time": "2021-09-17T13:41:46.383929Z"
    }
   },
   "outputs": [],
   "source": [
    "# show all columns and with maximum width\n",
    "pd.set_option('display.max_columns', None)\n",
    "pd.set_option('max_colwidth', None)"
   ]
  },
  {
   "cell_type": "markdown",
   "id": "quick-macedonia",
   "metadata": {},
   "source": [
    "**Dataset Summary:**\n",
    "\n",
    "This has been downloaded form [Kaggle](https://www.kaggle.com/vstepanenko/disaster-tweets). \n",
    "The description below is from the same page.\n",
    "\n",
    "--------------\n",
    "Description:\n",
    "\n",
    "Context \\\n",
    "The file contains over 11,000 tweets associated with disaster keywords like “crash”, “quarantine”, and “bush fires” as well as the location and keyword itself. The data structure was inherited from Disasters on social media\n",
    "\n",
    "The tweets were collected on Jan 14th, 2020.\n",
    "\n",
    "Some of the topics people were tweeting:\n",
    "The eruption of Taal Volcano in Batangas, Philippines, Coronavirus, Bushfires in Australia, Iran downing of the airplane flight PS752.\n",
    "\n",
    "Disclaimer: The dataset contains text that may be considered profane, vulgar, or offensive.\n",
    "\n",
    "Inspiration \\\n",
    "The intention was to enrich the already available data for this topic with newly collected and manually classified tweets.\n",
    "The initial source Disasters on social media which is used in Real or Not? NLP with Disaster Tweets competition on Kaggle.\n"
   ]
  },
  {
   "cell_type": "markdown",
   "id": "abstract-material",
   "metadata": {},
   "source": [
    "---------------------------------------------------------------------"
   ]
  },
  {
   "cell_type": "markdown",
   "id": "sunrise-punishment",
   "metadata": {},
   "source": [
    "The first step is to read the csv file into a data frame and explore the dataframe different fields."
   ]
  },
  {
   "cell_type": "code",
   "execution_count": 4,
   "id": "august-miniature",
   "metadata": {
    "ExecuteTime": {
     "end_time": "2021-09-17T13:41:49.330545Z",
     "start_time": "2021-09-17T13:41:49.258453Z"
    }
   },
   "outputs": [],
   "source": [
    "# read dataframe\n",
    "df = pd.read_csv('data/tweets.csv', index_col='id')"
   ]
  },
  {
   "cell_type": "code",
   "execution_count": 5,
   "id": "binding-retail",
   "metadata": {
    "ExecuteTime": {
     "end_time": "2021-09-17T13:41:49.522957Z",
     "start_time": "2021-09-17T13:41:49.500958Z"
    }
   },
   "outputs": [
    {
     "data": {
      "text/html": [
       "<div>\n",
       "<style scoped>\n",
       "    .dataframe tbody tr th:only-of-type {\n",
       "        vertical-align: middle;\n",
       "    }\n",
       "\n",
       "    .dataframe tbody tr th {\n",
       "        vertical-align: top;\n",
       "    }\n",
       "\n",
       "    .dataframe thead th {\n",
       "        text-align: right;\n",
       "    }\n",
       "</style>\n",
       "<table border=\"1\" class=\"dataframe\">\n",
       "  <thead>\n",
       "    <tr style=\"text-align: right;\">\n",
       "      <th></th>\n",
       "      <th>keyword</th>\n",
       "      <th>location</th>\n",
       "      <th>text</th>\n",
       "      <th>target</th>\n",
       "    </tr>\n",
       "    <tr>\n",
       "      <th>id</th>\n",
       "      <th></th>\n",
       "      <th></th>\n",
       "      <th></th>\n",
       "      <th></th>\n",
       "    </tr>\n",
       "  </thead>\n",
       "  <tbody>\n",
       "    <tr>\n",
       "      <th>0</th>\n",
       "      <td>ablaze</td>\n",
       "      <td>NaN</td>\n",
       "      <td>Communal violence in Bhainsa, Telangana. \"Stones were pelted on Muslims' houses and some houses and vehicles were set ablaze…</td>\n",
       "      <td>1</td>\n",
       "    </tr>\n",
       "    <tr>\n",
       "      <th>1</th>\n",
       "      <td>ablaze</td>\n",
       "      <td>NaN</td>\n",
       "      <td>Telangana: Section 144 has been imposed in Bhainsa from January 13 to 15, after clash erupted between two groups on January 12. Po…</td>\n",
       "      <td>1</td>\n",
       "    </tr>\n",
       "    <tr>\n",
       "      <th>2</th>\n",
       "      <td>ablaze</td>\n",
       "      <td>New York City</td>\n",
       "      <td>Arsonist sets cars ablaze at dealership https://t.co/gOQvyJbpVI</td>\n",
       "      <td>1</td>\n",
       "    </tr>\n",
       "    <tr>\n",
       "      <th>3</th>\n",
       "      <td>ablaze</td>\n",
       "      <td>Morgantown, WV</td>\n",
       "      <td>Arsonist sets cars ablaze at dealership https://t.co/0gL7NUCPlb https://t.co/u1CcBhOWh9</td>\n",
       "      <td>1</td>\n",
       "    </tr>\n",
       "    <tr>\n",
       "      <th>4</th>\n",
       "      <td>ablaze</td>\n",
       "      <td>NaN</td>\n",
       "      <td>\"Lord Jesus, your love brings freedom and pardon. Fill me with your Holy Spirit and set my heart ablaze with your l… https://t.co/VlTznnPNi8</td>\n",
       "      <td>0</td>\n",
       "    </tr>\n",
       "  </tbody>\n",
       "</table>\n",
       "</div>"
      ],
      "text/plain": [
       "   keyword        location  \\\n",
       "id                           \n",
       "0   ablaze             NaN   \n",
       "1   ablaze             NaN   \n",
       "2   ablaze   New York City   \n",
       "3   ablaze  Morgantown, WV   \n",
       "4   ablaze             NaN   \n",
       "\n",
       "                                                                                                                                            text  \\\n",
       "id                                                                                                                                                 \n",
       "0                  Communal violence in Bhainsa, Telangana. \"Stones were pelted on Muslims' houses and some houses and vehicles were set ablaze…   \n",
       "1            Telangana: Section 144 has been imposed in Bhainsa from January 13 to 15, after clash erupted between two groups on January 12. Po…   \n",
       "2                                                                                Arsonist sets cars ablaze at dealership https://t.co/gOQvyJbpVI   \n",
       "3                                                        Arsonist sets cars ablaze at dealership https://t.co/0gL7NUCPlb https://t.co/u1CcBhOWh9   \n",
       "4   \"Lord Jesus, your love brings freedom and pardon. Fill me with your Holy Spirit and set my heart ablaze with your l… https://t.co/VlTznnPNi8   \n",
       "\n",
       "    target  \n",
       "id          \n",
       "0        1  \n",
       "1        1  \n",
       "2        1  \n",
       "3        1  \n",
       "4        0  "
      ]
     },
     "execution_count": 5,
     "metadata": {},
     "output_type": "execute_result"
    }
   ],
   "source": [
    "# show dataframe\n",
    "df.head()"
   ]
  },
  {
   "cell_type": "code",
   "execution_count": 6,
   "id": "novel-georgia",
   "metadata": {
    "ExecuteTime": {
     "end_time": "2021-09-17T13:41:49.717092Z",
     "start_time": "2021-09-17T13:41:49.703971Z"
    }
   },
   "outputs": [
    {
     "data": {
      "text/html": [
       "<div>\n",
       "<style scoped>\n",
       "    .dataframe tbody tr th:only-of-type {\n",
       "        vertical-align: middle;\n",
       "    }\n",
       "\n",
       "    .dataframe tbody tr th {\n",
       "        vertical-align: top;\n",
       "    }\n",
       "\n",
       "    .dataframe thead th {\n",
       "        text-align: right;\n",
       "    }\n",
       "</style>\n",
       "<table border=\"1\" class=\"dataframe\">\n",
       "  <thead>\n",
       "    <tr style=\"text-align: right;\">\n",
       "      <th></th>\n",
       "      <th>keyword</th>\n",
       "      <th>location</th>\n",
       "      <th>text</th>\n",
       "      <th>target</th>\n",
       "    </tr>\n",
       "    <tr>\n",
       "      <th>id</th>\n",
       "      <th></th>\n",
       "      <th></th>\n",
       "      <th></th>\n",
       "      <th></th>\n",
       "    </tr>\n",
       "  </thead>\n",
       "  <tbody>\n",
       "    <tr>\n",
       "      <th>11365</th>\n",
       "      <td>wrecked</td>\n",
       "      <td>Blue State in a red sea</td>\n",
       "      <td>Media should have warned us well in advance. This wrecked my whole night. I refuse to watch…</td>\n",
       "      <td>0</td>\n",
       "    </tr>\n",
       "    <tr>\n",
       "      <th>11366</th>\n",
       "      <td>wrecked</td>\n",
       "      <td>arohaonces</td>\n",
       "      <td>i feel directly attacked 💀 i consider moonbin &amp;amp; jinjin as my bias and im currently wrecked by rocky i hate this</td>\n",
       "      <td>0</td>\n",
       "    </tr>\n",
       "    <tr>\n",
       "      <th>11367</th>\n",
       "      <td>wrecked</td>\n",
       "      <td>🇵🇭</td>\n",
       "      <td>i feel directly attacked 💀 i consider moonbin &amp;amp; jinjin as my bias and im currently wrecked by rocky i hate this https://t.co/psLBecS7hI</td>\n",
       "      <td>0</td>\n",
       "    </tr>\n",
       "    <tr>\n",
       "      <th>11368</th>\n",
       "      <td>wrecked</td>\n",
       "      <td>auroraborealis</td>\n",
       "      <td>ok who remember \"outcast\" nd the \"dora\" au?? THOSE AU WRECKED OUR NERVES ND BRAINCELLS JDKSHSSJHS LEGENDS</td>\n",
       "      <td>0</td>\n",
       "    </tr>\n",
       "    <tr>\n",
       "      <th>11369</th>\n",
       "      <td>wrecked</td>\n",
       "      <td>NaN</td>\n",
       "      <td>Jake Corway wrecked while running 14th at IRP.</td>\n",
       "      <td>1</td>\n",
       "    </tr>\n",
       "  </tbody>\n",
       "</table>\n",
       "</div>"
      ],
      "text/plain": [
       "       keyword                 location  \\\n",
       "id                                        \n",
       "11365  wrecked  Blue State in a red sea   \n",
       "11366  wrecked               arohaonces   \n",
       "11367  wrecked                       🇵🇭   \n",
       "11368  wrecked           auroraborealis   \n",
       "11369  wrecked                      NaN   \n",
       "\n",
       "                                                                                                                                              text  \\\n",
       "id                                                                                                                                                   \n",
       "11365                                                 Media should have warned us well in advance. This wrecked my whole night. I refuse to watch…   \n",
       "11366                          i feel directly attacked 💀 i consider moonbin &amp; jinjin as my bias and im currently wrecked by rocky i hate this   \n",
       "11367  i feel directly attacked 💀 i consider moonbin &amp; jinjin as my bias and im currently wrecked by rocky i hate this https://t.co/psLBecS7hI   \n",
       "11368                                    ok who remember \"outcast\" nd the \"dora\" au?? THOSE AU WRECKED OUR NERVES ND BRAINCELLS JDKSHSSJHS LEGENDS   \n",
       "11369                                                                                               Jake Corway wrecked while running 14th at IRP.   \n",
       "\n",
       "       target  \n",
       "id             \n",
       "11365       0  \n",
       "11366       0  \n",
       "11367       0  \n",
       "11368       0  \n",
       "11369       1  "
      ]
     },
     "execution_count": 6,
     "metadata": {},
     "output_type": "execute_result"
    }
   ],
   "source": [
    "df.tail()"
   ]
  },
  {
   "cell_type": "markdown",
   "id": "raised-encounter",
   "metadata": {},
   "source": [
    "Some quick observations about the data:\n",
    "- The dataframe consists of 11,370 tweets\n",
    "- In addition to the id column that seems to be unique, the data consists of four (4) other columns, `keyword`, `location`, `text`, and `target`\n",
    "- The `keyword` column seems to be in an alphabetical order\n",
    "- The `location` column may not always refer to a real or a legible location or it may by Null\n",
    "- The `text` column contains characters other than text and therefore may need to be curated\n",
    "- The `target` column contains values 1's and 0's which may indicate 1 for real disaster and 0 for no disaster.\n",
    "    \n",
    "However more data exploration is required to confirm the above and to understand more about the dataset characteristics."
   ]
  },
  {
   "cell_type": "code",
   "execution_count": 7,
   "id": "weighted-array",
   "metadata": {
    "ExecuteTime": {
     "end_time": "2021-09-17T13:41:50.087603Z",
     "start_time": "2021-09-17T13:41:50.065124Z"
    }
   },
   "outputs": [
    {
     "name": "stdout",
     "output_type": "stream",
     "text": [
      "<class 'pandas.core.frame.DataFrame'>\n",
      "Int64Index: 11370 entries, 0 to 11369\n",
      "Data columns (total 4 columns):\n",
      " #   Column    Non-Null Count  Dtype \n",
      "---  ------    --------------  ----- \n",
      " 0   keyword   11370 non-null  object\n",
      " 1   location  7952 non-null   object\n",
      " 2   text      11370 non-null  object\n",
      " 3   target    11370 non-null  int64 \n",
      "dtypes: int64(1), object(3)\n",
      "memory usage: 444.1+ KB\n"
     ]
    }
   ],
   "source": [
    "df.info()"
   ]
  },
  {
   "cell_type": "markdown",
   "id": "hearing-acrylic",
   "metadata": {},
   "source": [
    "From the above, it is clear that:\n",
    "- No column has Null values except for the column `location` as it has an excess of 3,000 Null instances which account of almost 25% of the data in the column, we will see later after more investigation and data exploration as to how to deal with it\n",
    "- Each one of the columns has the appropriate data type\n",
    "\n",
    "Before going further we need to check for any duplicated rows and delete them as necessary."
   ]
  },
  {
   "cell_type": "code",
   "execution_count": 8,
   "id": "integrated-malta",
   "metadata": {
    "ExecuteTime": {
     "end_time": "2021-09-17T13:41:50.528897Z",
     "start_time": "2021-09-17T13:41:50.503002Z"
    }
   },
   "outputs": [
    {
     "data": {
      "text/plain": [
       "True"
      ]
     },
     "execution_count": 8,
     "metadata": {},
     "output_type": "execute_result"
    }
   ],
   "source": [
    "df.duplicated().any()"
   ]
  },
  {
   "cell_type": "markdown",
   "id": "useful-regulation",
   "metadata": {},
   "source": [
    "There seems to be some duplicated tweets, we need to look closer at these duplicated tweets."
   ]
  },
  {
   "cell_type": "code",
   "execution_count": 9,
   "id": "continuing-possible",
   "metadata": {
    "ExecuteTime": {
     "end_time": "2021-09-17T13:41:50.991699Z",
     "start_time": "2021-09-17T13:41:50.959886Z"
    }
   },
   "outputs": [
    {
     "data": {
      "text/html": [
       "<div>\n",
       "<style scoped>\n",
       "    .dataframe tbody tr th:only-of-type {\n",
       "        vertical-align: middle;\n",
       "    }\n",
       "\n",
       "    .dataframe tbody tr th {\n",
       "        vertical-align: top;\n",
       "    }\n",
       "\n",
       "    .dataframe thead th {\n",
       "        text-align: right;\n",
       "    }\n",
       "</style>\n",
       "<table border=\"1\" class=\"dataframe\">\n",
       "  <thead>\n",
       "    <tr style=\"text-align: right;\">\n",
       "      <th></th>\n",
       "      <th>keyword</th>\n",
       "      <th>location</th>\n",
       "      <th>text</th>\n",
       "      <th>target</th>\n",
       "    </tr>\n",
       "    <tr>\n",
       "      <th>id</th>\n",
       "      <th></th>\n",
       "      <th></th>\n",
       "      <th></th>\n",
       "      <th></th>\n",
       "    </tr>\n",
       "  </thead>\n",
       "  <tbody>\n",
       "    <tr>\n",
       "      <th>786</th>\n",
       "      <td>bioterror</td>\n",
       "      <td>NaN</td>\n",
       "      <td>Does the push for mass vaccination point toward a staged bioterror event? https://t.co/o10epcfRV6</td>\n",
       "      <td>0</td>\n",
       "    </tr>\n",
       "    <tr>\n",
       "      <th>787</th>\n",
       "      <td>bioterror</td>\n",
       "      <td>NaN</td>\n",
       "      <td>Does the push for mass vaccination point toward a staged bioterror event? https://t.co/o10epcfRV6</td>\n",
       "      <td>0</td>\n",
       "    </tr>\n",
       "    <tr>\n",
       "      <th>806</th>\n",
       "      <td>bioterror</td>\n",
       "      <td>United States</td>\n",
       "      <td>Does the push for vaccination point to a staged bioterror event? https://t.co/WWvKQkY1O2</td>\n",
       "      <td>0</td>\n",
       "    </tr>\n",
       "    <tr>\n",
       "      <th>808</th>\n",
       "      <td>bioterror</td>\n",
       "      <td>United States</td>\n",
       "      <td>Does the push for vaccination point to a staged bioterror event? https://t.co/WWvKQkY1O2</td>\n",
       "      <td>0</td>\n",
       "    </tr>\n",
       "    <tr>\n",
       "      <th>2054</th>\n",
       "      <td>casualty</td>\n",
       "      <td>NaN</td>\n",
       "      <td>Study? Don't you mean disinformation campaign? https://t.co/6UNSN6CzYq</td>\n",
       "      <td>0</td>\n",
       "    </tr>\n",
       "    <tr>\n",
       "      <th>2056</th>\n",
       "      <td>casualty</td>\n",
       "      <td>NaN</td>\n",
       "      <td>Study? Don't you mean disinformation campaign? https://t.co/6UNSN6CzYq</td>\n",
       "      <td>0</td>\n",
       "    </tr>\n",
       "    <tr>\n",
       "      <th>2493</th>\n",
       "      <td>collided</td>\n",
       "      <td>jasper,texas</td>\n",
       "      <td>the planet that collided with the earth gave us the moon... at least we got something out of the deal</td>\n",
       "      <td>0</td>\n",
       "    </tr>\n",
       "    <tr>\n",
       "      <th>2495</th>\n",
       "      <td>collided</td>\n",
       "      <td>jasper,texas</td>\n",
       "      <td>the planet that collided with the earth gave us the moon... at least we got something out of the deal</td>\n",
       "      <td>0</td>\n",
       "    </tr>\n",
       "    <tr>\n",
       "      <th>2586</th>\n",
       "      <td>collision</td>\n",
       "      <td>Isle of Man</td>\n",
       "      <td>ROAD TRAFFIC COLLISION Victoria Road Junction with Marathon Road. Road Partially Blocked. Police en route.</td>\n",
       "      <td>1</td>\n",
       "    </tr>\n",
       "    <tr>\n",
       "      <th>2597</th>\n",
       "      <td>collision</td>\n",
       "      <td>Isle of Man</td>\n",
       "      <td>ROAD TRAFFIC COLLISION Victoria Road Junction with Marathon Road. Road Partially Blocked. Police en route.</td>\n",
       "      <td>1</td>\n",
       "    </tr>\n",
       "    <tr>\n",
       "      <th>3809</th>\n",
       "      <td>desolate</td>\n",
       "      <td>NaN</td>\n",
       "      <td>\"Let their habitation be desolate; [and] let none dwell in their tents.\" ~Psalms 69:25 #Bible #Poetry #God</td>\n",
       "      <td>0</td>\n",
       "    </tr>\n",
       "    <tr>\n",
       "      <th>3813</th>\n",
       "      <td>desolate</td>\n",
       "      <td>NaN</td>\n",
       "      <td>\"Let their habitation be desolate; [and] let none dwell in their tents.\" ~Psalms 69:25 #Bible #Poetry #God</td>\n",
       "      <td>0</td>\n",
       "    </tr>\n",
       "    <tr>\n",
       "      <th>4424</th>\n",
       "      <td>drowned</td>\n",
       "      <td>1200-1500</td>\n",
       "      <td>you have fallen into the mill-pond and drowned</td>\n",
       "      <td>0</td>\n",
       "    </tr>\n",
       "    <tr>\n",
       "      <th>4434</th>\n",
       "      <td>drowned</td>\n",
       "      <td>1200-1500</td>\n",
       "      <td>you have fallen into the mill-pond and drowned</td>\n",
       "      <td>0</td>\n",
       "    </tr>\n",
       "    <tr>\n",
       "      <th>4491</th>\n",
       "      <td>drowning</td>\n",
       "      <td>NaN</td>\n",
       "      <td>when i was drowning, that’s when i can finally breathe #Lover #BestRemix #iHeartAwards</td>\n",
       "      <td>0</td>\n",
       "    </tr>\n",
       "    <tr>\n",
       "      <th>4498</th>\n",
       "      <td>drowning</td>\n",
       "      <td>NaN</td>\n",
       "      <td>when i was drowning, that’s when i can finally breathe #Lover #BestRemix #iHeartAwards</td>\n",
       "      <td>0</td>\n",
       "    </tr>\n",
       "    <tr>\n",
       "      <th>4670</th>\n",
       "      <td>electrocute</td>\n",
       "      <td>NaN</td>\n",
       "      <td>jasmine: “i’m about to go electrocute my pussy ill call you back”</td>\n",
       "      <td>0</td>\n",
       "    </tr>\n",
       "    <tr>\n",
       "      <th>4671</th>\n",
       "      <td>electrocute</td>\n",
       "      <td>NaN</td>\n",
       "      <td>jasmine: “i’m about to go electrocute my pussy ill call you back”</td>\n",
       "      <td>0</td>\n",
       "    </tr>\n",
       "    <tr>\n",
       "      <th>4708</th>\n",
       "      <td>electrocute</td>\n",
       "      <td>NaN</td>\n",
       "      <td>You electrocute our desperate daughter</td>\n",
       "      <td>0</td>\n",
       "    </tr>\n",
       "    <tr>\n",
       "      <th>4711</th>\n",
       "      <td>electrocute</td>\n",
       "      <td>NaN</td>\n",
       "      <td>You electrocute our desperate daughter</td>\n",
       "      <td>0</td>\n",
       "    </tr>\n",
       "    <tr>\n",
       "      <th>5439</th>\n",
       "      <td>fatality</td>\n",
       "      <td>NaN</td>\n",
       "      <td>Haha Fatality! Wait, that’s Mortal Kombat.</td>\n",
       "      <td>0</td>\n",
       "    </tr>\n",
       "    <tr>\n",
       "      <th>5446</th>\n",
       "      <td>fatality</td>\n",
       "      <td>NaN</td>\n",
       "      <td>Haha Fatality! Wait, that’s Mortal Kombat.</td>\n",
       "      <td>0</td>\n",
       "    </tr>\n",
       "    <tr>\n",
       "      <th>5918</th>\n",
       "      <td>floods</td>\n",
       "      <td>Madrid, España</td>\n",
       "      <td>I want to help you with my project to save the Caribbean Sea from floods and hurricanes https://t.co/qD8Om9NqQK</td>\n",
       "      <td>0</td>\n",
       "    </tr>\n",
       "    <tr>\n",
       "      <th>5923</th>\n",
       "      <td>floods</td>\n",
       "      <td>Madrid, España</td>\n",
       "      <td>I want to help you with my project to save the Caribbean Sea from floods and hurricanes https://t.co/qD8Om9NqQK</td>\n",
       "      <td>0</td>\n",
       "    </tr>\n",
       "    <tr>\n",
       "      <th>5936</th>\n",
       "      <td>floods</td>\n",
       "      <td>Madrid, España</td>\n",
       "      <td>I want to help you with my project to save the Caribbean Sea from floods and hurricanes https://t.co/qD8Om9NqQK</td>\n",
       "      <td>0</td>\n",
       "    </tr>\n",
       "    <tr>\n",
       "      <th>6420</th>\n",
       "      <td>hijack</td>\n",
       "      <td>NaN</td>\n",
       "      <td>not to hijack this tweet for my own purposes but... kim sunggyu the live. now. https://t.co/RlLPO7XtiG</td>\n",
       "      <td>0</td>\n",
       "    </tr>\n",
       "    <tr>\n",
       "      <th>6426</th>\n",
       "      <td>hijack</td>\n",
       "      <td>NaN</td>\n",
       "      <td>not to hijack this tweet for my own purposes but... kim sunggyu the live. now. https://t.co/RlLPO7XtiG</td>\n",
       "      <td>0</td>\n",
       "    </tr>\n",
       "    <tr>\n",
       "      <th>6684</th>\n",
       "      <td>hostages</td>\n",
       "      <td>NaN</td>\n",
       "      <td>GIVE ME BIG SALAMI OR I SHOOT THE HOSTAGES</td>\n",
       "      <td>0</td>\n",
       "    </tr>\n",
       "    <tr>\n",
       "      <th>6685</th>\n",
       "      <td>hostages</td>\n",
       "      <td>NaN</td>\n",
       "      <td>GIVE ME BIG SALAMI OR I SHOOT THE HOSTAGES</td>\n",
       "      <td>0</td>\n",
       "    </tr>\n",
       "    <tr>\n",
       "      <th>6705</th>\n",
       "      <td>hurricane</td>\n",
       "      <td>NaN</td>\n",
       "      <td>Trump says there was an imminent threat, but there wasn’t. Trump said Alabama was in the path of Hurricane Dorian, but…</td>\n",
       "      <td>0</td>\n",
       "    </tr>\n",
       "    <tr>\n",
       "      <th>6706</th>\n",
       "      <td>hurricane</td>\n",
       "      <td>NaN</td>\n",
       "      <td>Trump says there was an imminent threat, but there wasn’t. Trump said Alabama was in the path of Hurricane Dorian, but…</td>\n",
       "      <td>0</td>\n",
       "    </tr>\n",
       "    <tr>\n",
       "      <th>7445</th>\n",
       "      <td>meltdown</td>\n",
       "      <td>NaN</td>\n",
       "      <td>\"There was a national meltdown. Middle-aged women were losing the plot\" - Anupama Chopra #20YearsOfHrithikRoshan</td>\n",
       "      <td>0</td>\n",
       "    </tr>\n",
       "    <tr>\n",
       "      <th>7451</th>\n",
       "      <td>meltdown</td>\n",
       "      <td>NaN</td>\n",
       "      <td>\"There was a national meltdown. Middle-aged women were losing the plot\" - Anupama Chopra #20YearsOfHrithikRoshan</td>\n",
       "      <td>0</td>\n",
       "    </tr>\n",
       "    <tr>\n",
       "      <th>7930</th>\n",
       "      <td>oil%20spill</td>\n",
       "      <td>NaN</td>\n",
       "      <td>Pipeline Fights Class Certification in California Oil Spill Suit https://t.co/GaFsXlXEBx</td>\n",
       "      <td>0</td>\n",
       "    </tr>\n",
       "    <tr>\n",
       "      <th>7952</th>\n",
       "      <td>oil%20spill</td>\n",
       "      <td>NaN</td>\n",
       "      <td>Pipeline Fights Class Certification in California Oil Spill Suit https://t.co/GaFsXlXEBx</td>\n",
       "      <td>0</td>\n",
       "    </tr>\n",
       "    <tr>\n",
       "      <th>10845</th>\n",
       "      <td>war%20zone</td>\n",
       "      <td>Chicago, IL</td>\n",
       "      <td>War Zone [prod. By Legacy] https://t.co/pwUCnqpkDE</td>\n",
       "      <td>0</td>\n",
       "    </tr>\n",
       "    <tr>\n",
       "      <th>10847</th>\n",
       "      <td>war%20zone</td>\n",
       "      <td>Chicago, IL</td>\n",
       "      <td>War Zone [prod. By Legacy] https://t.co/pwUCnqpkDE</td>\n",
       "      <td>0</td>\n",
       "    </tr>\n",
       "    <tr>\n",
       "      <th>11171</th>\n",
       "      <td>wounded</td>\n",
       "      <td>NaN</td>\n",
       "      <td>Man arrested after 8 wounded in stabbing spree in Colorado Springs, police say https://t.co/VIoRe7HNLU</td>\n",
       "      <td>1</td>\n",
       "    </tr>\n",
       "    <tr>\n",
       "      <th>11184</th>\n",
       "      <td>wounded</td>\n",
       "      <td>NaN</td>\n",
       "      <td>Man arrested after 8 wounded in stabbing spree in Colorado Springs, police say https://t.co/VIoRe7HNLU</td>\n",
       "      <td>1</td>\n",
       "    </tr>\n",
       "  </tbody>\n",
       "</table>\n",
       "</div>"
      ],
      "text/plain": [
       "           keyword        location  \\\n",
       "id                                   \n",
       "786      bioterror             NaN   \n",
       "787      bioterror             NaN   \n",
       "806      bioterror   United States   \n",
       "808      bioterror   United States   \n",
       "2054      casualty             NaN   \n",
       "2056      casualty             NaN   \n",
       "2493      collided    jasper,texas   \n",
       "2495      collided    jasper,texas   \n",
       "2586     collision     Isle of Man   \n",
       "2597     collision     Isle of Man   \n",
       "3809      desolate             NaN   \n",
       "3813      desolate             NaN   \n",
       "4424       drowned       1200-1500   \n",
       "4434       drowned       1200-1500   \n",
       "4491      drowning             NaN   \n",
       "4498      drowning             NaN   \n",
       "4670   electrocute             NaN   \n",
       "4671   electrocute             NaN   \n",
       "4708   electrocute             NaN   \n",
       "4711   electrocute             NaN   \n",
       "5439      fatality             NaN   \n",
       "5446      fatality             NaN   \n",
       "5918        floods  Madrid, España   \n",
       "5923        floods  Madrid, España   \n",
       "5936        floods  Madrid, España   \n",
       "6420        hijack             NaN   \n",
       "6426        hijack             NaN   \n",
       "6684      hostages             NaN   \n",
       "6685      hostages             NaN   \n",
       "6705     hurricane             NaN   \n",
       "6706     hurricane             NaN   \n",
       "7445      meltdown             NaN   \n",
       "7451      meltdown             NaN   \n",
       "7930   oil%20spill             NaN   \n",
       "7952   oil%20spill             NaN   \n",
       "10845   war%20zone     Chicago, IL   \n",
       "10847   war%20zone     Chicago, IL   \n",
       "11171      wounded             NaN   \n",
       "11184      wounded             NaN   \n",
       "\n",
       "                                                                                                                          text  \\\n",
       "id                                                                                                                               \n",
       "786                          Does the push for mass vaccination point toward a staged bioterror event? https://t.co/o10epcfRV6   \n",
       "787                          Does the push for mass vaccination point toward a staged bioterror event? https://t.co/o10epcfRV6   \n",
       "806                                   Does the push for vaccination point to a staged bioterror event? https://t.co/WWvKQkY1O2   \n",
       "808                                   Does the push for vaccination point to a staged bioterror event? https://t.co/WWvKQkY1O2   \n",
       "2054                                                    Study? Don't you mean disinformation campaign? https://t.co/6UNSN6CzYq   \n",
       "2056                                                    Study? Don't you mean disinformation campaign? https://t.co/6UNSN6CzYq   \n",
       "2493                     the planet that collided with the earth gave us the moon... at least we got something out of the deal   \n",
       "2495                     the planet that collided with the earth gave us the moon... at least we got something out of the deal   \n",
       "2586                ROAD TRAFFIC COLLISION Victoria Road Junction with Marathon Road. Road Partially Blocked. Police en route.   \n",
       "2597                ROAD TRAFFIC COLLISION Victoria Road Junction with Marathon Road. Road Partially Blocked. Police en route.   \n",
       "3809                \"Let their habitation be desolate; [and] let none dwell in their tents.\" ~Psalms 69:25 #Bible #Poetry #God   \n",
       "3813                \"Let their habitation be desolate; [and] let none dwell in their tents.\" ~Psalms 69:25 #Bible #Poetry #God   \n",
       "4424                                                                            you have fallen into the mill-pond and drowned   \n",
       "4434                                                                            you have fallen into the mill-pond and drowned   \n",
       "4491                                    when i was drowning, that’s when i can finally breathe #Lover #BestRemix #iHeartAwards   \n",
       "4498                                    when i was drowning, that’s when i can finally breathe #Lover #BestRemix #iHeartAwards   \n",
       "4670                                                         jasmine: “i’m about to go electrocute my pussy ill call you back”   \n",
       "4671                                                         jasmine: “i’m about to go electrocute my pussy ill call you back”   \n",
       "4708                                                                                    You electrocute our desperate daughter   \n",
       "4711                                                                                    You electrocute our desperate daughter   \n",
       "5439                                                                                Haha Fatality! Wait, that’s Mortal Kombat.   \n",
       "5446                                                                                Haha Fatality! Wait, that’s Mortal Kombat.   \n",
       "5918           I want to help you with my project to save the Caribbean Sea from floods and hurricanes https://t.co/qD8Om9NqQK   \n",
       "5923           I want to help you with my project to save the Caribbean Sea from floods and hurricanes https://t.co/qD8Om9NqQK   \n",
       "5936           I want to help you with my project to save the Caribbean Sea from floods and hurricanes https://t.co/qD8Om9NqQK   \n",
       "6420                    not to hijack this tweet for my own purposes but... kim sunggyu the live. now. https://t.co/RlLPO7XtiG   \n",
       "6426                    not to hijack this tweet for my own purposes but... kim sunggyu the live. now. https://t.co/RlLPO7XtiG   \n",
       "6684                                                                                GIVE ME BIG SALAMI OR I SHOOT THE HOSTAGES   \n",
       "6685                                                                                GIVE ME BIG SALAMI OR I SHOOT THE HOSTAGES   \n",
       "6705   Trump says there was an imminent threat, but there wasn’t. Trump said Alabama was in the path of Hurricane Dorian, but…   \n",
       "6706   Trump says there was an imminent threat, but there wasn’t. Trump said Alabama was in the path of Hurricane Dorian, but…   \n",
       "7445          \"There was a national meltdown. Middle-aged women were losing the plot\" - Anupama Chopra #20YearsOfHrithikRoshan   \n",
       "7451          \"There was a national meltdown. Middle-aged women were losing the plot\" - Anupama Chopra #20YearsOfHrithikRoshan   \n",
       "7930                                  Pipeline Fights Class Certification in California Oil Spill Suit https://t.co/GaFsXlXEBx   \n",
       "7952                                  Pipeline Fights Class Certification in California Oil Spill Suit https://t.co/GaFsXlXEBx   \n",
       "10845                                                                       War Zone [prod. By Legacy] https://t.co/pwUCnqpkDE   \n",
       "10847                                                                       War Zone [prod. By Legacy] https://t.co/pwUCnqpkDE   \n",
       "11171                   Man arrested after 8 wounded in stabbing spree in Colorado Springs, police say https://t.co/VIoRe7HNLU   \n",
       "11184                   Man arrested after 8 wounded in stabbing spree in Colorado Springs, police say https://t.co/VIoRe7HNLU   \n",
       "\n",
       "       target  \n",
       "id             \n",
       "786         0  \n",
       "787         0  \n",
       "806         0  \n",
       "808         0  \n",
       "2054        0  \n",
       "2056        0  \n",
       "2493        0  \n",
       "2495        0  \n",
       "2586        1  \n",
       "2597        1  \n",
       "3809        0  \n",
       "3813        0  \n",
       "4424        0  \n",
       "4434        0  \n",
       "4491        0  \n",
       "4498        0  \n",
       "4670        0  \n",
       "4671        0  \n",
       "4708        0  \n",
       "4711        0  \n",
       "5439        0  \n",
       "5446        0  \n",
       "5918        0  \n",
       "5923        0  \n",
       "5936        0  \n",
       "6420        0  \n",
       "6426        0  \n",
       "6684        0  \n",
       "6685        0  \n",
       "6705        0  \n",
       "6706        0  \n",
       "7445        0  \n",
       "7451        0  \n",
       "7930        0  \n",
       "7952        0  \n",
       "10845       0  \n",
       "10847       0  \n",
       "11171       1  \n",
       "11184       1  "
      ]
     },
     "execution_count": 9,
     "metadata": {},
     "output_type": "execute_result"
    }
   ],
   "source": [
    "df[df.duplicated(keep=False)] # keep = false to look at all occurrences to better comapre"
   ]
  },
  {
   "cell_type": "markdown",
   "id": "hearing-reproduction",
   "metadata": {},
   "source": [
    "There are many exact tweets replicas that may exist for various reasons, nevertheless, as far as our classifier is concerned, these duplicates must be deleted, and this will be done next."
   ]
  },
  {
   "cell_type": "code",
   "execution_count": 10,
   "id": "mineral-world",
   "metadata": {
    "ExecuteTime": {
     "end_time": "2021-09-17T13:41:51.304818Z",
     "start_time": "2021-09-17T13:41:51.283776Z"
    }
   },
   "outputs": [
    {
     "data": {
      "text/plain": [
       "keyword     20\n",
       "location     7\n",
       "text        20\n",
       "target      20\n",
       "dtype: int64"
      ]
     },
     "execution_count": 10,
     "metadata": {},
     "output_type": "execute_result"
    }
   ],
   "source": [
    "# First get the count of the duplicates\n",
    "df[df.duplicated()].count()"
   ]
  },
  {
   "cell_type": "markdown",
   "id": "hawaiian-treasury",
   "metadata": {},
   "source": [
    "There are 20 duplicates."
   ]
  },
  {
   "cell_type": "code",
   "execution_count": 11,
   "id": "excited-antenna",
   "metadata": {
    "ExecuteTime": {
     "end_time": "2021-09-17T13:41:51.591066Z",
     "start_time": "2021-09-17T13:41:51.573033Z"
    }
   },
   "outputs": [],
   "source": [
    "df = df.drop_duplicates()"
   ]
  },
  {
   "cell_type": "markdown",
   "id": "raised-major",
   "metadata": {
    "ExecuteTime": {
     "end_time": "2021-09-03T11:25:22.300674Z",
     "start_time": "2021-09-03T11:25:22.287893Z"
    }
   },
   "source": [
    "Check again if the duplicates still exist."
   ]
  },
  {
   "cell_type": "code",
   "execution_count": 12,
   "id": "eastern-cookie",
   "metadata": {
    "ExecuteTime": {
     "end_time": "2021-09-17T13:41:51.905615Z",
     "start_time": "2021-09-17T13:41:51.883003Z"
    }
   },
   "outputs": [
    {
     "data": {
      "text/html": [
       "<div>\n",
       "<style scoped>\n",
       "    .dataframe tbody tr th:only-of-type {\n",
       "        vertical-align: middle;\n",
       "    }\n",
       "\n",
       "    .dataframe tbody tr th {\n",
       "        vertical-align: top;\n",
       "    }\n",
       "\n",
       "    .dataframe thead th {\n",
       "        text-align: right;\n",
       "    }\n",
       "</style>\n",
       "<table border=\"1\" class=\"dataframe\">\n",
       "  <thead>\n",
       "    <tr style=\"text-align: right;\">\n",
       "      <th></th>\n",
       "      <th>keyword</th>\n",
       "      <th>location</th>\n",
       "      <th>text</th>\n",
       "      <th>target</th>\n",
       "    </tr>\n",
       "    <tr>\n",
       "      <th>id</th>\n",
       "      <th></th>\n",
       "      <th></th>\n",
       "      <th></th>\n",
       "      <th></th>\n",
       "    </tr>\n",
       "  </thead>\n",
       "  <tbody>\n",
       "  </tbody>\n",
       "</table>\n",
       "</div>"
      ],
      "text/plain": [
       "Empty DataFrame\n",
       "Columns: [keyword, location, text, target]\n",
       "Index: []"
      ]
     },
     "execution_count": 12,
     "metadata": {},
     "output_type": "execute_result"
    }
   ],
   "source": [
    "df[df.duplicated(keep=False)]"
   ]
  },
  {
   "cell_type": "markdown",
   "id": "pediatric-cement",
   "metadata": {},
   "source": [
    "Al duplicates deleted successfully. The following also confirms that our dataframe has reduced by 20 rows in size."
   ]
  },
  {
   "cell_type": "code",
   "execution_count": 13,
   "id": "under-cliff",
   "metadata": {
    "ExecuteTime": {
     "end_time": "2021-09-17T13:41:52.330429Z",
     "start_time": "2021-09-17T13:41:52.317922Z"
    }
   },
   "outputs": [
    {
     "name": "stdout",
     "output_type": "stream",
     "text": [
      "<class 'pandas.core.frame.DataFrame'>\n",
      "Int64Index: 11350 entries, 0 to 11369\n",
      "Data columns (total 4 columns):\n",
      " #   Column    Non-Null Count  Dtype \n",
      "---  ------    --------------  ----- \n",
      " 0   keyword   11350 non-null  object\n",
      " 1   location  7945 non-null   object\n",
      " 2   text      11350 non-null  object\n",
      " 3   target    11350 non-null  int64 \n",
      "dtypes: int64(1), object(3)\n",
      "memory usage: 443.4+ KB\n"
     ]
    }
   ],
   "source": [
    "df.info()"
   ]
  },
  {
   "cell_type": "markdown",
   "id": "spare-communist",
   "metadata": {},
   "source": [
    "This is not to be confused with duplication on a a column or two where for instance two different persons tweet the same tweet but where a column such as the `location` indicates that the tweets are two different tweets posted by the same person about two different topics or possibly the same tweet text tweeted by two different people about the same topic. With the absence of the Twitter tweet id, this is not easy to confirm."
   ]
  },
  {
   "cell_type": "markdown",
   "id": "mineral-writer",
   "metadata": {},
   "source": [
    "Let us now have a look at the `location` column and try to explore its content to decide on the impact of disregarding it from our analysis due to the huge amount of Null entries. "
   ]
  },
  {
   "cell_type": "code",
   "execution_count": 14,
   "id": "colored-photography",
   "metadata": {
    "ExecuteTime": {
     "end_time": "2021-09-17T13:41:53.532001Z",
     "start_time": "2021-09-17T13:41:53.521872Z"
    }
   },
   "outputs": [
    {
     "data": {
      "text/plain": [
       "4504"
      ]
     },
     "execution_count": 14,
     "metadata": {},
     "output_type": "execute_result"
    }
   ],
   "source": [
    "# check for unique values\n",
    "df['location'].nunique()"
   ]
  },
  {
   "cell_type": "code",
   "execution_count": 15,
   "id": "reliable-retreat",
   "metadata": {
    "ExecuteTime": {
     "end_time": "2021-09-17T13:41:53.841205Z",
     "start_time": "2021-09-17T13:41:53.826930Z"
    }
   },
   "outputs": [
    {
     "name": "stdout",
     "output_type": "stream",
     "text": [
      "Looking at the `location` frequency of occurrences in order DESC:\n"
     ]
    },
    {
     "data": {
      "text/plain": [
       "United States      95\n",
       "Australia          83\n",
       "London, England    81\n",
       "UK                 77\n",
       "India              74\n",
       "London             69\n",
       "United Kingdom     59\n",
       "USA                52\n",
       "California, USA    47\n",
       "Los Angeles, CA    45\n",
       "Name: location, dtype: int64"
      ]
     },
     "execution_count": 15,
     "metadata": {},
     "output_type": "execute_result"
    }
   ],
   "source": [
    "print('Looking at the `location` frequency of occurrences in order DESC:'), \n",
    "df['location'].value_counts().head(10)"
   ]
  },
  {
   "cell_type": "code",
   "execution_count": 16,
   "id": "stuck-indianapolis",
   "metadata": {
    "ExecuteTime": {
     "end_time": "2021-09-17T13:41:54.155870Z",
     "start_time": "2021-09-17T13:41:54.142067Z"
    }
   },
   "outputs": [
    {
     "name": "stdout",
     "output_type": "stream",
     "text": [
      "Looking at the least common `location` values:\n"
     ]
    },
    {
     "data": {
      "text/plain": [
       "D right place @ d right time      1\n",
       "manchester city forever           1\n",
       "Spartanburg, SC                   1\n",
       "Alkebulan                         1\n",
       "Venus,Milkyway#themorningstar     1\n",
       "BREAKTHROUGH HydroMolecularMed    1\n",
       "w domu u keanu                    1\n",
       "the interstices                   1\n",
       "Joburg                            1\n",
       "18歳 約174.5cm 約49kg                1\n",
       "Name: location, dtype: int64"
      ]
     },
     "execution_count": 16,
     "metadata": {},
     "output_type": "execute_result"
    }
   ],
   "source": [
    "print('Looking at the least common `location` values:'),\n",
    "df['location'].value_counts().tail(10)"
   ]
  },
  {
   "cell_type": "markdown",
   "id": "micro-miami",
   "metadata": {},
   "source": [
    "Now we can see that there are 4,504 unique values of the `location` column out of the ~7,500 Non-Null values with `United States` on the top of the list with 95 occurrence."
   ]
  },
  {
   "cell_type": "markdown",
   "id": "extensive-creature",
   "metadata": {},
   "source": [
    "This column shows \"the location the tweet was sent from (may be blank)\" according to the dataset owner on Kaggle. Although the data contained in this column does not appear to be homogenous, yet it appears to be holding useful information that has a potential to separate between classes should there was no Null values that account for ~25% of the entries. \\\n",
    "Now, the question is whether to remove this column all together or retain it and replace the Nan values by a default value.\n",
    "\n",
    "It is not an easy question to answer at this stage but for simplifying he analysis I will remove this column. The reason behind this is the fact that the data in this column needs huge pre-processing before being of an effective use as the information within the column is not homogenous as it was mentioned earlier."
   ]
  },
  {
   "cell_type": "code",
   "execution_count": 17,
   "id": "forward-danish",
   "metadata": {
    "ExecuteTime": {
     "end_time": "2021-09-17T13:42:02.600535Z",
     "start_time": "2021-09-17T13:42:02.593567Z"
    }
   },
   "outputs": [],
   "source": [
    "# drop the column `location` from the dataframe\n",
    "df = df.drop(columns='location', axis = 1)"
   ]
  },
  {
   "cell_type": "code",
   "execution_count": 18,
   "id": "silent-ancient",
   "metadata": {
    "ExecuteTime": {
     "end_time": "2021-09-17T13:42:07.332752Z",
     "start_time": "2021-09-17T13:42:07.321723Z"
    }
   },
   "outputs": [
    {
     "data": {
      "text/html": [
       "<div>\n",
       "<style scoped>\n",
       "    .dataframe tbody tr th:only-of-type {\n",
       "        vertical-align: middle;\n",
       "    }\n",
       "\n",
       "    .dataframe tbody tr th {\n",
       "        vertical-align: top;\n",
       "    }\n",
       "\n",
       "    .dataframe thead th {\n",
       "        text-align: right;\n",
       "    }\n",
       "</style>\n",
       "<table border=\"1\" class=\"dataframe\">\n",
       "  <thead>\n",
       "    <tr style=\"text-align: right;\">\n",
       "      <th></th>\n",
       "      <th>keyword</th>\n",
       "      <th>text</th>\n",
       "      <th>target</th>\n",
       "    </tr>\n",
       "    <tr>\n",
       "      <th>id</th>\n",
       "      <th></th>\n",
       "      <th></th>\n",
       "      <th></th>\n",
       "    </tr>\n",
       "  </thead>\n",
       "  <tbody>\n",
       "    <tr>\n",
       "      <th>0</th>\n",
       "      <td>ablaze</td>\n",
       "      <td>Communal violence in Bhainsa, Telangana. \"Stones were pelted on Muslims' houses and some houses and vehicles were set ablaze…</td>\n",
       "      <td>1</td>\n",
       "    </tr>\n",
       "    <tr>\n",
       "      <th>1</th>\n",
       "      <td>ablaze</td>\n",
       "      <td>Telangana: Section 144 has been imposed in Bhainsa from January 13 to 15, after clash erupted between two groups on January 12. Po…</td>\n",
       "      <td>1</td>\n",
       "    </tr>\n",
       "    <tr>\n",
       "      <th>2</th>\n",
       "      <td>ablaze</td>\n",
       "      <td>Arsonist sets cars ablaze at dealership https://t.co/gOQvyJbpVI</td>\n",
       "      <td>1</td>\n",
       "    </tr>\n",
       "    <tr>\n",
       "      <th>3</th>\n",
       "      <td>ablaze</td>\n",
       "      <td>Arsonist sets cars ablaze at dealership https://t.co/0gL7NUCPlb https://t.co/u1CcBhOWh9</td>\n",
       "      <td>1</td>\n",
       "    </tr>\n",
       "    <tr>\n",
       "      <th>4</th>\n",
       "      <td>ablaze</td>\n",
       "      <td>\"Lord Jesus, your love brings freedom and pardon. Fill me with your Holy Spirit and set my heart ablaze with your l… https://t.co/VlTznnPNi8</td>\n",
       "      <td>0</td>\n",
       "    </tr>\n",
       "  </tbody>\n",
       "</table>\n",
       "</div>"
      ],
      "text/plain": [
       "   keyword  \\\n",
       "id           \n",
       "0   ablaze   \n",
       "1   ablaze   \n",
       "2   ablaze   \n",
       "3   ablaze   \n",
       "4   ablaze   \n",
       "\n",
       "                                                                                                                                            text  \\\n",
       "id                                                                                                                                                 \n",
       "0                  Communal violence in Bhainsa, Telangana. \"Stones were pelted on Muslims' houses and some houses and vehicles were set ablaze…   \n",
       "1            Telangana: Section 144 has been imposed in Bhainsa from January 13 to 15, after clash erupted between two groups on January 12. Po…   \n",
       "2                                                                                Arsonist sets cars ablaze at dealership https://t.co/gOQvyJbpVI   \n",
       "3                                                        Arsonist sets cars ablaze at dealership https://t.co/0gL7NUCPlb https://t.co/u1CcBhOWh9   \n",
       "4   \"Lord Jesus, your love brings freedom and pardon. Fill me with your Holy Spirit and set my heart ablaze with your l… https://t.co/VlTznnPNi8   \n",
       "\n",
       "    target  \n",
       "id          \n",
       "0        1  \n",
       "1        1  \n",
       "2        1  \n",
       "3        1  \n",
       "4        0  "
      ]
     },
     "execution_count": 18,
     "metadata": {},
     "output_type": "execute_result"
    }
   ],
   "source": [
    "# and check\n",
    "df.head()"
   ]
  },
  {
   "cell_type": "markdown",
   "id": "premier-orlando",
   "metadata": {},
   "source": [
    "The dataframe is now clean and ready for pre-processing before modeling, but before that, let us do some exploration to understand more about the data content."
   ]
  },
  {
   "cell_type": "code",
   "execution_count": 19,
   "id": "signed-exhibition",
   "metadata": {
    "ExecuteTime": {
     "end_time": "2021-09-17T13:42:08.881408Z",
     "start_time": "2021-09-17T13:42:08.866408Z"
    }
   },
   "outputs": [
    {
     "name": "stdout",
     "output_type": "stream",
     "text": [
      "The class balance is 81.0% and 19.0% for the Negative and the Positive classes respectively.\n"
     ]
    }
   ],
   "source": [
    "# data balance\n",
    "neg_class, pos_class = round((df['target'].value_counts()/df.shape[0]) * 100, 0)\n",
    "print(f'The class balance is {neg_class}% and {pos_class}% \\\n",
    "for the Negative and the Positive classes respectively.')"
   ]
  },
  {
   "cell_type": "code",
   "execution_count": 20,
   "id": "amateur-petroleum",
   "metadata": {
    "ExecuteTime": {
     "end_time": "2021-09-17T13:42:09.635569Z",
     "start_time": "2021-09-17T13:42:09.404819Z"
    }
   },
   "outputs": [
    {
     "data": {
      "image/png": "[encoded data removed]",
      "text/plain": [
       "<Figure size 1080x360 with 1 Axes>"
      ]
     },
     "metadata": {
      "needs_background": "light"
     },
     "output_type": "display_data"
    }
   ],
   "source": [
    "# visualize the class imbalance\n",
    "plt.figure(figsize = (15,5))\n",
    "\n",
    "df['target'].value_counts().plot.barh()\n",
    "plt.title('Frequency of Classes')\n",
    "plt.grid()\n",
    "\n",
    "plt.show()"
   ]
  },
  {
   "cell_type": "markdown",
   "id": "together-belly",
   "metadata": {
    "ExecuteTime": {
     "end_time": "2021-09-03T13:33:36.066342Z",
     "start_time": "2021-09-03T13:33:36.058341Z"
    }
   },
   "source": [
    "It is clear that the data is imbalanced with ~ 80:20 between the negative class and the positive class respectively. This is off course a problem that we need to address before we model the data as class imbalance can impact the classifier performance."
   ]
  },
  {
   "cell_type": "markdown",
   "id": "political-favor",
   "metadata": {},
   "source": [
    "Also, it will be interesting to explore the `keyword` column more and see its related statistics and  whether is a dominant pattern."
   ]
  },
  {
   "cell_type": "code",
   "execution_count": 21,
   "id": "listed-clearing",
   "metadata": {
    "ExecuteTime": {
     "end_time": "2021-09-17T13:42:10.780478Z",
     "start_time": "2021-09-17T13:42:10.766479Z"
    }
   },
   "outputs": [
    {
     "name": "stdout",
     "output_type": "stream",
     "text": [
      "There are 219 unique values in the `keyword` column:\n"
     ]
    },
    {
     "data": {
      "text/plain": [
       "(thunderstorm     93\n",
       " flattened        88\n",
       " stretcher        86\n",
       " mass%20murder    86\n",
       " drown            83\n",
       "                  ..\n",
       " electrocuted     16\n",
       " rainstorm        11\n",
       " deluged          10\n",
       " siren            10\n",
       " tsunami           6\n",
       " Name: keyword, Length: 219, dtype: int64,)"
      ]
     },
     "execution_count": 21,
     "metadata": {},
     "output_type": "execute_result"
    }
   ],
   "source": [
    "print(f'There are {df[\"keyword\"].value_counts().count()} unique values in the `keyword` column:'),\n",
    "df['keyword'].value_counts(), "
   ]
  },
  {
   "cell_type": "markdown",
   "id": "based-radio",
   "metadata": {},
   "source": [
    "There are 219 unique keywords on the column. Apparently, the column needs cleaning on the pre-processing stage, for instance, the value mass%20murder does not seem to be indicative unless it is curated. let us look at some random entires of the same column."
   ]
  },
  {
   "cell_type": "code",
   "execution_count": 22,
   "id": "waiting-retrieval",
   "metadata": {
    "ExecuteTime": {
     "end_time": "2021-09-17T13:42:11.661153Z",
     "start_time": "2021-09-17T13:42:11.647147Z"
    }
   },
   "outputs": [
    {
     "data": {
      "text/html": [
       "<div>\n",
       "<style scoped>\n",
       "    .dataframe tbody tr th:only-of-type {\n",
       "        vertical-align: middle;\n",
       "    }\n",
       "\n",
       "    .dataframe tbody tr th {\n",
       "        vertical-align: top;\n",
       "    }\n",
       "\n",
       "    .dataframe thead th {\n",
       "        text-align: right;\n",
       "    }\n",
       "</style>\n",
       "<table border=\"1\" class=\"dataframe\">\n",
       "  <thead>\n",
       "    <tr style=\"text-align: right;\">\n",
       "      <th></th>\n",
       "      <th>keyword</th>\n",
       "      <th>text</th>\n",
       "      <th>target</th>\n",
       "    </tr>\n",
       "    <tr>\n",
       "      <th>id</th>\n",
       "      <th></th>\n",
       "      <th></th>\n",
       "      <th></th>\n",
       "    </tr>\n",
       "  </thead>\n",
       "  <tbody>\n",
       "    <tr>\n",
       "      <th>910</th>\n",
       "      <td>blazing</td>\n",
       "      <td>-Twinkle, twinkle, little star How I wonder what you are Up above the world so high Like a diamond in the sky🌟☁️.… https://t.co/wT8FJQHnme</td>\n",
       "      <td>0</td>\n",
       "    </tr>\n",
       "    <tr>\n",
       "      <th>11053</th>\n",
       "      <td>wild%20fires</td>\n",
       "      <td>Australia brought back during a dark time in his rehab from injury. Now, he's doing what he can to help return the…</td>\n",
       "      <td>1</td>\n",
       "    </tr>\n",
       "    <tr>\n",
       "      <th>630</th>\n",
       "      <td>attacked</td>\n",
       "      <td>#Jansena Chief and cine star #PawanKalyan arrived at #Vizag airport and headed to Kakinada where his party men were at…</td>\n",
       "      <td>0</td>\n",
       "    </tr>\n",
       "    <tr>\n",
       "      <th>3594</th>\n",
       "      <td>derail</td>\n",
       "      <td>Consider the possibility that what’s actually driving our opponents crazy is the fact that we’re surging in the polls and…</td>\n",
       "      <td>0</td>\n",
       "    </tr>\n",
       "    <tr>\n",
       "      <th>7294</th>\n",
       "      <td>mass%20murder</td>\n",
       "      <td>Oh wait, lets' not forget Anders Brevik, that guy who committed mass murder,… https://t.co/Ys6Mx8USjk</td>\n",
       "      <td>1</td>\n",
       "    </tr>\n",
       "  </tbody>\n",
       "</table>\n",
       "</div>"
      ],
      "text/plain": [
       "             keyword  \\\n",
       "id                     \n",
       "910          blazing   \n",
       "11053   wild%20fires   \n",
       "630         attacked   \n",
       "3594          derail   \n",
       "7294   mass%20murder   \n",
       "\n",
       "                                                                                                                                             text  \\\n",
       "id                                                                                                                                                  \n",
       "910    -Twinkle, twinkle, little star How I wonder what you are Up above the world so high Like a diamond in the sky🌟☁️.… https://t.co/wT8FJQHnme   \n",
       "11053                         Australia brought back during a dark time in his rehab from injury. Now, he's doing what he can to help return the…   \n",
       "630                       #Jansena Chief and cine star #PawanKalyan arrived at #Vizag airport and headed to Kakinada where his party men were at…   \n",
       "3594                   Consider the possibility that what’s actually driving our opponents crazy is the fact that we’re surging in the polls and…   \n",
       "7294                                        Oh wait, lets' not forget Anders Brevik, that guy who committed mass murder,… https://t.co/Ys6Mx8USjk   \n",
       "\n",
       "       target  \n",
       "id             \n",
       "910         0  \n",
       "11053       1  \n",
       "630         0  \n",
       "3594        0  \n",
       "7294        1  "
      ]
     },
     "execution_count": 22,
     "metadata": {},
     "output_type": "execute_result"
    }
   ],
   "source": [
    "df.sample(5)"
   ]
  },
  {
   "cell_type": "code",
   "execution_count": 23,
   "id": "conventional-pasta",
   "metadata": {
    "ExecuteTime": {
     "end_time": "2021-09-17T13:42:12.163517Z",
     "start_time": "2021-09-17T13:42:12.153499Z"
    }
   },
   "outputs": [
    {
     "data": {
      "text/plain": [
       "'$DMAN $0.019 Fastest Growing Disruptive Technology Detecting #Oil up to 40,000ft New Oil Leases/… https://t.co/qrMndCqgxq'"
      ]
     },
     "execution_count": 23,
     "metadata": {},
     "output_type": "execute_result"
    }
   ],
   "source": [
    "df['text'][9126]"
   ]
  },
  {
   "cell_type": "code",
   "execution_count": 24,
   "id": "pursuant-herald",
   "metadata": {
    "ExecuteTime": {
     "end_time": "2021-09-17T13:42:12.709533Z",
     "start_time": "2021-09-17T13:42:12.702255Z"
    }
   },
   "outputs": [
    {
     "data": {
      "text/plain": [
       "'*tornado sirens going off* my dad: *opens back door* let me see how bad it really is'"
      ]
     },
     "execution_count": 24,
     "metadata": {},
     "output_type": "execute_result"
    }
   ],
   "source": [
    "df['text'][9324]"
   ]
  },
  {
   "cell_type": "markdown",
   "id": "secret-mobility",
   "metadata": {},
   "source": [
    "The column is mostly one word, but sometimes the entry consists of two words (bi-grams) stuck together with the character set `%20` in between. some examples:\n",
    "- emergency%20services\t\n",
    "- forest%20fire\n",
    "- body%20bag \\\n",
    "etc.."
   ]
  },
  {
   "cell_type": "code",
   "execution_count": 25,
   "id": "understood-amino",
   "metadata": {
    "ExecuteTime": {
     "end_time": "2021-09-17T13:42:13.666523Z",
     "start_time": "2021-09-17T13:42:13.634439Z"
    }
   },
   "outputs": [
    {
     "name": "stdout",
     "output_type": "stream",
     "text": [
      "The number of these bigrams in the keyword column is 1819 entries out of 11350 entries in the dataframe and this account for 16.0% of the column instances.\n"
     ]
    }
   ],
   "source": [
    "print(f'The number of these bigrams in the keyword column is {df[df[\"keyword\"].str.contains(\"%20\")].count()[0]} \\\n",
    "entries out of {df.shape[0]} entries in the dataframe and this account for\\\n",
    " {round(df[df[\"keyword\"].str.contains(\"%20\")].count()[0]/df.shape[0], 2)*100}% of the column instances.') "
   ]
  },
  {
   "cell_type": "markdown",
   "id": "opposed-press",
   "metadata": {},
   "source": [
    "The above off course includes all duplicated entries."
   ]
  },
  {
   "cell_type": "markdown",
   "id": "identical-storage",
   "metadata": {},
   "source": [
    "Looking at the `text` column and trying to understand more about its structure we see that:"
   ]
  },
  {
   "cell_type": "code",
   "execution_count": 26,
   "id": "confidential-corruption",
   "metadata": {
    "ExecuteTime": {
     "end_time": "2021-09-17T13:42:15.849643Z",
     "start_time": "2021-09-17T13:42:15.825856Z"
    }
   },
   "outputs": [
    {
     "name": "stdout",
     "output_type": "stream",
     "text": [
      "The maximum and minimum string length in the text column are 149 and 5 characters respectively.\n"
     ]
    }
   ],
   "source": [
    "print(f'The maximum and minimum string length in the text column are \\\n",
    "{max(df[\"text\"].str.len())} and {min(df[\"text\"].str.len())} characters respectively.')"
   ]
  },
  {
   "cell_type": "markdown",
   "id": "conditional-power",
   "metadata": {
    "ExecuteTime": {
     "end_time": "2021-09-03T14:40:07.556391Z",
     "start_time": "2021-09-03T14:40:07.538255Z"
    }
   },
   "source": [
    "Looking at the distribution of the string length, we get:"
   ]
  },
  {
   "cell_type": "code",
   "execution_count": 27,
   "id": "loved-anatomy",
   "metadata": {
    "ExecuteTime": {
     "end_time": "2021-09-17T13:42:21.931467Z",
     "start_time": "2021-09-17T13:42:18.792970Z"
    }
   },
   "outputs": [
    {
     "data": {
      "image/png": "[encoded data removed]",
      "text/plain": [
       "<Figure size 1080x2160 with 1 Axes>"
      ]
     },
     "metadata": {
      "needs_background": "light"
     },
     "output_type": "display_data"
    }
   ],
   "source": [
    "# visualize the `text` Column String Length\n",
    "plt.figure(figsize = (15,30))\n",
    "\n",
    "df['text'].str.len().value_counts().plot.barh()\n",
    "plt.title('Frequency of `text` Column String Length')\n",
    "plt.grid()\n",
    "\n",
    "plt.show()"
   ]
  },
  {
   "cell_type": "markdown",
   "id": "brutal-tomato",
   "metadata": {},
   "source": [
    "It seems that string length of a big part of the entries lay around > 120 characters. What is the impact of this?\n",
    "- Fist off, this indicates that our bag of words will result in a large number of columns\n",
    "- What else?"
   ]
  },
  {
   "cell_type": "markdown",
   "id": "micro-devil",
   "metadata": {},
   "source": [
    "We can also see explore the same column for the hash-tags (#) and the URLs. "
   ]
  },
  {
   "cell_type": "code",
   "execution_count": 28,
   "id": "negative-wildlife",
   "metadata": {
    "ExecuteTime": {
     "end_time": "2021-09-17T13:42:21.950100Z",
     "start_time": "2021-09-17T13:42:21.933466Z"
    }
   },
   "outputs": [
    {
     "name": "stdout",
     "output_type": "stream",
     "text": [
      "The number of the entries in the `text` column with URLs is 5495 entries out of 11350 entries in the dataframe.\n"
     ]
    }
   ],
   "source": [
    "print(f'The number of the entries in the `text` column with URLs is {df[df[\"text\"].str.contains(\"http\")].count()[0]} \\\n",
    "entries out of {df.shape[0]} entries in the dataframe.') "
   ]
  },
  {
   "cell_type": "code",
   "execution_count": 29,
   "id": "olympic-lover",
   "metadata": {
    "ExecuteTime": {
     "end_time": "2021-09-17T13:42:22.308227Z",
     "start_time": "2021-09-17T13:42:22.292616Z"
    }
   },
   "outputs": [
    {
     "name": "stdout",
     "output_type": "stream",
     "text": [
      "The number of the entries in the `text` column with hash-tags is 1529 entries out of 11350 entries in the dataframe.\n"
     ]
    }
   ],
   "source": [
    "print(f'The number of the entries in the `text` column with hash-tags is {df[df[\"text\"].str.contains(\"#\")].count()[0]} \\\n",
    "entries out of {df.shape[0]} entries in the dataframe.') "
   ]
  },
  {
   "cell_type": "markdown",
   "id": "blessed-english",
   "metadata": {},
   "source": [
    "It is the clear that more than half of the entries of the `text` column include some sort of a URL/link."
   ]
  },
  {
   "cell_type": "markdown",
   "id": "ignored-museum",
   "metadata": {},
   "source": [
    "The removal of these characters if any will done in the preprocessing phase and that put column number of character will decrease, for now we can say that the data is ready for pre-processing."
   ]
  },
  {
   "cell_type": "markdown",
   "id": "defensive-hearing",
   "metadata": {},
   "source": [
    "-----------------------------------"
   ]
  },
  {
   "cell_type": "markdown",
   "id": "consolidated-democrat",
   "metadata": {},
   "source": [
    "### Pre-processing"
   ]
  },
  {
   "cell_type": "markdown",
   "id": "municipal-consistency",
   "metadata": {},
   "source": [
    "The steps of pre-processing consists of:\n",
    "- Clean the text from URL's and hashtags and other non-text characters such as emojis\n",
    "- Change all text to lower case\n",
    "- normalize words by word Stemming and or lemmatization\n",
    "- Generate features by the use of Bag-of-words and/or TF_IDF\n",
    "- Use N-Grams to account for some meanings of linked adjacent words\n",
    "- Use maximum and minimum words occurrences to control the number of features"
   ]
  },
  {
   "cell_type": "markdown",
   "id": "retired-illness",
   "metadata": {},
   "source": [
    "The above off course is not an exhaustive list of all preprocessing for NLP application, but are standard for most cases. We will start by this and adjust as we go."
   ]
  },
  {
   "cell_type": "markdown",
   "id": "individual-occasions",
   "metadata": {},
   "source": [
    "#### URL's and Hashtags removal"
   ]
  },
  {
   "cell_type": "markdown",
   "id": "humanitarian-guinea",
   "metadata": {},
   "source": [
    "First off, it is necessary to stress the point that URL's are not considered as part of the natural language as they do not hold any potential information about the intent of the person writing the tweet. Furthermore they are very likely to be unique at every occurrence rendering them close to useless to work as class discriminators."
   ]
  },
  {
   "cell_type": "markdown",
   "id": "nervous-structure",
   "metadata": {},
   "source": [
    "It will make more sense if we could remove all the unwanted characters of the text column at once. By the help of exploring them by running a `df.sample()` function, we see that we should remove:\n",
    "- URL's\n",
    "- Hashtags\n",
    "- Emojis such as 🏏 and the like\n",
    "- words from other languages such as #仮面ライダーゼロワン ＃仮面ライダーバルキリ and so\n",
    "\n",
    "\n",
    "URL's can be removed by searching for the `https` keyword and deleting all the string attached to it. all the rest of the unwanted characters can be deleted by deleting anything that is not and ascii character."
   ]
  },
  {
   "cell_type": "code",
   "execution_count": 30,
   "id": "recovered-cricket",
   "metadata": {
    "ExecuteTime": {
     "end_time": "2021-09-17T13:42:31.238321Z",
     "start_time": "2021-09-17T13:42:31.184668Z"
    }
   },
   "outputs": [],
   "source": [
    "# Remove all emojs and other languages - ASCII for ENGLISH\n",
    "# https://stackoverflow.com/questions/57514169/how-can-i-remove-emojis-from-a-dataframe\n",
    "df = df.astype(str).apply(lambda x: x.str.encode('ascii', 'ignore').str.decode('ascii'))"
   ]
  },
  {
   "cell_type": "markdown",
   "id": "quarterly-designer",
   "metadata": {},
   "source": [
    "This works by encoding all text into ascii and then decoding it again removing all non-ascii characters."
   ]
  },
  {
   "cell_type": "code",
   "execution_count": 31,
   "id": "cheap-pledge",
   "metadata": {
    "ExecuteTime": {
     "end_time": "2021-09-17T13:42:35.047460Z",
     "start_time": "2021-09-17T13:42:35.032358Z"
    }
   },
   "outputs": [
    {
     "data": {
      "text/html": [
       "<div>\n",
       "<style scoped>\n",
       "    .dataframe tbody tr th:only-of-type {\n",
       "        vertical-align: middle;\n",
       "    }\n",
       "\n",
       "    .dataframe tbody tr th {\n",
       "        vertical-align: top;\n",
       "    }\n",
       "\n",
       "    .dataframe thead th {\n",
       "        text-align: right;\n",
       "    }\n",
       "</style>\n",
       "<table border=\"1\" class=\"dataframe\">\n",
       "  <thead>\n",
       "    <tr style=\"text-align: right;\">\n",
       "      <th></th>\n",
       "      <th>keyword</th>\n",
       "      <th>text</th>\n",
       "      <th>target</th>\n",
       "    </tr>\n",
       "    <tr>\n",
       "      <th>id</th>\n",
       "      <th></th>\n",
       "      <th></th>\n",
       "      <th></th>\n",
       "    </tr>\n",
       "  </thead>\n",
       "  <tbody>\n",
       "    <tr>\n",
       "      <th>7124</th>\n",
       "      <td>lightning</td>\n",
       "      <td>DECARLO - \"Lightning strikes twice\" Review https://t.co/PO0JmstJSG</td>\n",
       "      <td>0</td>\n",
       "    </tr>\n",
       "    <tr>\n",
       "      <th>1375</th>\n",
       "      <td>body%20bagging</td>\n",
       "      <td>Poor . I think hes dead after this body bagging.</td>\n",
       "      <td>1</td>\n",
       "    </tr>\n",
       "    <tr>\n",
       "      <th>8427</th>\n",
       "      <td>razed</td>\n",
       "      <td>Will his home be razed?</td>\n",
       "      <td>0</td>\n",
       "    </tr>\n",
       "    <tr>\n",
       "      <th>1613</th>\n",
       "      <td>bombing</td>\n",
       "      <td>Do these images disturb you?? They should . The bombing was planned!!! By who or whom?? The pictures on the left an</td>\n",
       "      <td>0</td>\n",
       "    </tr>\n",
       "    <tr>\n",
       "      <th>10415</th>\n",
       "      <td>trauma</td>\n",
       "      <td>Many thanks to everyone we are now suffering trauma after the fact and trying to get things back to normal. It has been very</td>\n",
       "      <td>1</td>\n",
       "    </tr>\n",
       "    <tr>\n",
       "      <th>5562</th>\n",
       "      <td>fire</td>\n",
       "      <td>There is an old Iranian proverb: You dont put the wooden pot on the fire twice. Someone needs to tel</td>\n",
       "      <td>0</td>\n",
       "    </tr>\n",
       "    <tr>\n",
       "      <th>51</th>\n",
       "      <td>accident</td>\n",
       "      <td>When you hurt your younger sibling by accident https://t.co/DAMTEoQtZU</td>\n",
       "      <td>0</td>\n",
       "    </tr>\n",
       "    <tr>\n",
       "      <th>3058</th>\n",
       "      <td>dead</td>\n",
       "      <td>kny stans quiet fuck we supposed to talk about everybody dead</td>\n",
       "      <td>0</td>\n",
       "    </tr>\n",
       "    <tr>\n",
       "      <th>290</th>\n",
       "      <td>annihilation</td>\n",
       "      <td>What in the annihilation is this? https://t.co/R806oQ6eaq</td>\n",
       "      <td>0</td>\n",
       "    </tr>\n",
       "    <tr>\n",
       "      <th>10155</th>\n",
       "      <td>thunder</td>\n",
       "      <td>i did something  https://t.co/nS1KFU2LET</td>\n",
       "      <td>0</td>\n",
       "    </tr>\n",
       "  </tbody>\n",
       "</table>\n",
       "</div>"
      ],
      "text/plain": [
       "              keyword  \\\n",
       "id                      \n",
       "7124        lightning   \n",
       "1375   body%20bagging   \n",
       "8427            razed   \n",
       "1613          bombing   \n",
       "10415          trauma   \n",
       "5562             fire   \n",
       "51           accident   \n",
       "3058             dead   \n",
       "290      annihilation   \n",
       "10155         thunder   \n",
       "\n",
       "                                                                                                                               text  \\\n",
       "id                                                                                                                                    \n",
       "7124                                                             DECARLO - \"Lightning strikes twice\" Review https://t.co/PO0JmstJSG   \n",
       "1375                                                                               Poor . I think hes dead after this body bagging.   \n",
       "8427                                                                                                        Will his home be razed?   \n",
       "1613            Do these images disturb you?? They should . The bombing was planned!!! By who or whom?? The pictures on the left an   \n",
       "10415  Many thanks to everyone we are now suffering trauma after the fact and trying to get things back to normal. It has been very   \n",
       "5562                           There is an old Iranian proverb: You dont put the wooden pot on the fire twice. Someone needs to tel   \n",
       "51                                                           When you hurt your younger sibling by accident https://t.co/DAMTEoQtZU   \n",
       "3058                                                                  kny stans quiet fuck we supposed to talk about everybody dead   \n",
       "290                                                                       What in the annihilation is this? https://t.co/R806oQ6eaq   \n",
       "10155                                                                                      i did something  https://t.co/nS1KFU2LET   \n",
       "\n",
       "      target  \n",
       "id            \n",
       "7124       0  \n",
       "1375       1  \n",
       "8427       0  \n",
       "1613       0  \n",
       "10415      1  \n",
       "5562       0  \n",
       "51         0  \n",
       "3058       0  \n",
       "290        0  \n",
       "10155      0  "
      ]
     },
     "execution_count": 31,
     "metadata": {},
     "output_type": "execute_result"
    }
   ],
   "source": [
    "# take and check some samples\n",
    "df.sample(10)"
   ]
  },
  {
   "cell_type": "markdown",
   "id": "infectious-expansion",
   "metadata": {},
   "source": [
    "As we see on the samples above, we have got rid of all emojis but not the URL's and the hashtags. These will be dealt with next. The most intuitive way to use regex in a a Lambda function to delete them since we do not know how many characters will follow the https or the hashtag."
   ]
  },
  {
   "cell_type": "code",
   "execution_count": 32,
   "id": "sharp-tuner",
   "metadata": {
    "ExecuteTime": {
     "end_time": "2021-09-17T13:42:36.500859Z",
     "start_time": "2021-09-17T13:42:36.426774Z"
    }
   },
   "outputs": [],
   "source": [
    "# removing all strings starting by http, www or #\n",
    "df = df.astype(str).apply(lambda x: x.str.replace('http\\S+|www.\\S+|#\\S+', '', case=False, regex=True))"
   ]
  },
  {
   "cell_type": "markdown",
   "id": "accepted-preservation",
   "metadata": {},
   "source": [
    "This works by removing all strings starting by http, www or #. Note that we did not want to use the same code line to delete the %20 in the keyword column as we would like to replace it by a space rather than deleting it and this will be done next, but for now let us look at some samples of out dataframe."
   ]
  },
  {
   "cell_type": "code",
   "execution_count": 33,
   "id": "south-certificate",
   "metadata": {
    "ExecuteTime": {
     "end_time": "2021-09-17T13:42:37.317103Z",
     "start_time": "2021-09-17T13:42:37.301193Z"
    }
   },
   "outputs": [
    {
     "data": {
      "text/html": [
       "<div>\n",
       "<style scoped>\n",
       "    .dataframe tbody tr th:only-of-type {\n",
       "        vertical-align: middle;\n",
       "    }\n",
       "\n",
       "    .dataframe tbody tr th {\n",
       "        vertical-align: top;\n",
       "    }\n",
       "\n",
       "    .dataframe thead th {\n",
       "        text-align: right;\n",
       "    }\n",
       "</style>\n",
       "<table border=\"1\" class=\"dataframe\">\n",
       "  <thead>\n",
       "    <tr style=\"text-align: right;\">\n",
       "      <th></th>\n",
       "      <th>keyword</th>\n",
       "      <th>text</th>\n",
       "      <th>target</th>\n",
       "    </tr>\n",
       "    <tr>\n",
       "      <th>id</th>\n",
       "      <th></th>\n",
       "      <th></th>\n",
       "      <th></th>\n",
       "    </tr>\n",
       "  </thead>\n",
       "  <tbody>\n",
       "    <tr>\n",
       "      <th>3623</th>\n",
       "      <td>derail</td>\n",
       "      <td>Govtshd provide employment to Hindus esp the Dalits to defuse the curren</td>\n",
       "      <td>0</td>\n",
       "    </tr>\n",
       "    <tr>\n",
       "      <th>645</th>\n",
       "      <td>attacked</td>\n",
       "      <td>The Congress attacked Modi and called him a Hindu Jinnah. Using words like Hindu Jinnah, Hindu terror</td>\n",
       "      <td>0</td>\n",
       "    </tr>\n",
       "    <tr>\n",
       "      <th>4411</th>\n",
       "      <td>drowned</td>\n",
       "      <td>The Batman who laughs cosplayed by (IG). Drowned cosplayed by cosplayprincesssunshine (IG). Joker Robin's cospla</td>\n",
       "      <td>0</td>\n",
       "    </tr>\n",
       "    <tr>\n",
       "      <th>10922</th>\n",
       "      <td>weapons</td>\n",
       "      <td>.: Our sanctions will continue until the regime stops its terrorist activity and commits to never having nuclear w</td>\n",
       "      <td>0</td>\n",
       "    </tr>\n",
       "    <tr>\n",
       "      <th>9135</th>\n",
       "      <td>seismic</td>\n",
       "      <td>Strong seismic movement detected at home. As much as 1.34 was detected 2020-01-14T05:57:59Z.</td>\n",
       "      <td>1</td>\n",
       "    </tr>\n",
       "    <tr>\n",
       "      <th>776</th>\n",
       "      <td>bioterror</td>\n",
       "      <td>Mexican Border: Portal For Swine Flu, TB, Bioterror  via</td>\n",
       "      <td>0</td>\n",
       "    </tr>\n",
       "    <tr>\n",
       "      <th>10814</th>\n",
       "      <td>war%20zone</td>\n",
       "      <td>take into consideration that this war zone was created 1500 years ago by a religious sect</td>\n",
       "      <td>0</td>\n",
       "    </tr>\n",
       "    <tr>\n",
       "      <th>5017</th>\n",
       "      <td>epicentre</td>\n",
       "      <td>So excited for Unknown Artists Band Live at the Epicentre Jan 24th! You can grab your tickets HERE&amp;gt;</td>\n",
       "      <td>0</td>\n",
       "    </tr>\n",
       "    <tr>\n",
       "      <th>4881</th>\n",
       "      <td>emergency%20services</td>\n",
       "      <td>True, what a mess we are in that abuse of our emergency services has become common place .</td>\n",
       "      <td>0</td>\n",
       "    </tr>\n",
       "    <tr>\n",
       "      <th>10482</th>\n",
       "      <td>traumatised</td>\n",
       "      <td>Last night I dreamt an octopus landed and suckered itself to my face. I am fucking traumatised this morning.</td>\n",
       "      <td>0</td>\n",
       "    </tr>\n",
       "  </tbody>\n",
       "</table>\n",
       "</div>"
      ],
      "text/plain": [
       "                    keyword  \\\n",
       "id                            \n",
       "3623                 derail   \n",
       "645                attacked   \n",
       "4411                drowned   \n",
       "10922               weapons   \n",
       "9135                seismic   \n",
       "776               bioterror   \n",
       "10814            war%20zone   \n",
       "5017              epicentre   \n",
       "4881   emergency%20services   \n",
       "10482           traumatised   \n",
       "\n",
       "                                                                                                                     text  \\\n",
       "id                                                                                                                          \n",
       "3623                                            Govtshd provide employment to Hindus esp the Dalits to defuse the curren    \n",
       "645                The Congress attacked Modi and called him a Hindu Jinnah. Using words like Hindu Jinnah, Hindu terror    \n",
       "4411     The Batman who laughs cosplayed by (IG). Drowned cosplayed by cosplayprincesssunshine (IG). Joker Robin's cospla   \n",
       "10922  .: Our sanctions will continue until the regime stops its terrorist activity and commits to never having nuclear w   \n",
       "9135                        Strong seismic movement detected at home. As much as 1.34 was detected 2020-01-14T05:57:59Z.    \n",
       "776                                                              Mexican Border: Portal For Swine Flu, TB, Bioterror  via   \n",
       "10814                           take into consideration that this war zone was created 1500 years ago by a religious sect   \n",
       "5017              So excited for Unknown Artists Band Live at the Epicentre Jan 24th! You can grab your tickets HERE&gt;    \n",
       "4881                           True, what a mess we are in that abuse of our emergency services has become common place .   \n",
       "10482        Last night I dreamt an octopus landed and suckered itself to my face. I am fucking traumatised this morning.   \n",
       "\n",
       "      target  \n",
       "id            \n",
       "3623       0  \n",
       "645        0  \n",
       "4411       0  \n",
       "10922      0  \n",
       "9135       1  \n",
       "776        0  \n",
       "10814      0  \n",
       "5017       0  \n",
       "4881       0  \n",
       "10482      0  "
      ]
     },
     "execution_count": 33,
     "metadata": {},
     "output_type": "execute_result"
    }
   ],
   "source": [
    "df.sample(10)"
   ]
  },
  {
   "cell_type": "code",
   "execution_count": 34,
   "id": "sunrise-optics",
   "metadata": {
    "ExecuteTime": {
     "end_time": "2021-09-17T13:42:38.196951Z",
     "start_time": "2021-09-17T13:42:38.168146Z"
    }
   },
   "outputs": [],
   "source": [
    "# replace %20 by a space\n",
    "# https://regex101.com/\n",
    "df['keyword'] = df['keyword'].replace('(%20)', ' ', regex=True)"
   ]
  },
  {
   "cell_type": "code",
   "execution_count": 35,
   "id": "economic-transcript",
   "metadata": {
    "ExecuteTime": {
     "end_time": "2021-09-17T13:42:38.597324Z",
     "start_time": "2021-09-17T13:42:38.583387Z"
    }
   },
   "outputs": [
    {
     "data": {
      "text/html": [
       "<div>\n",
       "<style scoped>\n",
       "    .dataframe tbody tr th:only-of-type {\n",
       "        vertical-align: middle;\n",
       "    }\n",
       "\n",
       "    .dataframe tbody tr th {\n",
       "        vertical-align: top;\n",
       "    }\n",
       "\n",
       "    .dataframe thead th {\n",
       "        text-align: right;\n",
       "    }\n",
       "</style>\n",
       "<table border=\"1\" class=\"dataframe\">\n",
       "  <thead>\n",
       "    <tr style=\"text-align: right;\">\n",
       "      <th></th>\n",
       "      <th>keyword</th>\n",
       "      <th>text</th>\n",
       "      <th>target</th>\n",
       "    </tr>\n",
       "    <tr>\n",
       "      <th>id</th>\n",
       "      <th></th>\n",
       "      <th></th>\n",
       "      <th></th>\n",
       "    </tr>\n",
       "  </thead>\n",
       "  <tbody>\n",
       "    <tr>\n",
       "      <th>674</th>\n",
       "      <td>avalanche</td>\n",
       "      <td>JUST IN: Avalanche strikes Indian Army post in Machil sector along LoC in Jammu &amp;amp; Kashmir. 5 soldiers were believed to b</td>\n",
       "      <td>1</td>\n",
       "    </tr>\n",
       "    <tr>\n",
       "      <th>8192</th>\n",
       "      <td>police</td>\n",
       "      <td>My days in the National Police Academy, Hyderabad</td>\n",
       "      <td>0</td>\n",
       "    </tr>\n",
       "    <tr>\n",
       "      <th>10966</th>\n",
       "      <td>weapons</td>\n",
       "      <td>A selfie stick, a marker pen, a spray glue and couple of posters. What do you think about these items?</td>\n",
       "      <td>0</td>\n",
       "    </tr>\n",
       "    <tr>\n",
       "      <th>6774</th>\n",
       "      <td>injured</td>\n",
       "      <td>Volunteers around Australia are caring for wildlife injured and orphaned in the bushfires.</td>\n",
       "      <td>1</td>\n",
       "    </tr>\n",
       "    <tr>\n",
       "      <th>10252</th>\n",
       "      <td>thunderstorm</td>\n",
       "      <td>Severe thunderstorm woke me up, had a panic attack due to sound of thunder. Not having a good time right now</td>\n",
       "      <td>1</td>\n",
       "    </tr>\n",
       "    <tr>\n",
       "      <th>5910</th>\n",
       "      <td>flooding</td>\n",
       "      <td>VENICE RUNS DRY: Gondolas stranded in mud just two months after severe flooding</td>\n",
       "      <td>1</td>\n",
       "    </tr>\n",
       "    <tr>\n",
       "      <th>4629</th>\n",
       "      <td>earthquake</td>\n",
       "      <td>The grant will go to the Foundation for Earthquake Relief Fund which will be used to activate a serie</td>\n",
       "      <td>0</td>\n",
       "    </tr>\n",
       "    <tr>\n",
       "      <th>10389</th>\n",
       "      <td>trapped</td>\n",
       "      <td>Don't waste your time living someone else's life. Don't be trapped by dogma-which is living with the results of other people's thinking.</td>\n",
       "      <td>0</td>\n",
       "    </tr>\n",
       "    <tr>\n",
       "      <th>2740</th>\n",
       "      <td>crashed</td>\n",
       "      <td>crashed my car</td>\n",
       "      <td>1</td>\n",
       "    </tr>\n",
       "    <tr>\n",
       "      <th>2487</th>\n",
       "      <td>collided</td>\n",
       "      <td>Sgt. David Edward Lloyd. One of THE FEW.  Killed when he collided with another Spitfire over Hayes. He</td>\n",
       "      <td>0</td>\n",
       "    </tr>\n",
       "  </tbody>\n",
       "</table>\n",
       "</div>"
      ],
      "text/plain": [
       "            keyword  \\\n",
       "id                    \n",
       "674       avalanche   \n",
       "8192         police   \n",
       "10966       weapons   \n",
       "6774        injured   \n",
       "10252  thunderstorm   \n",
       "5910       flooding   \n",
       "4629     earthquake   \n",
       "10389       trapped   \n",
       "2740        crashed   \n",
       "2487       collided   \n",
       "\n",
       "                                                                                                                                           text  \\\n",
       "id                                                                                                                                                \n",
       "674                JUST IN: Avalanche strikes Indian Army post in Machil sector along LoC in Jammu &amp; Kashmir. 5 soldiers were believed to b   \n",
       "8192                                                                                        My days in the National Police Academy, Hyderabad     \n",
       "10966                                  A selfie stick, a marker pen, a spray glue and couple of posters. What do you think about these items?     \n",
       "6774                                               Volunteers around Australia are caring for wildlife injured and orphaned in the bushfires.     \n",
       "10252                              Severe thunderstorm woke me up, had a panic attack due to sound of thunder. Not having a good time right now   \n",
       "5910                                                        VENICE RUNS DRY: Gondolas stranded in mud just two months after severe flooding       \n",
       "4629                                     The grant will go to the Foundation for Earthquake Relief Fund which will be used to activate a serie    \n",
       "10389  Don't waste your time living someone else's life. Don't be trapped by dogma-which is living with the results of other people's thinking.   \n",
       "2740                                                                                                                             crashed my car   \n",
       "2487                                     Sgt. David Edward Lloyd. One of THE FEW.  Killed when he collided with another Spitfire over Hayes. He   \n",
       "\n",
       "      target  \n",
       "id            \n",
       "674        1  \n",
       "8192       0  \n",
       "10966      0  \n",
       "6774       1  \n",
       "10252      1  \n",
       "5910       1  \n",
       "4629       0  \n",
       "10389      0  \n",
       "2740       1  \n",
       "2487       0  "
      ]
     },
     "execution_count": 35,
     "metadata": {},
     "output_type": "execute_result"
    }
   ],
   "source": [
    "df.sample(10)"
   ]
  },
  {
   "cell_type": "markdown",
   "id": "thousand-framework",
   "metadata": {},
   "source": [
    "Now the text and the keyword columns are clean and therefore we can proceed with the next steps on our pre-processing. The next one would by lowercasing our text before creating out bag-of-words. The ultimate purpose of the case_lowering is to prevent treating the same word twice should it has a duplicate with a capital letter.\n",
    "\n",
    "We can simply do this by using the string `.lower()` function wrapped in a Lambda function."
   ]
  },
  {
   "cell_type": "code",
   "execution_count": 36,
   "id": "written-doctor",
   "metadata": {
    "ExecuteTime": {
     "end_time": "2021-09-17T13:42:39.587403Z",
     "start_time": "2021-09-17T13:42:39.569096Z"
    }
   },
   "outputs": [],
   "source": [
    "# convert all words to lower-case\n",
    "df = df.astype(str).apply(lambda x: x.str.lower())"
   ]
  },
  {
   "cell_type": "code",
   "execution_count": 37,
   "id": "turkish-guess",
   "metadata": {
    "ExecuteTime": {
     "end_time": "2021-09-17T13:42:40.027081Z",
     "start_time": "2021-09-17T13:42:40.012491Z"
    }
   },
   "outputs": [
    {
     "data": {
      "text/html": [
       "<div>\n",
       "<style scoped>\n",
       "    .dataframe tbody tr th:only-of-type {\n",
       "        vertical-align: middle;\n",
       "    }\n",
       "\n",
       "    .dataframe tbody tr th {\n",
       "        vertical-align: top;\n",
       "    }\n",
       "\n",
       "    .dataframe thead th {\n",
       "        text-align: right;\n",
       "    }\n",
       "</style>\n",
       "<table border=\"1\" class=\"dataframe\">\n",
       "  <thead>\n",
       "    <tr style=\"text-align: right;\">\n",
       "      <th></th>\n",
       "      <th>keyword</th>\n",
       "      <th>text</th>\n",
       "      <th>target</th>\n",
       "    </tr>\n",
       "    <tr>\n",
       "      <th>id</th>\n",
       "      <th></th>\n",
       "      <th></th>\n",
       "      <th></th>\n",
       "    </tr>\n",
       "  </thead>\n",
       "  <tbody>\n",
       "    <tr>\n",
       "      <th>2390</th>\n",
       "      <td>collapsed</td>\n",
       "      <td>they had already collapsed though, there is no magic bullet to fix decade mess lets be honest. the ''virus''</td>\n",
       "      <td>0</td>\n",
       "    </tr>\n",
       "    <tr>\n",
       "      <th>1976</th>\n",
       "      <td>bush fires</td>\n",
       "      <td>in pairs, our workshop participants designed &amp;amp; coded a disaster detector system!  this pair designed a rural fire</td>\n",
       "      <td>0</td>\n",
       "    </tr>\n",
       "    <tr>\n",
       "      <th>1813</th>\n",
       "      <td>buildings on fire</td>\n",
       "      <td>fire them all on the top 3 floors of the fbi! take all computers, cell phones, copy machi</td>\n",
       "      <td>0</td>\n",
       "    </tr>\n",
       "    <tr>\n",
       "      <th>10523</th>\n",
       "      <td>trouble</td>\n",
       "      <td>it's parliament as a whole has an onus for this&amp;amp; the deterioration's down to all. the</td>\n",
       "      <td>0</td>\n",
       "    </tr>\n",
       "    <tr>\n",
       "      <th>6443</th>\n",
       "      <td>hijack</td>\n",
       "      <td>hey, , with headlines like this every handful of protesters could hijack the national media</td>\n",
       "      <td>0</td>\n",
       "    </tr>\n",
       "    <tr>\n",
       "      <th>565</th>\n",
       "      <td>attack</td>\n",
       "      <td>this has raised serious questions on national security. i had raised this even during the uri attack that they enter</td>\n",
       "      <td>0</td>\n",
       "    </tr>\n",
       "    <tr>\n",
       "      <th>6157</th>\n",
       "      <td>harm</td>\n",
       "      <td>he lost his job but never his monbebes so as long as we are here, we will never allow anyone to harm our hoseok again. we w</td>\n",
       "      <td>0</td>\n",
       "    </tr>\n",
       "    <tr>\n",
       "      <th>5319</th>\n",
       "      <td>famine</td>\n",
       "      <td>going back through my works serves as a reminder that i adore writing. i've been so focused on my characters that i</td>\n",
       "      <td>0</td>\n",
       "    </tr>\n",
       "    <tr>\n",
       "      <th>8415</th>\n",
       "      <td>razed</td>\n",
       "      <td>where was ramguha when 4 lakh kashmiri pandits flee from valley</td>\n",
       "      <td>0</td>\n",
       "    </tr>\n",
       "    <tr>\n",
       "      <th>10379</th>\n",
       "      <td>trapped</td>\n",
       "      <td>moose that was trapped in a crevice</td>\n",
       "      <td>0</td>\n",
       "    </tr>\n",
       "  </tbody>\n",
       "</table>\n",
       "</div>"
      ],
      "text/plain": [
       "                 keyword  \\\n",
       "id                         \n",
       "2390           collapsed   \n",
       "1976          bush fires   \n",
       "1813   buildings on fire   \n",
       "10523            trouble   \n",
       "6443              hijack   \n",
       "565               attack   \n",
       "6157                harm   \n",
       "5319              famine   \n",
       "8415               razed   \n",
       "10379            trapped   \n",
       "\n",
       "                                                                                                                              text  \\\n",
       "id                                                                                                                                   \n",
       "2390                  they had already collapsed though, there is no magic bullet to fix decade mess lets be honest. the ''virus''   \n",
       "1976        in pairs, our workshop participants designed &amp; coded a disaster detector system!  this pair designed a rural fire    \n",
       "1813                                    fire them all on the top 3 floors of the fbi! take all computers, cell phones, copy machi    \n",
       "10523                                    it's parliament as a whole has an onus for this&amp; the deterioration's down to all. the   \n",
       "6443                                  hey, , with headlines like this every handful of protesters could hijack the national media    \n",
       "565           this has raised serious questions on national security. i had raised this even during the uri attack that they enter   \n",
       "6157   he lost his job but never his monbebes so as long as we are here, we will never allow anyone to harm our hoseok again. we w   \n",
       "5319          going back through my works serves as a reminder that i adore writing. i've been so focused on my characters that i    \n",
       "8415                                                               where was ramguha when 4 lakh kashmiri pandits flee from valley   \n",
       "10379                                                                                         moose that was trapped in a crevice    \n",
       "\n",
       "      target  \n",
       "id            \n",
       "2390       0  \n",
       "1976       0  \n",
       "1813       0  \n",
       "10523      0  \n",
       "6443       0  \n",
       "565        0  \n",
       "6157       0  \n",
       "5319       0  \n",
       "8415       0  \n",
       "10379      0  "
      ]
     },
     "execution_count": 37,
     "metadata": {},
     "output_type": "execute_result"
    }
   ],
   "source": [
    "df.sample(10)"
   ]
  },
  {
   "cell_type": "markdown",
   "id": "significant-grove",
   "metadata": {},
   "source": [
    "Off course before we create our features, we will have to normalize the text by Stemming and/or Lemmatizing the text to reduce the number of the to-be generated features as this Stemming and Lemmatization return words back to their original forms but they do that differently. In fact, Stemming and Lemmatization are two different techniques to reduce the features dimensionality. Stemming is more mechanical and crude - but usually faster - and can result in words that do not exist as stemmers remove the words affixes. Lemmatization algorithms are more effective as they reduce the dimensionality by reducing words back to their basic dictionary form. They also use the documents surrounding words to perform the Lemmatization operation.\n",
    "\n",
    "For this project, we will not do stemming and only do Lemmatization since the feature number is not expected to massively be big after removing URL's.\n",
    "\n",
    "There are many Lemmatizers commonly used but we will using spaCy is said to be faster (Although this is not very significant on this project due to the number if words we have) and provides more accurate syntactic analysis that other Lemmatization algorithms such as NLTK.\n",
    "\n",
    "In addition to using spaCy for Lemmatization, we will also use it for Named Entity Recognition (NER) as this has a potential to enhance our model performance."
   ]
  },
  {
   "cell_type": "markdown",
   "id": "understanding-knock",
   "metadata": {},
   "source": [
    "Before we continue, we will need to split our data into train and test set to prevent data leakage. We will split our data into two sets, 75% for training and 25% for testing that we will later use for the model evaluation."
   ]
  },
  {
   "cell_type": "code",
   "execution_count": 38,
   "id": "peripheral-setting",
   "metadata": {
    "ExecuteTime": {
     "end_time": "2021-09-17T13:42:50.812087Z",
     "start_time": "2021-09-17T13:42:44.940580Z"
    }
   },
   "outputs": [],
   "source": [
    "from sklearn.model_selection import train_test_split"
   ]
  },
  {
   "cell_type": "code",
   "execution_count": 41,
   "id": "brazilian-bernard",
   "metadata": {
    "ExecuteTime": {
     "end_time": "2021-09-17T13:48:15.371472Z",
     "start_time": "2021-09-17T13:48:15.363366Z"
    }
   },
   "outputs": [],
   "source": [
    "# Rest index as we deleted many entries\n",
    "df.reset_index(inplace=True)"
   ]
  },
  {
   "cell_type": "code",
   "execution_count": 53,
   "id": "breeding-porcelain",
   "metadata": {
    "ExecuteTime": {
     "end_time": "2021-09-17T13:57:08.298219Z",
     "start_time": "2021-09-17T13:57:08.266476Z"
    }
   },
   "outputs": [],
   "source": [
    "# # Separate data into X and y before \n",
    "# X = \n",
    "# y = \n",
    "\n",
    "# splitting a stratified train and test data\n",
    "df_train, df_test = train_test_split(df, test_size = 0.25, random_state = 123, stratify = df['target'])"
   ]
  },
  {
   "cell_type": "code",
   "execution_count": 54,
   "id": "excess-partner",
   "metadata": {
    "ExecuteTime": {
     "end_time": "2021-09-17T13:57:09.141006Z",
     "start_time": "2021-09-17T13:57:09.135007Z"
    }
   },
   "outputs": [
    {
     "data": {
      "text/plain": [
       "((8512, 4), (2838, 4))"
      ]
     },
     "execution_count": 54,
     "metadata": {},
     "output_type": "execute_result"
    }
   ],
   "source": [
    "# checking the size of the split dataframes\n",
    "df_train.shape, df_test.shape"
   ]
  },
  {
   "cell_type": "markdown",
   "id": "celtic-jurisdiction",
   "metadata": {},
   "source": [
    "As we see above, the dataframe has now been split into two dataframes, train set as 75% of the data and test set with 25%. Now we can normalize the data."
   ]
  },
  {
   "cell_type": "code",
   "execution_count": null,
   "id": "italic-enforcement",
   "metadata": {},
   "outputs": [],
   "source": []
  },
  {
   "cell_type": "code",
   "execution_count": 81,
   "id": "recreational-marsh",
   "metadata": {
    "ExecuteTime": {
     "end_time": "2021-09-17T17:26:17.211876Z",
     "start_time": "2021-09-17T17:26:15.602351Z"
    }
   },
   "outputs": [
    {
     "name": "stdout",
     "output_type": "stream",
     "text": [
      "Name: spacy\n",
      "Version: 3.1.2\n",
      "Summary: Industrial-strength Natural Language Processing (NLP) in Python\n",
      "Home-page: https://spacy.io\n",
      "Author: Explosion\n",
      "Author-email: contact@explosion.ai\n",
      "License: MIT\n",
      "Location: c:\\users\\omass\\anaconda3\\envs\\deeplearning\\lib\\site-packages\n",
      "Requires: murmurhash, blis, pathy, thinc, tqdm, jinja2, packaging, typer, requests, catalogue, srsly, pydantic, setuptools, cymem, spacy-legacy, preshed, numpy, wasabi\n",
      "Required-by: en-core-web-sm\n"
     ]
    }
   ],
   "source": [
    "# Check the version of spaCy\n",
    "!pip show spacy"
   ]
  },
  {
   "cell_type": "code",
   "execution_count": 80,
   "id": "abroad-processor",
   "metadata": {
    "ExecuteTime": {
     "end_time": "2021-09-17T17:26:07.053832Z",
     "start_time": "2021-09-17T17:26:06.362455Z"
    }
   },
   "outputs": [],
   "source": [
    "# import SpaCy\n",
    "import spacy\n",
    "\n",
    "# Instantiate SpaCy\n",
    "spacy_Lemmatizer = spacy.load('en_core_web_sm')"
   ]
  },
  {
   "cell_type": "code",
   "execution_count": 61,
   "id": "contrary-relations",
   "metadata": {
    "ExecuteTime": {
     "end_time": "2021-09-17T16:06:29.118227Z",
     "start_time": "2021-09-17T16:04:55.233113Z"
    }
   },
   "outputs": [],
   "source": [
    "# copy the dataframes into a new container as we will use differnt dataframe versions in our modelling to make comparisons\n",
    "df_train_lemma_sc = df_train.copy()\n",
    "df_test_lemma_sc = df_test.copy()\n",
    "\n",
    "# function to tokize and lemmatize text\n",
    "def spacy_lemmatize(text):\n",
    "    lemmatized_text = '' \n",
    "    lemmatized_doc = spacy_Lemmatizer(text)\n",
    "    for token in lemmatized_doc:\n",
    "        lemmatized_text += ' ' + token.lemma_\n",
    "    \n",
    "    return lemmatized_text\n",
    "\n",
    "# Apply the lemmatizer on the train and test data\n",
    "df_train_lemma_sc['text_spacy_Lemmatized'] = df_train_lemma_sc.text.apply(spacy_lemmatize)\n",
    "df_test_lemma_sc['text_spacy_Lemmatized']  = df_test_lemma_sc.text.apply(spacy_lemmatize)"
   ]
  },
  {
   "cell_type": "markdown",
   "id": "treated-effect",
   "metadata": {},
   "source": [
    "As we can imagine, the above operation is not a short one, and yes, it took some time to finish, are around a minute and a half."
   ]
  },
  {
   "cell_type": "code",
   "execution_count": 76,
   "id": "great-conference",
   "metadata": {
    "ExecuteTime": {
     "end_time": "2021-09-17T16:28:49.420099Z",
     "start_time": "2021-09-17T16:28:49.395618Z"
    }
   },
   "outputs": [
    {
     "data": {
      "text/html": [
       "<div>\n",
       "<style scoped>\n",
       "    .dataframe tbody tr th:only-of-type {\n",
       "        vertical-align: middle;\n",
       "    }\n",
       "\n",
       "    .dataframe tbody tr th {\n",
       "        vertical-align: top;\n",
       "    }\n",
       "\n",
       "    .dataframe thead th {\n",
       "        text-align: right;\n",
       "    }\n",
       "</style>\n",
       "<table border=\"1\" class=\"dataframe\">\n",
       "  <thead>\n",
       "    <tr style=\"text-align: right;\">\n",
       "      <th></th>\n",
       "      <th>id</th>\n",
       "      <th>keyword</th>\n",
       "      <th>text</th>\n",
       "      <th>target</th>\n",
       "      <th>text_spacy_Lemmatized</th>\n",
       "    </tr>\n",
       "  </thead>\n",
       "  <tbody>\n",
       "    <tr>\n",
       "      <th>3419</th>\n",
       "      <td>3424</td>\n",
       "      <td>demolish</td>\n",
       "      <td>israeli authorities order jerusalemite to demolish his home via pic</td>\n",
       "      <td>0</td>\n",
       "      <td>israeli authority order jerusalemite to demolish his home via pic</td>\n",
       "    </tr>\n",
       "    <tr>\n",
       "      <th>5608</th>\n",
       "      <td>5619</td>\n",
       "      <td>fire truck</td>\n",
       "      <td>bong joon-ho to me just now re: his nominations for parasite: \"i feel it's like inception, where soon i'm going to wake up a</td>\n",
       "      <td>0</td>\n",
       "      <td>bong joon - ho to I just now re : his nomination for parasite : \" I feel it be like inception , where soon I be go to wake up a</td>\n",
       "    </tr>\n",
       "    <tr>\n",
       "      <th>8106</th>\n",
       "      <td>8124</td>\n",
       "      <td>panicking</td>\n",
       "      <td>it's a very old story. it's from a very old book. we have all heard about it before. why are the satanic panicking?</td>\n",
       "      <td>0</td>\n",
       "      <td>it be a very old story . it be from a very old book . we have all hear about it before . why be the satanic panicking ?</td>\n",
       "    </tr>\n",
       "    <tr>\n",
       "      <th>3710</th>\n",
       "      <td>3715</td>\n",
       "      <td>derailment</td>\n",
       "      <td>hi there, i'm very sorry about this. we are running a reduced service this morning to the freight tr</td>\n",
       "      <td>1</td>\n",
       "      <td>hi there , I be very sorry about this . we be run a reduce service this morning to the freight tr</td>\n",
       "    </tr>\n",
       "    <tr>\n",
       "      <th>6578</th>\n",
       "      <td>6592</td>\n",
       "      <td>hostage</td>\n",
       "      <td>it was not a witch hunt little boy, it's called an  you are the 3rd person in american history</td>\n",
       "      <td>0</td>\n",
       "      <td>it be not a witch hunt little boy , it be call an   you be the 3rd person in american history</td>\n",
       "    </tr>\n",
       "  </tbody>\n",
       "</table>\n",
       "</div>"
      ],
      "text/plain": [
       "        id     keyword  \\\n",
       "3419  3424    demolish   \n",
       "5608  5619  fire truck   \n",
       "8106  8124   panicking   \n",
       "3710  3715  derailment   \n",
       "6578  6592     hostage   \n",
       "\n",
       "                                                                                                                              text  \\\n",
       "3419                                                          israeli authorities order jerusalemite to demolish his home via pic    \n",
       "5608  bong joon-ho to me just now re: his nominations for parasite: \"i feel it's like inception, where soon i'm going to wake up a   \n",
       "8106           it's a very old story. it's from a very old book. we have all heard about it before. why are the satanic panicking?   \n",
       "3710                          hi there, i'm very sorry about this. we are running a reduced service this morning to the freight tr   \n",
       "6578                                it was not a witch hunt little boy, it's called an  you are the 3rd person in american history   \n",
       "\n",
       "     target  \\\n",
       "3419      0   \n",
       "5608      0   \n",
       "8106      0   \n",
       "3710      1   \n",
       "6578      0   \n",
       "\n",
       "                                                                                                                 text_spacy_Lemmatized  \n",
       "3419                                                                 israeli authority order jerusalemite to demolish his home via pic  \n",
       "5608   bong joon - ho to I just now re : his nomination for parasite : \" I feel it be like inception , where soon I be go to wake up a  \n",
       "8106           it be a very old story . it be from a very old book . we have all hear about it before . why be the satanic panicking ?  \n",
       "3710                                 hi there , I be very sorry about this . we be run a reduce service this morning to the freight tr  \n",
       "6578                                     it be not a witch hunt little boy , it be call an   you be the 3rd person in american history  "
      ]
     },
     "execution_count": 76,
     "metadata": {},
     "output_type": "execute_result"
    }
   ],
   "source": [
    "df_train_lemma_sc.sample(5)"
   ]
  },
  {
   "cell_type": "markdown",
   "id": "administrative-royal",
   "metadata": {},
   "source": [
    "Let us now make some comparison between the original `text` column and the newly created lemmatized columned that we called `test_spacy_lemmatized`:\n",
    "- Punctuations are still present in our text (as expected) but has been separated from words which makes it easier to get rid of\n",
    "- Words have been lemmatized, example: `annihilated` has been lemmatized to `annihilate`, `screaming` to `scream`, that is good!\n",
    "- Words such as `statistics` were turned to `statistic` without an `s`, hmmmmmm, this is not perfect but is an expected lemmatization behavior\n",
    "- There are some words such `dmregister` that does not carry any potential value for classification\n",
    "- Pronouns such as `i` has been lemmatized to `I`\n",
    "- Some words with apostrophe S were stripped from their apostrophe\n",
    "- Words such as `joon-ho` have been changed to `joon`, `-` and `ho`"
   ]
  },
  {
   "cell_type": "markdown",
   "id": "weekly-pathology",
   "metadata": {},
   "source": [
    "It seems now that although the lemmatization job done is now perfect, it serves the purpose of this project. We however now need to remove all punctuations before we generate our features, and this is what we will do next."
   ]
  },
  {
   "cell_type": "markdown",
   "id": "spoken-width",
   "metadata": {},
   "source": [
    "There are probably numerous way of removing punctuations, here we will use one that is claimed to be one of the fastest."
   ]
  },
  {
   "cell_type": "code",
   "execution_count": 88,
   "id": "concrete-hawaii",
   "metadata": {
    "ExecuteTime": {
     "end_time": "2021-09-17T17:36:51.142854Z",
     "start_time": "2021-09-17T17:36:51.068655Z"
    }
   },
   "outputs": [],
   "source": [
    "# https://stackoverflow.com/questions/265960/best-way-to-strip-punctuation-from-a-string\n",
    "\n",
    "# Import regex operations and string libraries\n",
    "import re, string\n",
    "\n",
    "# remove punctuations from the train set\n",
    "df_train_lemma_sc['text_spacy_Lemmatized'] = df_train_lemma_sc['text_spacy_Lemmatized'].\\\n",
    "apply(lambda s: s.translate(str.maketrans('', '', string.punctuation)))"
   ]
  },
  {
   "cell_type": "code",
   "execution_count": 108,
   "id": "bored-treaty",
   "metadata": {
    "ExecuteTime": {
     "end_time": "2021-09-17T17:41:00.897536Z",
     "start_time": "2021-09-17T17:41:00.867312Z"
    }
   },
   "outputs": [],
   "source": [
    "# do the same for the test set\n",
    "df_test_lemma_sc['text_spacy_Lemmatized'] = df_test_lemma_sc['text_spacy_Lemmatized'].\\\n",
    "apply(lambda s: s.translate(str.maketrans('', '', string.punctuation)))"
   ]
  },
  {
   "cell_type": "code",
   "execution_count": 107,
   "id": "arranged-reducing",
   "metadata": {
    "ExecuteTime": {
     "end_time": "2021-09-17T17:37:49.450369Z",
     "start_time": "2021-09-17T17:37:49.436767Z"
    }
   },
   "outputs": [
    {
     "data": {
      "text/html": [
       "<div>\n",
       "<style scoped>\n",
       "    .dataframe tbody tr th:only-of-type {\n",
       "        vertical-align: middle;\n",
       "    }\n",
       "\n",
       "    .dataframe tbody tr th {\n",
       "        vertical-align: top;\n",
       "    }\n",
       "\n",
       "    .dataframe thead th {\n",
       "        text-align: right;\n",
       "    }\n",
       "</style>\n",
       "<table border=\"1\" class=\"dataframe\">\n",
       "  <thead>\n",
       "    <tr style=\"text-align: right;\">\n",
       "      <th></th>\n",
       "      <th>id</th>\n",
       "      <th>keyword</th>\n",
       "      <th>text</th>\n",
       "      <th>target</th>\n",
       "      <th>text_spacy_Lemmatized</th>\n",
       "    </tr>\n",
       "  </thead>\n",
       "  <tbody>\n",
       "    <tr>\n",
       "      <th>2674</th>\n",
       "      <td>2679</td>\n",
       "      <td>crash</td>\n",
       "      <td>dont rush the come up by trying to impress folks, thats how you become a crash dummy.</td>\n",
       "      <td>0</td>\n",
       "      <td>do nt rush the come up by try to impress folk  that s how you become a crash dummy</td>\n",
       "    </tr>\n",
       "    <tr>\n",
       "      <th>7155</th>\n",
       "      <td>7171</td>\n",
       "      <td>loud bang</td>\n",
       "      <td>even news sites are being loud about it, we didn't meant to, wearesorry!!</td>\n",
       "      <td>0</td>\n",
       "      <td>even news site be be loud about it  we do nt mean to  wearesorry</td>\n",
       "    </tr>\n",
       "    <tr>\n",
       "      <th>10678</th>\n",
       "      <td>10696</td>\n",
       "      <td>violent storm</td>\n",
       "      <td>we are not crazy. we are not violent. we just arent who [they] want us to be. sheep no more! we are truth seeking patriots</td>\n",
       "      <td>0</td>\n",
       "      <td>we be not crazy  we be not violent  we just be nt who  they  want we to be  sheep no more  we be truth seek patriot</td>\n",
       "    </tr>\n",
       "    <tr>\n",
       "      <th>3820</th>\n",
       "      <td>3826</td>\n",
       "      <td>desolation</td>\n",
       "      <td>the vineyard of desolation</td>\n",
       "      <td>0</td>\n",
       "      <td>the vineyard of desolation</td>\n",
       "    </tr>\n",
       "    <tr>\n",
       "      <th>7407</th>\n",
       "      <td>7423</td>\n",
       "      <td>mayhem</td>\n",
       "      <td>monday resistor mayhem 4</td>\n",
       "      <td>0</td>\n",
       "      <td>monday resistor mayhem 4</td>\n",
       "    </tr>\n",
       "  </tbody>\n",
       "</table>\n",
       "</div>"
      ],
      "text/plain": [
       "          id        keyword  \\\n",
       "2674    2679          crash   \n",
       "7155    7171      loud bang   \n",
       "10678  10696  violent storm   \n",
       "3820    3826     desolation   \n",
       "7407    7423         mayhem   \n",
       "\n",
       "                                                                                                                             text  \\\n",
       "2674                                        dont rush the come up by trying to impress folks, thats how you become a crash dummy.   \n",
       "7155                                                  even news sites are being loud about it, we didn't meant to, wearesorry!!     \n",
       "10678  we are not crazy. we are not violent. we just arent who [they] want us to be. sheep no more! we are truth seeking patriots   \n",
       "3820                                                                                                the vineyard of desolation      \n",
       "7407                                                                                                    monday resistor mayhem 4    \n",
       "\n",
       "      target  \\\n",
       "2674       0   \n",
       "7155       0   \n",
       "10678      0   \n",
       "3820       0   \n",
       "7407       0   \n",
       "\n",
       "                                                                                                      text_spacy_Lemmatized  \n",
       "2674                                    do nt rush the come up by try to impress folk  that s how you become a crash dummy   \n",
       "7155                                                   even news site be be loud about it  we do nt mean to  wearesorry      \n",
       "10678   we be not crazy  we be not violent  we just be nt who  they  want we to be  sheep no more  we be truth seek patriot  \n",
       "3820                                                                                          the vineyard of desolation     \n",
       "7407                                                                                               monday resistor mayhem 4  "
      ]
     },
     "execution_count": 107,
     "metadata": {},
     "output_type": "execute_result"
    }
   ],
   "source": [
    "df_train_lemma_sc.sample(5)"
   ]
  },
  {
   "cell_type": "markdown",
   "id": "typical-increase",
   "metadata": {},
   "source": [
    "Looking again at the `text_spacy_Lemmatized` column we have just manipulated, we see that all punctuations have disappeared, but we notice that numbers do exit on our text. We will be better off to reduce the number of our features to remove them as they bear very low value with respect to classes discrimination. This is what we will do next."
   ]
  },
  {
   "cell_type": "code",
   "execution_count": 109,
   "id": "domestic-volume",
   "metadata": {
    "ExecuteTime": {
     "end_time": "2021-09-17T17:44:32.789465Z",
     "start_time": "2021-09-17T17:44:32.736614Z"
    }
   },
   "outputs": [],
   "source": [
    "# remove numbers from the train set\n",
    "df_train_lemma_sc['text_spacy_Lemmatized'] = df_train_lemma_sc['text_spacy_Lemmatized'].\\\n",
    "apply(lambda s: re.sub(r\"\\b[0-9]+\\b\\s*\", \"\", s))"
   ]
  },
  {
   "cell_type": "code",
   "execution_count": 128,
   "id": "early-canadian",
   "metadata": {
    "ExecuteTime": {
     "end_time": "2021-09-17T17:46:03.250773Z",
     "start_time": "2021-09-17T17:46:03.233780Z"
    }
   },
   "outputs": [],
   "source": [
    "# do the same for the test set\n",
    "df_test_lemma_sc['text_spacy_Lemmatized'] = df_test_lemma_sc['text_spacy_Lemmatized'].\\\n",
    "apply(lambda s: re.sub(r\"\\b[0-9]+\\b\\s*\", \"\", s))"
   ]
  },
  {
   "cell_type": "code",
   "execution_count": 186,
   "id": "overall-empty",
   "metadata": {
    "ExecuteTime": {
     "end_time": "2021-09-18T00:21:41.046488Z",
     "start_time": "2021-09-18T00:21:41.033029Z"
    }
   },
   "outputs": [
    {
     "data": {
      "text/html": [
       "<div>\n",
       "<style scoped>\n",
       "    .dataframe tbody tr th:only-of-type {\n",
       "        vertical-align: middle;\n",
       "    }\n",
       "\n",
       "    .dataframe tbody tr th {\n",
       "        vertical-align: top;\n",
       "    }\n",
       "\n",
       "    .dataframe thead th {\n",
       "        text-align: right;\n",
       "    }\n",
       "</style>\n",
       "<table border=\"1\" class=\"dataframe\">\n",
       "  <thead>\n",
       "    <tr style=\"text-align: right;\">\n",
       "      <th></th>\n",
       "      <th>id</th>\n",
       "      <th>keyword</th>\n",
       "      <th>text</th>\n",
       "      <th>target</th>\n",
       "      <th>text_spacy_Lemmatized</th>\n",
       "    </tr>\n",
       "  </thead>\n",
       "  <tbody>\n",
       "    <tr>\n",
       "      <th>9080</th>\n",
       "      <td>9098</td>\n",
       "      <td>seismic</td>\n",
       "      <td>well he did once wear a tan suit. like, how are you ever meant to get over a seismic scandal like that?</td>\n",
       "      <td>0</td>\n",
       "      <td>well he do once wear a tan suit  like  how be you ever mean to get over a seismic scandal like that</td>\n",
       "    </tr>\n",
       "    <tr>\n",
       "      <th>1140</th>\n",
       "      <td>1142</td>\n",
       "      <td>blizzard</td>\n",
       "      <td>blizzard is pushing world of warcraft into the future with visions of nzoth update &amp;gt;</td>\n",
       "      <td>0</td>\n",
       "      <td>blizzard be push world of warcraft into the future with vision of nzoth update  gt</td>\n",
       "    </tr>\n",
       "    <tr>\n",
       "      <th>4616</th>\n",
       "      <td>4624</td>\n",
       "      <td>earthquake</td>\n",
       "      <td>a m4.7 earthquake has been reported by the geofon for m 4.7, philippine islands region. link:</td>\n",
       "      <td>1</td>\n",
       "      <td>a m47 earthquake have be report by the geofon for m philippine island region  link</td>\n",
       "    </tr>\n",
       "    <tr>\n",
       "      <th>3830</th>\n",
       "      <td>3836</td>\n",
       "      <td>desolation</td>\n",
       "      <td>\"but when ye shall see the abomination of desolation, spoken of by daniel the prophet, standing where it ought not, (let</td>\n",
       "      <td>0</td>\n",
       "      <td>but when ye shall see the abomination of desolation  speak of by daniel the prophet  stand where it ought not   let</td>\n",
       "    </tr>\n",
       "    <tr>\n",
       "      <th>8870</th>\n",
       "      <td>8888</td>\n",
       "      <td>sandstorm</td>\n",
       "      <td>also random</td>\n",
       "      <td>0</td>\n",
       "      <td>also random</td>\n",
       "    </tr>\n",
       "  </tbody>\n",
       "</table>\n",
       "</div>"
      ],
      "text/plain": [
       "        id     keyword  \\\n",
       "9080  9098     seismic   \n",
       "1140  1142    blizzard   \n",
       "4616  4624  earthquake   \n",
       "3830  3836  desolation   \n",
       "8870  8888   sandstorm   \n",
       "\n",
       "                                                                                                                          text  \\\n",
       "9080                   well he did once wear a tan suit. like, how are you ever meant to get over a seismic scandal like that?   \n",
       "1140                                 blizzard is pushing world of warcraft into the future with visions of nzoth update &gt;     \n",
       "4616                            a m4.7 earthquake has been reported by the geofon for m 4.7, philippine islands region. link:    \n",
       "3830  \"but when ye shall see the abomination of desolation, spoken of by daniel the prophet, standing where it ought not, (let   \n",
       "8870                                                                                                              also random    \n",
       "\n",
       "     target  \\\n",
       "9080      0   \n",
       "1140      0   \n",
       "4616      1   \n",
       "3830      0   \n",
       "8870      0   \n",
       "\n",
       "                                                                                                      text_spacy_Lemmatized  \n",
       "9080                   well he do once wear a tan suit  like  how be you ever mean to get over a seismic scandal like that   \n",
       "1140                                  blizzard be push world of warcraft into the future with vision of nzoth update  gt     \n",
       "4616                                    a m47 earthquake have be report by the geofon for m philippine island region  link   \n",
       "3830    but when ye shall see the abomination of desolation  speak of by daniel the prophet  stand where it ought not   let  \n",
       "8870                                                                                                            also random  "
      ]
     },
     "execution_count": 186,
     "metadata": {},
     "output_type": "execute_result"
    }
   ],
   "source": [
    "df_train_lemma_sc.sample(5)"
   ]
  },
  {
   "cell_type": "markdown",
   "id": "alleged-alpha",
   "metadata": {},
   "source": [
    "Now we can create out features by using bag-of-words and TF-IDF. \n",
    "\n",
    "Why not one of them? Why both?\n",
    "\n",
    "This is due to the fact that there is no agreement between data scientists and practitioners as to which one is better. The smart data scientist would try both and use both on their model and compare the performance of each on the particular problem on hand, and that is why we will use both of them.\n",
    "\n",
    "Before moving on it is worth to mention that it was probably more efficient to do more that one of the pre-processing operations at once instead of doing them one by one, but this is of low significance on this project. \n",
    "\n",
    "Also some of what we will do next such as stop words removal could have also been done with one of the previous operations or even create a cleaning pipeline, but this is not important now. Now, let us create our features, but before that let us delete the `text` column as we do not need it any more.."
   ]
  },
  {
   "cell_type": "code",
   "execution_count": 143,
   "id": "pointed-technical",
   "metadata": {
    "ExecuteTime": {
     "end_time": "2021-09-18T00:05:59.217001Z",
     "start_time": "2021-09-18T00:05:59.178197Z"
    }
   },
   "outputs": [
    {
     "data": {
      "text/html": [
       "<div>\n",
       "<style scoped>\n",
       "    .dataframe tbody tr th:only-of-type {\n",
       "        vertical-align: middle;\n",
       "    }\n",
       "\n",
       "    .dataframe tbody tr th {\n",
       "        vertical-align: top;\n",
       "    }\n",
       "\n",
       "    .dataframe thead th {\n",
       "        text-align: right;\n",
       "    }\n",
       "</style>\n",
       "<table border=\"1\" class=\"dataframe\">\n",
       "  <thead>\n",
       "    <tr style=\"text-align: right;\">\n",
       "      <th></th>\n",
       "      <th>id</th>\n",
       "      <th>keyword</th>\n",
       "      <th>target</th>\n",
       "      <th>text_spacy_Lemmatized</th>\n",
       "    </tr>\n",
       "  </thead>\n",
       "  <tbody>\n",
       "    <tr>\n",
       "      <th>3291</th>\n",
       "      <td>3296</td>\n",
       "      <td>deluge</td>\n",
       "      <td>0</td>\n",
       "      <td>the   sector have see a deluge of disruption  from multiple direction   which model show the most promis</td>\n",
       "    </tr>\n",
       "    <tr>\n",
       "      <th>258</th>\n",
       "      <td>258</td>\n",
       "      <td>annihilated</td>\n",
       "      <td>0</td>\n",
       "      <td>nicki minaj single handedly annihilate the male specie the day this drop</td>\n",
       "    </tr>\n",
       "    <tr>\n",
       "      <th>4888</th>\n",
       "      <td>4898</td>\n",
       "      <td>engulfed</td>\n",
       "      <td>1</td>\n",
       "      <td>dmregister  rt tdavisdmr  a man be believe to have end a daylong standoff with police by set fire to his own</td>\n",
       "    </tr>\n",
       "    <tr>\n",
       "      <th>8962</th>\n",
       "      <td>8980</td>\n",
       "      <td>screaming</td>\n",
       "      <td>0</td>\n",
       "      <td>I m scream bc the baby probably still see in black and white and she s scream at imthekdjenendnx</td>\n",
       "    </tr>\n",
       "    <tr>\n",
       "      <th>7902</th>\n",
       "      <td>7919</td>\n",
       "      <td>oil spill</td>\n",
       "      <td>0</td>\n",
       "      <td>surprising oil tanker spill statistic publish</td>\n",
       "    </tr>\n",
       "    <tr>\n",
       "      <th>...</th>\n",
       "      <td>...</td>\n",
       "      <td>...</td>\n",
       "      <td>...</td>\n",
       "      <td>...</td>\n",
       "    </tr>\n",
       "    <tr>\n",
       "      <th>7178</th>\n",
       "      <td>7194</td>\n",
       "      <td>loud bang</td>\n",
       "      <td>0</td>\n",
       "      <td>spirit come to we for many different reason  today be to save our life   liz be head out the door with our d</td>\n",
       "    </tr>\n",
       "    <tr>\n",
       "      <th>3170</th>\n",
       "      <td>3175</td>\n",
       "      <td>death</td>\n",
       "      <td>0</td>\n",
       "      <td>there s an amazing wwii story about this</td>\n",
       "    </tr>\n",
       "    <tr>\n",
       "      <th>4967</th>\n",
       "      <td>4977</td>\n",
       "      <td>engulfed</td>\n",
       "      <td>0</td>\n",
       "      <td>joe buck  welcome to the ninth hour of the national title game  as we enter the fourth quarter  sun rise   sun keep get</td>\n",
       "    </tr>\n",
       "    <tr>\n",
       "      <th>7847</th>\n",
       "      <td>7864</td>\n",
       "      <td>obliterated</td>\n",
       "      <td>0</td>\n",
       "      <td>I be feel a bit nostalgic for the old a picture be worth word day  before social medium obliterate truth</td>\n",
       "    </tr>\n",
       "    <tr>\n",
       "      <th>5177</th>\n",
       "      <td>5187</td>\n",
       "      <td>explosion</td>\n",
       "      <td>0</td>\n",
       "      <td>I see why gay people be celebrate the explosion lmaooo</td>\n",
       "    </tr>\n",
       "  </tbody>\n",
       "</table>\n",
       "<p>8512 rows × 4 columns</p>\n",
       "</div>"
      ],
      "text/plain": [
       "        id      keyword target  \\\n",
       "3291  3296       deluge      0   \n",
       "258    258  annihilated      0   \n",
       "4888  4898     engulfed      1   \n",
       "8962  8980    screaming      0   \n",
       "7902  7919    oil spill      0   \n",
       "...    ...          ...    ...   \n",
       "7178  7194    loud bang      0   \n",
       "3170  3175        death      0   \n",
       "4967  4977     engulfed      0   \n",
       "7847  7864  obliterated      0   \n",
       "5177  5187    explosion      0   \n",
       "\n",
       "                                                                                                         text_spacy_Lemmatized  \n",
       "3291                  the   sector have see a deluge of disruption  from multiple direction   which model show the most promis  \n",
       "258                                                 nicki minaj single handedly annihilate the male specie the day this drop    \n",
       "4888              dmregister  rt tdavisdmr  a man be believe to have end a daylong standoff with police by set fire to his own  \n",
       "8962                          I m scream bc the baby probably still see in black and white and she s scream at imthekdjenendnx  \n",
       "7902                                                                        surprising oil tanker spill statistic publish       \n",
       "...                                                                                                                        ...  \n",
       "7178              spirit come to we for many different reason  today be to save our life   liz be head out the door with our d  \n",
       "3170                                                                                 there s an amazing wwii story about this   \n",
       "4967   joe buck  welcome to the ninth hour of the national title game  as we enter the fourth quarter  sun rise   sun keep get  \n",
       "7847                 I be feel a bit nostalgic for the old a picture be worth word day  before social medium obliterate truth   \n",
       "5177                                                                    I see why gay people be celebrate the explosion lmaooo  \n",
       "\n",
       "[8512 rows x 4 columns]"
      ]
     },
     "execution_count": 143,
     "metadata": {},
     "output_type": "execute_result"
    }
   ],
   "source": [
    "# delete the text column from the train and the test dataframes\n",
    "df_train_lemma_sc.drop('text', axis = 1)"
   ]
  },
  {
   "cell_type": "markdown",
   "id": "stunning-swing",
   "metadata": {},
   "source": [
    "#### Bag of words"
   ]
  },
  {
   "cell_type": "code",
   "execution_count": 140,
   "id": "thirty-softball",
   "metadata": {
    "ExecuteTime": {
     "end_time": "2021-09-17T23:55:33.041741Z",
     "start_time": "2021-09-17T23:55:33.038734Z"
    }
   },
   "outputs": [],
   "source": [
    "# import the CountVectorizer\n",
    "from sklearn.feature_extraction.text import CountVectorizer"
   ]
  },
  {
   "cell_type": "code",
   "execution_count": 195,
   "id": "composite-electricity",
   "metadata": {
    "ExecuteTime": {
     "end_time": "2021-09-18T00:25:27.884593Z",
     "start_time": "2021-09-18T00:25:27.549413Z"
    }
   },
   "outputs": [],
   "source": [
    "# initialize the count vectorizer with stop words removal\n",
    "bow = CountVectorizer(stop_words='english')\n",
    "\n",
    "# fit and transform the train data (No test data transformation to prevent data leakage)\n",
    "bow.fit(df_train_lemma_sc.text_spacy_Lemmatized)\n",
    "train_data_trans_cv = bow.transform(df_train_lemma_sc.text_spacy_Lemmatized)\n",
    "\n",
    "# transform the test data\n",
    "test_data_trans_cv = bow.transform(df_test_lemma_sc.text_spacy_Lemmatized)"
   ]
  },
  {
   "cell_type": "code",
   "execution_count": 200,
   "id": "accessory-brake",
   "metadata": {
    "ExecuteTime": {
     "end_time": "2021-09-18T00:53:48.285205Z",
     "start_time": "2021-09-18T00:53:48.263073Z"
    }
   },
   "outputs": [
    {
     "data": {
      "text/plain": [
       "14061"
      ]
     },
     "execution_count": 200,
     "metadata": {},
     "output_type": "execute_result"
    }
   ],
   "source": [
    "#\n",
    "words = bow.get_feature_names()\n",
    "len(words)"
   ]
  },
  {
   "cell_type": "markdown",
   "id": "ambient-librarian",
   "metadata": {},
   "source": [
    "There are 14061 words in this bag if words."
   ]
  },
  {
   "cell_type": "code",
   "execution_count": null,
   "id": "fatty-washer",
   "metadata": {},
   "outputs": [],
   "source": []
  },
  {
   "cell_type": "markdown",
   "id": "silver-company",
   "metadata": {},
   "source": [
    "### TF-IDF"
   ]
  },
  {
   "cell_type": "code",
   "execution_count": 141,
   "id": "burning-formation",
   "metadata": {
    "ExecuteTime": {
     "end_time": "2021-09-17T23:56:54.076363Z",
     "start_time": "2021-09-17T23:56:54.072432Z"
    }
   },
   "outputs": [],
   "source": [
    "# import the TF-IDF vectorizer\n",
    "from sklearn.feature_extraction.text import TfidfVectorizer"
   ]
  },
  {
   "cell_type": "code",
   "execution_count": 202,
   "id": "developing-hanging",
   "metadata": {
    "ExecuteTime": {
     "end_time": "2021-09-18T00:54:07.100964Z",
     "start_time": "2021-09-18T00:54:06.749876Z"
    }
   },
   "outputs": [],
   "source": [
    "# initialize the tfidf vectorizer with stop words removal\n",
    "tfidf = TfidfVectorizer(stop_words='english')\n",
    "\n",
    "# fit and transform the train data (No test data transformation to prevent data leakage)\n",
    "tfidf.fit(df_train_lemma_sc.text_spacy_Lemmatized)\n",
    "train_data_trans_tfidf = tfidf.transform(df_train_lemma_sc.text_spacy_Lemmatized)\n",
    "\n",
    "# transform the test data\n",
    "test_data_trans_tfidf = tfidf.transform(df_test_lemma_sc.text_spacy_Lemmatized)"
   ]
  },
  {
   "cell_type": "code",
   "execution_count": 203,
   "id": "surprised-liberia",
   "metadata": {
    "ExecuteTime": {
     "end_time": "2021-09-18T00:54:07.953210Z",
     "start_time": "2021-09-18T00:54:07.933978Z"
    }
   },
   "outputs": [
    {
     "data": {
      "text/plain": [
       "14061"
      ]
     },
     "execution_count": 203,
     "metadata": {},
     "output_type": "execute_result"
    }
   ],
   "source": [
    "#\n",
    "words = tfidf.get_feature_names()\n",
    "len(words)"
   ]
  },
  {
   "cell_type": "markdown",
   "id": "challenging-notification",
   "metadata": {},
   "source": [
    "There are 14061 words in this TF-IDF vectorized dataframe."
   ]
  },
  {
   "cell_type": "code",
   "execution_count": null,
   "id": "capable-combat",
   "metadata": {},
   "outputs": [],
   "source": []
  },
  {
   "cell_type": "markdown",
   "id": "dietary-ethernet",
   "metadata": {
    "ExecuteTime": {
     "end_time": "2021-08-24T10:57:39.381712Z",
     "start_time": "2021-08-24T10:57:39.369774Z"
    }
   },
   "source": [
    "### Modelling"
   ]
  },
  {
   "cell_type": "code",
   "execution_count": null,
   "id": "presidential-christmas",
   "metadata": {},
   "outputs": [],
   "source": []
  },
  {
   "cell_type": "code",
   "execution_count": null,
   "id": "processed-final",
   "metadata": {},
   "outputs": [],
   "source": []
  },
  {
   "cell_type": "code",
   "execution_count": null,
   "id": "bulgarian-granny",
   "metadata": {},
   "outputs": [],
   "source": []
  },
  {
   "cell_type": "code",
   "execution_count": null,
   "id": "musical-stereo",
   "metadata": {},
   "outputs": [],
   "source": []
  }
 ],
 "metadata": {
  "hide_input": false,
  "kernelspec": {
   "display_name": "deeplearning",
   "language": "python",
   "name": "deeplearning"
  },
  "language_info": {
   "codemirror_mode": {
    "name": "ipython",
    "version": 3
   },
   "file_extension": ".py",
   "mimetype": "text/x-python",
   "name": "python",
   "nbconvert_exporter": "python",
   "pygments_lexer": "ipython3",
   "version": "3.8.8"
  },
  "toc": {
   "base_numbering": 1,
   "nav_menu": {},
   "number_sections": true,
   "sideBar": true,
   "skip_h1_title": false,
   "title_cell": "Table of Contents",
   "title_sidebar": "Contents",
   "toc_cell": false,
   "toc_position": {},
   "toc_section_display": true,
   "toc_window_display": false
  }
 },
 "nbformat": 4,
 "nbformat_minor": 5
}
