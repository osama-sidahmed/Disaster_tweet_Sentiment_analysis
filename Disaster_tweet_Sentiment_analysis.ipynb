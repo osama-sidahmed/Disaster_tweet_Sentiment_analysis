{
 "cells": [
  {
   "cell_type": "markdown",
   "id": "respective-anaheim",
   "metadata": {},
   "source": [
    "**Date: 24th Aug 2021** \\\n",
    "**Author: Osama Sidahmed**"
   ]
  },
  {
   "cell_type": "markdown",
   "id": "hairy-ireland",
   "metadata": {},
   "source": [
    "### Objective"
   ]
  },
  {
   "cell_type": "markdown",
   "id": "collect-norfolk",
   "metadata": {},
   "source": [
    "The objective of this notebook is to create a classifier that differentiate between a tweet related to a real natural disaster and others that do not, using Natural language Processing (NLP) methods.\n",
    "\n",
    "The data will be explored after which it it will be processed and then few classifiers using standard Machine learning algorithms and Deep Learning algorithms will be trained on the data to get to the best comparison using the relevant evaluation metrics."
   ]
  },
  {
   "cell_type": "markdown",
   "id": "secure-component",
   "metadata": {
    "ExecuteTime": {
     "end_time": "2021-08-24T10:57:14.919906Z",
     "start_time": "2021-08-24T10:57:14.915286Z"
    }
   },
   "source": [
    "### EDA"
   ]
  },
  {
   "cell_type": "code",
   "execution_count": 116,
   "id": "hidden-index",
   "metadata": {
    "ExecuteTime": {
     "end_time": "2021-09-03T13:43:49.535389Z",
     "start_time": "2021-09-03T13:43:49.530378Z"
    }
   },
   "outputs": [],
   "source": [
    "import numpy as np\n",
    "import pandas as pd\n",
    "import matplotlib.pyplot as plt\n",
    "import seaborn as sns"
   ]
  },
  {
   "cell_type": "code",
   "execution_count": 37,
   "id": "complex-window",
   "metadata": {
    "ExecuteTime": {
     "end_time": "2021-09-03T11:12:22.075450Z",
     "start_time": "2021-09-03T11:12:22.065392Z"
    }
   },
   "outputs": [],
   "source": [
    "# see all columns and maximum width\n",
    "pd.set_option('display.max_columns', None)\n",
    "pd.set_option('max_colwidth', None)"
   ]
  },
  {
   "cell_type": "markdown",
   "id": "quick-macedonia",
   "metadata": {},
   "source": [
    "**Dataset Summary:**\n",
    "\n",
    "This has been downloaded form [Kaggle](https://www.kaggle.com/vstepanenko/disaster-tweets). \n",
    "The description below is from the same page.\n",
    "\n",
    "--------------\n",
    "Description:\n",
    "\n",
    "Context\n",
    "The file contains over 11,000 tweets associated with disaster keywords like “crash”, “quarantine”, and “bush fires” as well as the location and keyword itself. The data structure was inherited from Disasters on social media\n",
    "\n",
    "The tweets were collected on Jan 14th, 2020.\n",
    "\n",
    "Some of the topics people were tweeting:\n",
    "\n",
    "The eruption of Taal Volcano in Batangas, Philippines\n",
    "Coronavirus\n",
    "Bushfires in Australia\n",
    "Iran downing of the airplane flight PS752\n",
    "\n",
    "Disclaimer: The dataset contains text that may be considered profane, vulgar, or offensive.\n",
    "\n",
    "Inspiration\n",
    "The intention was to enrich the already available data for this topic with newly collected and manually classified tweets.\n",
    "The initial source Disasters on social media which is used in Real or Not? NLP with Disaster Tweets competition on Kaggle.\n"
   ]
  },
  {
   "cell_type": "markdown",
   "id": "abstract-material",
   "metadata": {},
   "source": [
    "---------------------------------------------------------------------"
   ]
  },
  {
   "cell_type": "markdown",
   "id": "sunrise-punishment",
   "metadata": {},
   "source": [
    "The first step is to read the csv file into a data frame and explore the dataframe different fields."
   ]
  },
  {
   "cell_type": "code",
   "execution_count": 46,
   "id": "august-miniature",
   "metadata": {
    "ExecuteTime": {
     "end_time": "2021-09-03T11:23:00.358962Z",
     "start_time": "2021-09-03T11:23:00.278420Z"
    }
   },
   "outputs": [],
   "source": [
    "# read dataframe\n",
    "df = pd.read_csv('data/tweets.csv', index_col='id')"
   ]
  },
  {
   "cell_type": "code",
   "execution_count": 47,
   "id": "binding-retail",
   "metadata": {
    "ExecuteTime": {
     "end_time": "2021-09-03T11:23:01.540135Z",
     "start_time": "2021-09-03T11:23:01.521529Z"
    }
   },
   "outputs": [
    {
     "data": {
      "text/html": [
       "<div>\n",
       "<style scoped>\n",
       "    .dataframe tbody tr th:only-of-type {\n",
       "        vertical-align: middle;\n",
       "    }\n",
       "\n",
       "    .dataframe tbody tr th {\n",
       "        vertical-align: top;\n",
       "    }\n",
       "\n",
       "    .dataframe thead th {\n",
       "        text-align: right;\n",
       "    }\n",
       "</style>\n",
       "<table border=\"1\" class=\"dataframe\">\n",
       "  <thead>\n",
       "    <tr style=\"text-align: right;\">\n",
       "      <th></th>\n",
       "      <th>keyword</th>\n",
       "      <th>location</th>\n",
       "      <th>text</th>\n",
       "      <th>target</th>\n",
       "    </tr>\n",
       "    <tr>\n",
       "      <th>id</th>\n",
       "      <th></th>\n",
       "      <th></th>\n",
       "      <th></th>\n",
       "      <th></th>\n",
       "    </tr>\n",
       "  </thead>\n",
       "  <tbody>\n",
       "    <tr>\n",
       "      <th>0</th>\n",
       "      <td>ablaze</td>\n",
       "      <td>NaN</td>\n",
       "      <td>Communal violence in Bhainsa, Telangana. \"Stones were pelted on Muslims' houses and some houses and vehicles were set ablaze…</td>\n",
       "      <td>1</td>\n",
       "    </tr>\n",
       "    <tr>\n",
       "      <th>1</th>\n",
       "      <td>ablaze</td>\n",
       "      <td>NaN</td>\n",
       "      <td>Telangana: Section 144 has been imposed in Bhainsa from January 13 to 15, after clash erupted between two groups on January 12. Po…</td>\n",
       "      <td>1</td>\n",
       "    </tr>\n",
       "    <tr>\n",
       "      <th>2</th>\n",
       "      <td>ablaze</td>\n",
       "      <td>New York City</td>\n",
       "      <td>Arsonist sets cars ablaze at dealership https://t.co/gOQvyJbpVI</td>\n",
       "      <td>1</td>\n",
       "    </tr>\n",
       "    <tr>\n",
       "      <th>3</th>\n",
       "      <td>ablaze</td>\n",
       "      <td>Morgantown, WV</td>\n",
       "      <td>Arsonist sets cars ablaze at dealership https://t.co/0gL7NUCPlb https://t.co/u1CcBhOWh9</td>\n",
       "      <td>1</td>\n",
       "    </tr>\n",
       "    <tr>\n",
       "      <th>4</th>\n",
       "      <td>ablaze</td>\n",
       "      <td>NaN</td>\n",
       "      <td>\"Lord Jesus, your love brings freedom and pardon. Fill me with your Holy Spirit and set my heart ablaze with your l… https://t.co/VlTznnPNi8</td>\n",
       "      <td>0</td>\n",
       "    </tr>\n",
       "  </tbody>\n",
       "</table>\n",
       "</div>"
      ],
      "text/plain": [
       "   keyword        location  \\\n",
       "id                           \n",
       "0   ablaze             NaN   \n",
       "1   ablaze             NaN   \n",
       "2   ablaze   New York City   \n",
       "3   ablaze  Morgantown, WV   \n",
       "4   ablaze             NaN   \n",
       "\n",
       "                                                                                                                                            text  \\\n",
       "id                                                                                                                                                 \n",
       "0                  Communal violence in Bhainsa, Telangana. \"Stones were pelted on Muslims' houses and some houses and vehicles were set ablaze…   \n",
       "1            Telangana: Section 144 has been imposed in Bhainsa from January 13 to 15, after clash erupted between two groups on January 12. Po…   \n",
       "2                                                                                Arsonist sets cars ablaze at dealership https://t.co/gOQvyJbpVI   \n",
       "3                                                        Arsonist sets cars ablaze at dealership https://t.co/0gL7NUCPlb https://t.co/u1CcBhOWh9   \n",
       "4   \"Lord Jesus, your love brings freedom and pardon. Fill me with your Holy Spirit and set my heart ablaze with your l… https://t.co/VlTznnPNi8   \n",
       "\n",
       "    target  \n",
       "id          \n",
       "0        1  \n",
       "1        1  \n",
       "2        1  \n",
       "3        1  \n",
       "4        0  "
      ]
     },
     "execution_count": 47,
     "metadata": {},
     "output_type": "execute_result"
    }
   ],
   "source": [
    "# show dataframe\n",
    "df.head()"
   ]
  },
  {
   "cell_type": "code",
   "execution_count": 48,
   "id": "novel-georgia",
   "metadata": {
    "ExecuteTime": {
     "end_time": "2021-09-03T11:23:03.193945Z",
     "start_time": "2021-09-03T11:23:03.175915Z"
    }
   },
   "outputs": [
    {
     "data": {
      "text/html": [
       "<div>\n",
       "<style scoped>\n",
       "    .dataframe tbody tr th:only-of-type {\n",
       "        vertical-align: middle;\n",
       "    }\n",
       "\n",
       "    .dataframe tbody tr th {\n",
       "        vertical-align: top;\n",
       "    }\n",
       "\n",
       "    .dataframe thead th {\n",
       "        text-align: right;\n",
       "    }\n",
       "</style>\n",
       "<table border=\"1\" class=\"dataframe\">\n",
       "  <thead>\n",
       "    <tr style=\"text-align: right;\">\n",
       "      <th></th>\n",
       "      <th>keyword</th>\n",
       "      <th>location</th>\n",
       "      <th>text</th>\n",
       "      <th>target</th>\n",
       "    </tr>\n",
       "    <tr>\n",
       "      <th>id</th>\n",
       "      <th></th>\n",
       "      <th></th>\n",
       "      <th></th>\n",
       "      <th></th>\n",
       "    </tr>\n",
       "  </thead>\n",
       "  <tbody>\n",
       "    <tr>\n",
       "      <th>11365</th>\n",
       "      <td>wrecked</td>\n",
       "      <td>Blue State in a red sea</td>\n",
       "      <td>Media should have warned us well in advance. This wrecked my whole night. I refuse to watch…</td>\n",
       "      <td>0</td>\n",
       "    </tr>\n",
       "    <tr>\n",
       "      <th>11366</th>\n",
       "      <td>wrecked</td>\n",
       "      <td>arohaonces</td>\n",
       "      <td>i feel directly attacked 💀 i consider moonbin &amp;amp; jinjin as my bias and im currently wrecked by rocky i hate this</td>\n",
       "      <td>0</td>\n",
       "    </tr>\n",
       "    <tr>\n",
       "      <th>11367</th>\n",
       "      <td>wrecked</td>\n",
       "      <td>🇵🇭</td>\n",
       "      <td>i feel directly attacked 💀 i consider moonbin &amp;amp; jinjin as my bias and im currently wrecked by rocky i hate this https://t.co/psLBecS7hI</td>\n",
       "      <td>0</td>\n",
       "    </tr>\n",
       "    <tr>\n",
       "      <th>11368</th>\n",
       "      <td>wrecked</td>\n",
       "      <td>auroraborealis</td>\n",
       "      <td>ok who remember \"outcast\" nd the \"dora\" au?? THOSE AU WRECKED OUR NERVES ND BRAINCELLS JDKSHSSJHS LEGENDS</td>\n",
       "      <td>0</td>\n",
       "    </tr>\n",
       "    <tr>\n",
       "      <th>11369</th>\n",
       "      <td>wrecked</td>\n",
       "      <td>NaN</td>\n",
       "      <td>Jake Corway wrecked while running 14th at IRP.</td>\n",
       "      <td>1</td>\n",
       "    </tr>\n",
       "  </tbody>\n",
       "</table>\n",
       "</div>"
      ],
      "text/plain": [
       "       keyword                 location  \\\n",
       "id                                        \n",
       "11365  wrecked  Blue State in a red sea   \n",
       "11366  wrecked               arohaonces   \n",
       "11367  wrecked                       🇵🇭   \n",
       "11368  wrecked           auroraborealis   \n",
       "11369  wrecked                      NaN   \n",
       "\n",
       "                                                                                                                                              text  \\\n",
       "id                                                                                                                                                   \n",
       "11365                                                 Media should have warned us well in advance. This wrecked my whole night. I refuse to watch…   \n",
       "11366                          i feel directly attacked 💀 i consider moonbin &amp; jinjin as my bias and im currently wrecked by rocky i hate this   \n",
       "11367  i feel directly attacked 💀 i consider moonbin &amp; jinjin as my bias and im currently wrecked by rocky i hate this https://t.co/psLBecS7hI   \n",
       "11368                                    ok who remember \"outcast\" nd the \"dora\" au?? THOSE AU WRECKED OUR NERVES ND BRAINCELLS JDKSHSSJHS LEGENDS   \n",
       "11369                                                                                               Jake Corway wrecked while running 14th at IRP.   \n",
       "\n",
       "       target  \n",
       "id             \n",
       "11365       0  \n",
       "11366       0  \n",
       "11367       0  \n",
       "11368       0  \n",
       "11369       1  "
      ]
     },
     "execution_count": 48,
     "metadata": {},
     "output_type": "execute_result"
    }
   ],
   "source": [
    "df.tail()"
   ]
  },
  {
   "cell_type": "markdown",
   "id": "raised-encounter",
   "metadata": {},
   "source": [
    "Some quick observations about the data:\n",
    "- The dataframe has 11,370 tweets\n",
    "- In addition to the id column that seems to be unique, the data consists of four (4) other columns, `keyword`, `location`, `text`, and `target`\n",
    "- The `keyword` column seems to be in an alphabetical order\n",
    "- The `location` column may not always refer to a real or a legible location or it may by Null\n",
    "- The `text` column contains characters other than text and therefore may need to be curated\n",
    "- The `target` column contains values 1's and 0's which may indicate 1 for real disaster and 0 for no disaster.\n",
    "    \n",
    "However more data exploration is required to confirm the above and to understand more about the dataset characteristics.\n"
   ]
  },
  {
   "cell_type": "code",
   "execution_count": 49,
   "id": "weighted-array",
   "metadata": {
    "ExecuteTime": {
     "end_time": "2021-09-03T11:23:04.791413Z",
     "start_time": "2021-09-03T11:23:04.765752Z"
    }
   },
   "outputs": [
    {
     "name": "stdout",
     "output_type": "stream",
     "text": [
      "<class 'pandas.core.frame.DataFrame'>\n",
      "Int64Index: 11370 entries, 0 to 11369\n",
      "Data columns (total 4 columns):\n",
      " #   Column    Non-Null Count  Dtype \n",
      "---  ------    --------------  ----- \n",
      " 0   keyword   11370 non-null  object\n",
      " 1   location  7952 non-null   object\n",
      " 2   text      11370 non-null  object\n",
      " 3   target    11370 non-null  int64 \n",
      "dtypes: int64(1), object(3)\n",
      "memory usage: 444.1+ KB\n"
     ]
    }
   ],
   "source": [
    "df.info()"
   ]
  },
  {
   "cell_type": "markdown",
   "id": "hearing-acrylic",
   "metadata": {},
   "source": [
    "From the above, it is clear that:\n",
    "- No column has Null values except for the column `location` as it has an excess of 3,000 Null instances which account of almost 25% of the data in the column, we will see later after more investigation and data exploration as to how to deal with it\n",
    "- Each one of the columns has the appropriate data type\n",
    "\n",
    "Before going further we need to check for any duplicated rows and delete them as necessary."
   ]
  },
  {
   "cell_type": "code",
   "execution_count": 50,
   "id": "integrated-malta",
   "metadata": {
    "ExecuteTime": {
     "end_time": "2021-09-03T11:23:06.524043Z",
     "start_time": "2021-09-03T11:23:06.498460Z"
    }
   },
   "outputs": [
    {
     "data": {
      "text/plain": [
       "True"
      ]
     },
     "execution_count": 50,
     "metadata": {},
     "output_type": "execute_result"
    }
   ],
   "source": [
    "df.duplicated().any()"
   ]
  },
  {
   "cell_type": "markdown",
   "id": "useful-regulation",
   "metadata": {},
   "source": [
    "There seems to be some duplicated tweets, we need to look closer at these duplicated tweets."
   ]
  },
  {
   "cell_type": "code",
   "execution_count": 51,
   "id": "continuing-possible",
   "metadata": {
    "ExecuteTime": {
     "end_time": "2021-09-03T11:23:08.813661Z",
     "start_time": "2021-09-03T11:23:08.773599Z"
    }
   },
   "outputs": [
    {
     "data": {
      "text/html": [
       "<div>\n",
       "<style scoped>\n",
       "    .dataframe tbody tr th:only-of-type {\n",
       "        vertical-align: middle;\n",
       "    }\n",
       "\n",
       "    .dataframe tbody tr th {\n",
       "        vertical-align: top;\n",
       "    }\n",
       "\n",
       "    .dataframe thead th {\n",
       "        text-align: right;\n",
       "    }\n",
       "</style>\n",
       "<table border=\"1\" class=\"dataframe\">\n",
       "  <thead>\n",
       "    <tr style=\"text-align: right;\">\n",
       "      <th></th>\n",
       "      <th>keyword</th>\n",
       "      <th>location</th>\n",
       "      <th>text</th>\n",
       "      <th>target</th>\n",
       "    </tr>\n",
       "    <tr>\n",
       "      <th>id</th>\n",
       "      <th></th>\n",
       "      <th></th>\n",
       "      <th></th>\n",
       "      <th></th>\n",
       "    </tr>\n",
       "  </thead>\n",
       "  <tbody>\n",
       "    <tr>\n",
       "      <th>786</th>\n",
       "      <td>bioterror</td>\n",
       "      <td>NaN</td>\n",
       "      <td>Does the push for mass vaccination point toward a staged bioterror event? https://t.co/o10epcfRV6</td>\n",
       "      <td>0</td>\n",
       "    </tr>\n",
       "    <tr>\n",
       "      <th>787</th>\n",
       "      <td>bioterror</td>\n",
       "      <td>NaN</td>\n",
       "      <td>Does the push for mass vaccination point toward a staged bioterror event? https://t.co/o10epcfRV6</td>\n",
       "      <td>0</td>\n",
       "    </tr>\n",
       "    <tr>\n",
       "      <th>806</th>\n",
       "      <td>bioterror</td>\n",
       "      <td>United States</td>\n",
       "      <td>Does the push for vaccination point to a staged bioterror event? https://t.co/WWvKQkY1O2</td>\n",
       "      <td>0</td>\n",
       "    </tr>\n",
       "    <tr>\n",
       "      <th>808</th>\n",
       "      <td>bioterror</td>\n",
       "      <td>United States</td>\n",
       "      <td>Does the push for vaccination point to a staged bioterror event? https://t.co/WWvKQkY1O2</td>\n",
       "      <td>0</td>\n",
       "    </tr>\n",
       "    <tr>\n",
       "      <th>2054</th>\n",
       "      <td>casualty</td>\n",
       "      <td>NaN</td>\n",
       "      <td>Study? Don't you mean disinformation campaign? https://t.co/6UNSN6CzYq</td>\n",
       "      <td>0</td>\n",
       "    </tr>\n",
       "    <tr>\n",
       "      <th>2056</th>\n",
       "      <td>casualty</td>\n",
       "      <td>NaN</td>\n",
       "      <td>Study? Don't you mean disinformation campaign? https://t.co/6UNSN6CzYq</td>\n",
       "      <td>0</td>\n",
       "    </tr>\n",
       "    <tr>\n",
       "      <th>2493</th>\n",
       "      <td>collided</td>\n",
       "      <td>jasper,texas</td>\n",
       "      <td>the planet that collided with the earth gave us the moon... at least we got something out of the deal</td>\n",
       "      <td>0</td>\n",
       "    </tr>\n",
       "    <tr>\n",
       "      <th>2495</th>\n",
       "      <td>collided</td>\n",
       "      <td>jasper,texas</td>\n",
       "      <td>the planet that collided with the earth gave us the moon... at least we got something out of the deal</td>\n",
       "      <td>0</td>\n",
       "    </tr>\n",
       "    <tr>\n",
       "      <th>2586</th>\n",
       "      <td>collision</td>\n",
       "      <td>Isle of Man</td>\n",
       "      <td>ROAD TRAFFIC COLLISION Victoria Road Junction with Marathon Road. Road Partially Blocked. Police en route.</td>\n",
       "      <td>1</td>\n",
       "    </tr>\n",
       "    <tr>\n",
       "      <th>2597</th>\n",
       "      <td>collision</td>\n",
       "      <td>Isle of Man</td>\n",
       "      <td>ROAD TRAFFIC COLLISION Victoria Road Junction with Marathon Road. Road Partially Blocked. Police en route.</td>\n",
       "      <td>1</td>\n",
       "    </tr>\n",
       "    <tr>\n",
       "      <th>3809</th>\n",
       "      <td>desolate</td>\n",
       "      <td>NaN</td>\n",
       "      <td>\"Let their habitation be desolate; [and] let none dwell in their tents.\" ~Psalms 69:25 #Bible #Poetry #God</td>\n",
       "      <td>0</td>\n",
       "    </tr>\n",
       "    <tr>\n",
       "      <th>3813</th>\n",
       "      <td>desolate</td>\n",
       "      <td>NaN</td>\n",
       "      <td>\"Let their habitation be desolate; [and] let none dwell in their tents.\" ~Psalms 69:25 #Bible #Poetry #God</td>\n",
       "      <td>0</td>\n",
       "    </tr>\n",
       "    <tr>\n",
       "      <th>4424</th>\n",
       "      <td>drowned</td>\n",
       "      <td>1200-1500</td>\n",
       "      <td>you have fallen into the mill-pond and drowned</td>\n",
       "      <td>0</td>\n",
       "    </tr>\n",
       "    <tr>\n",
       "      <th>4434</th>\n",
       "      <td>drowned</td>\n",
       "      <td>1200-1500</td>\n",
       "      <td>you have fallen into the mill-pond and drowned</td>\n",
       "      <td>0</td>\n",
       "    </tr>\n",
       "    <tr>\n",
       "      <th>4491</th>\n",
       "      <td>drowning</td>\n",
       "      <td>NaN</td>\n",
       "      <td>when i was drowning, that’s when i can finally breathe #Lover #BestRemix #iHeartAwards</td>\n",
       "      <td>0</td>\n",
       "    </tr>\n",
       "    <tr>\n",
       "      <th>4498</th>\n",
       "      <td>drowning</td>\n",
       "      <td>NaN</td>\n",
       "      <td>when i was drowning, that’s when i can finally breathe #Lover #BestRemix #iHeartAwards</td>\n",
       "      <td>0</td>\n",
       "    </tr>\n",
       "    <tr>\n",
       "      <th>4670</th>\n",
       "      <td>electrocute</td>\n",
       "      <td>NaN</td>\n",
       "      <td>jasmine: “i’m about to go electrocute my pussy ill call you back”</td>\n",
       "      <td>0</td>\n",
       "    </tr>\n",
       "    <tr>\n",
       "      <th>4671</th>\n",
       "      <td>electrocute</td>\n",
       "      <td>NaN</td>\n",
       "      <td>jasmine: “i’m about to go electrocute my pussy ill call you back”</td>\n",
       "      <td>0</td>\n",
       "    </tr>\n",
       "    <tr>\n",
       "      <th>4708</th>\n",
       "      <td>electrocute</td>\n",
       "      <td>NaN</td>\n",
       "      <td>You electrocute our desperate daughter</td>\n",
       "      <td>0</td>\n",
       "    </tr>\n",
       "    <tr>\n",
       "      <th>4711</th>\n",
       "      <td>electrocute</td>\n",
       "      <td>NaN</td>\n",
       "      <td>You electrocute our desperate daughter</td>\n",
       "      <td>0</td>\n",
       "    </tr>\n",
       "    <tr>\n",
       "      <th>5439</th>\n",
       "      <td>fatality</td>\n",
       "      <td>NaN</td>\n",
       "      <td>Haha Fatality! Wait, that’s Mortal Kombat.</td>\n",
       "      <td>0</td>\n",
       "    </tr>\n",
       "    <tr>\n",
       "      <th>5446</th>\n",
       "      <td>fatality</td>\n",
       "      <td>NaN</td>\n",
       "      <td>Haha Fatality! Wait, that’s Mortal Kombat.</td>\n",
       "      <td>0</td>\n",
       "    </tr>\n",
       "    <tr>\n",
       "      <th>5918</th>\n",
       "      <td>floods</td>\n",
       "      <td>Madrid, España</td>\n",
       "      <td>I want to help you with my project to save the Caribbean Sea from floods and hurricanes https://t.co/qD8Om9NqQK</td>\n",
       "      <td>0</td>\n",
       "    </tr>\n",
       "    <tr>\n",
       "      <th>5923</th>\n",
       "      <td>floods</td>\n",
       "      <td>Madrid, España</td>\n",
       "      <td>I want to help you with my project to save the Caribbean Sea from floods and hurricanes https://t.co/qD8Om9NqQK</td>\n",
       "      <td>0</td>\n",
       "    </tr>\n",
       "    <tr>\n",
       "      <th>5936</th>\n",
       "      <td>floods</td>\n",
       "      <td>Madrid, España</td>\n",
       "      <td>I want to help you with my project to save the Caribbean Sea from floods and hurricanes https://t.co/qD8Om9NqQK</td>\n",
       "      <td>0</td>\n",
       "    </tr>\n",
       "    <tr>\n",
       "      <th>6420</th>\n",
       "      <td>hijack</td>\n",
       "      <td>NaN</td>\n",
       "      <td>not to hijack this tweet for my own purposes but... kim sunggyu the live. now. https://t.co/RlLPO7XtiG</td>\n",
       "      <td>0</td>\n",
       "    </tr>\n",
       "    <tr>\n",
       "      <th>6426</th>\n",
       "      <td>hijack</td>\n",
       "      <td>NaN</td>\n",
       "      <td>not to hijack this tweet for my own purposes but... kim sunggyu the live. now. https://t.co/RlLPO7XtiG</td>\n",
       "      <td>0</td>\n",
       "    </tr>\n",
       "    <tr>\n",
       "      <th>6684</th>\n",
       "      <td>hostages</td>\n",
       "      <td>NaN</td>\n",
       "      <td>GIVE ME BIG SALAMI OR I SHOOT THE HOSTAGES</td>\n",
       "      <td>0</td>\n",
       "    </tr>\n",
       "    <tr>\n",
       "      <th>6685</th>\n",
       "      <td>hostages</td>\n",
       "      <td>NaN</td>\n",
       "      <td>GIVE ME BIG SALAMI OR I SHOOT THE HOSTAGES</td>\n",
       "      <td>0</td>\n",
       "    </tr>\n",
       "    <tr>\n",
       "      <th>6705</th>\n",
       "      <td>hurricane</td>\n",
       "      <td>NaN</td>\n",
       "      <td>Trump says there was an imminent threat, but there wasn’t. Trump said Alabama was in the path of Hurricane Dorian, but…</td>\n",
       "      <td>0</td>\n",
       "    </tr>\n",
       "    <tr>\n",
       "      <th>6706</th>\n",
       "      <td>hurricane</td>\n",
       "      <td>NaN</td>\n",
       "      <td>Trump says there was an imminent threat, but there wasn’t. Trump said Alabama was in the path of Hurricane Dorian, but…</td>\n",
       "      <td>0</td>\n",
       "    </tr>\n",
       "    <tr>\n",
       "      <th>7445</th>\n",
       "      <td>meltdown</td>\n",
       "      <td>NaN</td>\n",
       "      <td>\"There was a national meltdown. Middle-aged women were losing the plot\" - Anupama Chopra #20YearsOfHrithikRoshan</td>\n",
       "      <td>0</td>\n",
       "    </tr>\n",
       "    <tr>\n",
       "      <th>7451</th>\n",
       "      <td>meltdown</td>\n",
       "      <td>NaN</td>\n",
       "      <td>\"There was a national meltdown. Middle-aged women were losing the plot\" - Anupama Chopra #20YearsOfHrithikRoshan</td>\n",
       "      <td>0</td>\n",
       "    </tr>\n",
       "    <tr>\n",
       "      <th>7930</th>\n",
       "      <td>oil%20spill</td>\n",
       "      <td>NaN</td>\n",
       "      <td>Pipeline Fights Class Certification in California Oil Spill Suit https://t.co/GaFsXlXEBx</td>\n",
       "      <td>0</td>\n",
       "    </tr>\n",
       "    <tr>\n",
       "      <th>7952</th>\n",
       "      <td>oil%20spill</td>\n",
       "      <td>NaN</td>\n",
       "      <td>Pipeline Fights Class Certification in California Oil Spill Suit https://t.co/GaFsXlXEBx</td>\n",
       "      <td>0</td>\n",
       "    </tr>\n",
       "    <tr>\n",
       "      <th>10845</th>\n",
       "      <td>war%20zone</td>\n",
       "      <td>Chicago, IL</td>\n",
       "      <td>War Zone [prod. By Legacy] https://t.co/pwUCnqpkDE</td>\n",
       "      <td>0</td>\n",
       "    </tr>\n",
       "    <tr>\n",
       "      <th>10847</th>\n",
       "      <td>war%20zone</td>\n",
       "      <td>Chicago, IL</td>\n",
       "      <td>War Zone [prod. By Legacy] https://t.co/pwUCnqpkDE</td>\n",
       "      <td>0</td>\n",
       "    </tr>\n",
       "    <tr>\n",
       "      <th>11171</th>\n",
       "      <td>wounded</td>\n",
       "      <td>NaN</td>\n",
       "      <td>Man arrested after 8 wounded in stabbing spree in Colorado Springs, police say https://t.co/VIoRe7HNLU</td>\n",
       "      <td>1</td>\n",
       "    </tr>\n",
       "    <tr>\n",
       "      <th>11184</th>\n",
       "      <td>wounded</td>\n",
       "      <td>NaN</td>\n",
       "      <td>Man arrested after 8 wounded in stabbing spree in Colorado Springs, police say https://t.co/VIoRe7HNLU</td>\n",
       "      <td>1</td>\n",
       "    </tr>\n",
       "  </tbody>\n",
       "</table>\n",
       "</div>"
      ],
      "text/plain": [
       "           keyword        location  \\\n",
       "id                                   \n",
       "786      bioterror             NaN   \n",
       "787      bioterror             NaN   \n",
       "806      bioterror   United States   \n",
       "808      bioterror   United States   \n",
       "2054      casualty             NaN   \n",
       "2056      casualty             NaN   \n",
       "2493      collided    jasper,texas   \n",
       "2495      collided    jasper,texas   \n",
       "2586     collision     Isle of Man   \n",
       "2597     collision     Isle of Man   \n",
       "3809      desolate             NaN   \n",
       "3813      desolate             NaN   \n",
       "4424       drowned       1200-1500   \n",
       "4434       drowned       1200-1500   \n",
       "4491      drowning             NaN   \n",
       "4498      drowning             NaN   \n",
       "4670   electrocute             NaN   \n",
       "4671   electrocute             NaN   \n",
       "4708   electrocute             NaN   \n",
       "4711   electrocute             NaN   \n",
       "5439      fatality             NaN   \n",
       "5446      fatality             NaN   \n",
       "5918        floods  Madrid, España   \n",
       "5923        floods  Madrid, España   \n",
       "5936        floods  Madrid, España   \n",
       "6420        hijack             NaN   \n",
       "6426        hijack             NaN   \n",
       "6684      hostages             NaN   \n",
       "6685      hostages             NaN   \n",
       "6705     hurricane             NaN   \n",
       "6706     hurricane             NaN   \n",
       "7445      meltdown             NaN   \n",
       "7451      meltdown             NaN   \n",
       "7930   oil%20spill             NaN   \n",
       "7952   oil%20spill             NaN   \n",
       "10845   war%20zone     Chicago, IL   \n",
       "10847   war%20zone     Chicago, IL   \n",
       "11171      wounded             NaN   \n",
       "11184      wounded             NaN   \n",
       "\n",
       "                                                                                                                          text  \\\n",
       "id                                                                                                                               \n",
       "786                          Does the push for mass vaccination point toward a staged bioterror event? https://t.co/o10epcfRV6   \n",
       "787                          Does the push for mass vaccination point toward a staged bioterror event? https://t.co/o10epcfRV6   \n",
       "806                                   Does the push for vaccination point to a staged bioterror event? https://t.co/WWvKQkY1O2   \n",
       "808                                   Does the push for vaccination point to a staged bioterror event? https://t.co/WWvKQkY1O2   \n",
       "2054                                                    Study? Don't you mean disinformation campaign? https://t.co/6UNSN6CzYq   \n",
       "2056                                                    Study? Don't you mean disinformation campaign? https://t.co/6UNSN6CzYq   \n",
       "2493                     the planet that collided with the earth gave us the moon... at least we got something out of the deal   \n",
       "2495                     the planet that collided with the earth gave us the moon... at least we got something out of the deal   \n",
       "2586                ROAD TRAFFIC COLLISION Victoria Road Junction with Marathon Road. Road Partially Blocked. Police en route.   \n",
       "2597                ROAD TRAFFIC COLLISION Victoria Road Junction with Marathon Road. Road Partially Blocked. Police en route.   \n",
       "3809                \"Let their habitation be desolate; [and] let none dwell in their tents.\" ~Psalms 69:25 #Bible #Poetry #God   \n",
       "3813                \"Let their habitation be desolate; [and] let none dwell in their tents.\" ~Psalms 69:25 #Bible #Poetry #God   \n",
       "4424                                                                            you have fallen into the mill-pond and drowned   \n",
       "4434                                                                            you have fallen into the mill-pond and drowned   \n",
       "4491                                    when i was drowning, that’s when i can finally breathe #Lover #BestRemix #iHeartAwards   \n",
       "4498                                    when i was drowning, that’s when i can finally breathe #Lover #BestRemix #iHeartAwards   \n",
       "4670                                                         jasmine: “i’m about to go electrocute my pussy ill call you back”   \n",
       "4671                                                         jasmine: “i’m about to go electrocute my pussy ill call you back”   \n",
       "4708                                                                                    You electrocute our desperate daughter   \n",
       "4711                                                                                    You electrocute our desperate daughter   \n",
       "5439                                                                                Haha Fatality! Wait, that’s Mortal Kombat.   \n",
       "5446                                                                                Haha Fatality! Wait, that’s Mortal Kombat.   \n",
       "5918           I want to help you with my project to save the Caribbean Sea from floods and hurricanes https://t.co/qD8Om9NqQK   \n",
       "5923           I want to help you with my project to save the Caribbean Sea from floods and hurricanes https://t.co/qD8Om9NqQK   \n",
       "5936           I want to help you with my project to save the Caribbean Sea from floods and hurricanes https://t.co/qD8Om9NqQK   \n",
       "6420                    not to hijack this tweet for my own purposes but... kim sunggyu the live. now. https://t.co/RlLPO7XtiG   \n",
       "6426                    not to hijack this tweet for my own purposes but... kim sunggyu the live. now. https://t.co/RlLPO7XtiG   \n",
       "6684                                                                                GIVE ME BIG SALAMI OR I SHOOT THE HOSTAGES   \n",
       "6685                                                                                GIVE ME BIG SALAMI OR I SHOOT THE HOSTAGES   \n",
       "6705   Trump says there was an imminent threat, but there wasn’t. Trump said Alabama was in the path of Hurricane Dorian, but…   \n",
       "6706   Trump says there was an imminent threat, but there wasn’t. Trump said Alabama was in the path of Hurricane Dorian, but…   \n",
       "7445          \"There was a national meltdown. Middle-aged women were losing the plot\" - Anupama Chopra #20YearsOfHrithikRoshan   \n",
       "7451          \"There was a national meltdown. Middle-aged women were losing the plot\" - Anupama Chopra #20YearsOfHrithikRoshan   \n",
       "7930                                  Pipeline Fights Class Certification in California Oil Spill Suit https://t.co/GaFsXlXEBx   \n",
       "7952                                  Pipeline Fights Class Certification in California Oil Spill Suit https://t.co/GaFsXlXEBx   \n",
       "10845                                                                       War Zone [prod. By Legacy] https://t.co/pwUCnqpkDE   \n",
       "10847                                                                       War Zone [prod. By Legacy] https://t.co/pwUCnqpkDE   \n",
       "11171                   Man arrested after 8 wounded in stabbing spree in Colorado Springs, police say https://t.co/VIoRe7HNLU   \n",
       "11184                   Man arrested after 8 wounded in stabbing spree in Colorado Springs, police say https://t.co/VIoRe7HNLU   \n",
       "\n",
       "       target  \n",
       "id             \n",
       "786         0  \n",
       "787         0  \n",
       "806         0  \n",
       "808         0  \n",
       "2054        0  \n",
       "2056        0  \n",
       "2493        0  \n",
       "2495        0  \n",
       "2586        1  \n",
       "2597        1  \n",
       "3809        0  \n",
       "3813        0  \n",
       "4424        0  \n",
       "4434        0  \n",
       "4491        0  \n",
       "4498        0  \n",
       "4670        0  \n",
       "4671        0  \n",
       "4708        0  \n",
       "4711        0  \n",
       "5439        0  \n",
       "5446        0  \n",
       "5918        0  \n",
       "5923        0  \n",
       "5936        0  \n",
       "6420        0  \n",
       "6426        0  \n",
       "6684        0  \n",
       "6685        0  \n",
       "6705        0  \n",
       "6706        0  \n",
       "7445        0  \n",
       "7451        0  \n",
       "7930        0  \n",
       "7952        0  \n",
       "10845       0  \n",
       "10847       0  \n",
       "11171       1  \n",
       "11184       1  "
      ]
     },
     "execution_count": 51,
     "metadata": {},
     "output_type": "execute_result"
    }
   ],
   "source": [
    "df[df.duplicated(keep=False)]"
   ]
  },
  {
   "cell_type": "markdown",
   "id": "hearing-reproduction",
   "metadata": {},
   "source": [
    "There are many exact tweets replicas that may exist for various reasons, nevertheless, as far as our classifier is concerned, these duplicates must be deleted, and this will be done next."
   ]
  },
  {
   "cell_type": "code",
   "execution_count": 53,
   "id": "mineral-world",
   "metadata": {
    "ExecuteTime": {
     "end_time": "2021-09-03T11:23:51.548327Z",
     "start_time": "2021-09-03T11:23:51.524981Z"
    }
   },
   "outputs": [
    {
     "data": {
      "text/plain": [
       "keyword     20\n",
       "location     7\n",
       "text        20\n",
       "target      20\n",
       "dtype: int64"
      ]
     },
     "execution_count": 53,
     "metadata": {},
     "output_type": "execute_result"
    }
   ],
   "source": [
    "# First get the count of the duplicates\n",
    "df[df.duplicated()].count()"
   ]
  },
  {
   "cell_type": "markdown",
   "id": "hawaiian-treasury",
   "metadata": {},
   "source": [
    "There are 20 duplicates."
   ]
  },
  {
   "cell_type": "code",
   "execution_count": 54,
   "id": "excited-antenna",
   "metadata": {
    "ExecuteTime": {
     "end_time": "2021-09-03T11:24:56.993126Z",
     "start_time": "2021-09-03T11:24:56.970921Z"
    }
   },
   "outputs": [],
   "source": [
    "df = df.drop_duplicates()"
   ]
  },
  {
   "cell_type": "markdown",
   "id": "raised-major",
   "metadata": {
    "ExecuteTime": {
     "end_time": "2021-09-03T11:25:22.300674Z",
     "start_time": "2021-09-03T11:25:22.287893Z"
    }
   },
   "source": [
    "Check again if the duplicates still exist."
   ]
  },
  {
   "cell_type": "code",
   "execution_count": 55,
   "id": "eastern-cookie",
   "metadata": {
    "ExecuteTime": {
     "end_time": "2021-09-03T11:25:04.424098Z",
     "start_time": "2021-09-03T11:25:04.386594Z"
    }
   },
   "outputs": [
    {
     "data": {
      "text/html": [
       "<div>\n",
       "<style scoped>\n",
       "    .dataframe tbody tr th:only-of-type {\n",
       "        vertical-align: middle;\n",
       "    }\n",
       "\n",
       "    .dataframe tbody tr th {\n",
       "        vertical-align: top;\n",
       "    }\n",
       "\n",
       "    .dataframe thead th {\n",
       "        text-align: right;\n",
       "    }\n",
       "</style>\n",
       "<table border=\"1\" class=\"dataframe\">\n",
       "  <thead>\n",
       "    <tr style=\"text-align: right;\">\n",
       "      <th></th>\n",
       "      <th>keyword</th>\n",
       "      <th>location</th>\n",
       "      <th>text</th>\n",
       "      <th>target</th>\n",
       "    </tr>\n",
       "    <tr>\n",
       "      <th>id</th>\n",
       "      <th></th>\n",
       "      <th></th>\n",
       "      <th></th>\n",
       "      <th></th>\n",
       "    </tr>\n",
       "  </thead>\n",
       "  <tbody>\n",
       "  </tbody>\n",
       "</table>\n",
       "</div>"
      ],
      "text/plain": [
       "Empty DataFrame\n",
       "Columns: [keyword, location, text, target]\n",
       "Index: []"
      ]
     },
     "execution_count": 55,
     "metadata": {},
     "output_type": "execute_result"
    }
   ],
   "source": [
    "df[df.duplicated(keep=False)]"
   ]
  },
  {
   "cell_type": "markdown",
   "id": "pediatric-cement",
   "metadata": {},
   "source": [
    "The following also confirms that our dataframe has reduced by 20 rows in size."
   ]
  },
  {
   "cell_type": "code",
   "execution_count": 63,
   "id": "under-cliff",
   "metadata": {
    "ExecuteTime": {
     "end_time": "2021-09-03T11:40:41.580823Z",
     "start_time": "2021-09-03T11:40:41.557541Z"
    }
   },
   "outputs": [
    {
     "name": "stdout",
     "output_type": "stream",
     "text": [
      "<class 'pandas.core.frame.DataFrame'>\n",
      "Int64Index: 11350 entries, 0 to 11369\n",
      "Data columns (total 4 columns):\n",
      " #   Column    Non-Null Count  Dtype \n",
      "---  ------    --------------  ----- \n",
      " 0   keyword   11350 non-null  object\n",
      " 1   location  7945 non-null   object\n",
      " 2   text      11350 non-null  object\n",
      " 3   target    11350 non-null  int64 \n",
      "dtypes: int64(1), object(3)\n",
      "memory usage: 443.4+ KB\n"
     ]
    }
   ],
   "source": [
    "df.info()"
   ]
  },
  {
   "cell_type": "markdown",
   "id": "spare-communist",
   "metadata": {},
   "source": [
    "This is not to be confused with duplication on a a column or two where for instance two different persons tweet the same tweet but where a column such as the `location` indicates that the tweets are two different tweets posted by the same person about two different topics or possibly the same tweet text tweeted by two different people about the same topic. With the absence of the Twitter tweet id, this is not easy to confirm."
   ]
  },
  {
   "cell_type": "markdown",
   "id": "mineral-writer",
   "metadata": {},
   "source": [
    "Let us now have a look at the `location` column and try to explore its content to decide on the impact of disregarding it from our analysis due to the huge amount of Null entries. "
   ]
  },
  {
   "cell_type": "code",
   "execution_count": 79,
   "id": "colored-photography",
   "metadata": {
    "ExecuteTime": {
     "end_time": "2021-09-03T11:48:19.498988Z",
     "start_time": "2021-09-03T11:48:19.483675Z"
    }
   },
   "outputs": [
    {
     "data": {
      "text/plain": [
       "4504"
      ]
     },
     "execution_count": 79,
     "metadata": {},
     "output_type": "execute_result"
    }
   ],
   "source": [
    "# check for unique values\n",
    "df['location'].nunique()"
   ]
  },
  {
   "cell_type": "code",
   "execution_count": 87,
   "id": "reliable-retreat",
   "metadata": {
    "ExecuteTime": {
     "end_time": "2021-09-03T12:25:10.149302Z",
     "start_time": "2021-09-03T12:25:10.128492Z"
    }
   },
   "outputs": [
    {
     "data": {
      "text/plain": [
       "United States      95\n",
       "Australia          83\n",
       "London, England    81\n",
       "UK                 77\n",
       "India              74\n",
       "London             69\n",
       "United Kingdom     59\n",
       "USA                52\n",
       "California, USA    47\n",
       "Los Angeles, CA    45\n",
       "Name: location, dtype: int64"
      ]
     },
     "execution_count": 87,
     "metadata": {},
     "output_type": "execute_result"
    }
   ],
   "source": [
    "df['location'].value_counts().head(10)"
   ]
  },
  {
   "cell_type": "code",
   "execution_count": 88,
   "id": "stuck-indianapolis",
   "metadata": {
    "ExecuteTime": {
     "end_time": "2021-09-03T12:25:27.372543Z",
     "start_time": "2021-09-03T12:25:27.353727Z"
    }
   },
   "outputs": [
    {
     "data": {
      "text/plain": [
       "Here and there, hither and yon (NYC/Paris)heidi dot n dot moore at gmail dot com    1\n",
       "robinsonebunu@gmail.com                                                             1\n",
       "multi                                                                               1\n",
       "Louisiana/Right behind you                                                          1\n",
       "Snohomish County, Washington                                                        1\n",
       "Royal Leamington Spa, England                                                       1\n",
       "High in the mountains                                                               1\n",
       "The green power rangers’ arms                                                       1\n",
       "134340/ neo city                                                                    1\n",
       "The actual, real, fact-based world                                                  1\n",
       "Name: location, dtype: int64"
      ]
     },
     "execution_count": 88,
     "metadata": {},
     "output_type": "execute_result"
    }
   ],
   "source": [
    "df['location'].value_counts().tail(10)"
   ]
  },
  {
   "cell_type": "markdown",
   "id": "micro-miami",
   "metadata": {},
   "source": [
    "There are 4,504 unique values of the `location` column out of the ~7,500 Non-Null values with `United States` on the top of the list with 95 occurrence."
   ]
  },
  {
   "cell_type": "markdown",
   "id": "extensive-creature",
   "metadata": {},
   "source": [
    "This column shows \"the location the tweet was sent from (may be blank)\" according to the dataset owner on Kaggle. Although the data contained in this column does not appear to be homogenous, yet it appears to be holding information that has a potential to separate between classes should there was no Null values that account for ~25% of the entries. \\\n",
    "Now, the question is whether to remove this column all together or retain it and replace the Nan values by a default value.\n",
    "\n",
    "It is not an easy question to answer at this stage. I will remove this column. The reason behind this is the fact that the data in this column needs huge pre-processing before being of an effective use as the information within the column is not homogenous as it was mentioned earlier."
   ]
  },
  {
   "cell_type": "code",
   "execution_count": 91,
   "id": "forward-danish",
   "metadata": {
    "ExecuteTime": {
     "end_time": "2021-09-03T13:28:36.154336Z",
     "start_time": "2021-09-03T13:28:36.120378Z"
    }
   },
   "outputs": [],
   "source": [
    "# drop the column `location` from the dataframe\n",
    "df = df.drop(columns='location', axis = 1)"
   ]
  },
  {
   "cell_type": "code",
   "execution_count": 93,
   "id": "silent-ancient",
   "metadata": {
    "ExecuteTime": {
     "end_time": "2021-09-03T13:28:58.424419Z",
     "start_time": "2021-09-03T13:28:58.414096Z"
    }
   },
   "outputs": [
    {
     "data": {
      "text/html": [
       "<div>\n",
       "<style scoped>\n",
       "    .dataframe tbody tr th:only-of-type {\n",
       "        vertical-align: middle;\n",
       "    }\n",
       "\n",
       "    .dataframe tbody tr th {\n",
       "        vertical-align: top;\n",
       "    }\n",
       "\n",
       "    .dataframe thead th {\n",
       "        text-align: right;\n",
       "    }\n",
       "</style>\n",
       "<table border=\"1\" class=\"dataframe\">\n",
       "  <thead>\n",
       "    <tr style=\"text-align: right;\">\n",
       "      <th></th>\n",
       "      <th>keyword</th>\n",
       "      <th>text</th>\n",
       "      <th>target</th>\n",
       "    </tr>\n",
       "    <tr>\n",
       "      <th>id</th>\n",
       "      <th></th>\n",
       "      <th></th>\n",
       "      <th></th>\n",
       "    </tr>\n",
       "  </thead>\n",
       "  <tbody>\n",
       "    <tr>\n",
       "      <th>0</th>\n",
       "      <td>ablaze</td>\n",
       "      <td>Communal violence in Bhainsa, Telangana. \"Stones were pelted on Muslims' houses and some houses and vehicles were set ablaze…</td>\n",
       "      <td>1</td>\n",
       "    </tr>\n",
       "    <tr>\n",
       "      <th>1</th>\n",
       "      <td>ablaze</td>\n",
       "      <td>Telangana: Section 144 has been imposed in Bhainsa from January 13 to 15, after clash erupted between two groups on January 12. Po…</td>\n",
       "      <td>1</td>\n",
       "    </tr>\n",
       "    <tr>\n",
       "      <th>2</th>\n",
       "      <td>ablaze</td>\n",
       "      <td>Arsonist sets cars ablaze at dealership https://t.co/gOQvyJbpVI</td>\n",
       "      <td>1</td>\n",
       "    </tr>\n",
       "    <tr>\n",
       "      <th>3</th>\n",
       "      <td>ablaze</td>\n",
       "      <td>Arsonist sets cars ablaze at dealership https://t.co/0gL7NUCPlb https://t.co/u1CcBhOWh9</td>\n",
       "      <td>1</td>\n",
       "    </tr>\n",
       "    <tr>\n",
       "      <th>4</th>\n",
       "      <td>ablaze</td>\n",
       "      <td>\"Lord Jesus, your love brings freedom and pardon. Fill me with your Holy Spirit and set my heart ablaze with your l… https://t.co/VlTznnPNi8</td>\n",
       "      <td>0</td>\n",
       "    </tr>\n",
       "  </tbody>\n",
       "</table>\n",
       "</div>"
      ],
      "text/plain": [
       "   keyword  \\\n",
       "id           \n",
       "0   ablaze   \n",
       "1   ablaze   \n",
       "2   ablaze   \n",
       "3   ablaze   \n",
       "4   ablaze   \n",
       "\n",
       "                                                                                                                                            text  \\\n",
       "id                                                                                                                                                 \n",
       "0                  Communal violence in Bhainsa, Telangana. \"Stones were pelted on Muslims' houses and some houses and vehicles were set ablaze…   \n",
       "1            Telangana: Section 144 has been imposed in Bhainsa from January 13 to 15, after clash erupted between two groups on January 12. Po…   \n",
       "2                                                                                Arsonist sets cars ablaze at dealership https://t.co/gOQvyJbpVI   \n",
       "3                                                        Arsonist sets cars ablaze at dealership https://t.co/0gL7NUCPlb https://t.co/u1CcBhOWh9   \n",
       "4   \"Lord Jesus, your love brings freedom and pardon. Fill me with your Holy Spirit and set my heart ablaze with your l… https://t.co/VlTznnPNi8   \n",
       "\n",
       "    target  \n",
       "id          \n",
       "0        1  \n",
       "1        1  \n",
       "2        1  \n",
       "3        1  \n",
       "4        0  "
      ]
     },
     "execution_count": 93,
     "metadata": {},
     "output_type": "execute_result"
    }
   ],
   "source": [
    "# and check\n",
    "df.head()"
   ]
  },
  {
   "cell_type": "markdown",
   "id": "premier-orlando",
   "metadata": {},
   "source": [
    "The dataframe is now clean and ready for pre-processing before modeling, but before that, let us do some exploration to understand more about the data content."
   ]
  },
  {
   "cell_type": "code",
   "execution_count": 109,
   "id": "signed-exhibition",
   "metadata": {
    "ExecuteTime": {
     "end_time": "2021-09-03T13:36:54.133928Z",
     "start_time": "2021-09-03T13:36:54.123930Z"
    }
   },
   "outputs": [
    {
     "data": {
      "text/plain": [
       "(81.0, 19.0)"
      ]
     },
     "execution_count": 109,
     "metadata": {},
     "output_type": "execute_result"
    }
   ],
   "source": [
    "# data balance\n",
    "neg_class, pos_class = round((df['target'].value_counts()/df.shape[0]) * 100, 0)\n",
    "neg_class, pos_class"
   ]
  },
  {
   "cell_type": "code",
   "execution_count": 130,
   "id": "amateur-petroleum",
   "metadata": {
    "ExecuteTime": {
     "end_time": "2021-09-03T13:52:46.503254Z",
     "start_time": "2021-09-03T13:52:46.400445Z"
    }
   },
   "outputs": [
    {
     "data": {
      "image/png": "[encoded data removed]",
      "text/plain": [
       "<Figure size 1080x360 with 1 Axes>"
      ]
     },
     "metadata": {
      "needs_background": "light"
     },
     "output_type": "display_data"
    }
   ],
   "source": [
    "# visualize the class imbalance\n",
    "plt.figure(figsize = (15,5))\n",
    "\n",
    "df['target'].value_counts().plot.barh()\n",
    "plt.title('Frequency of Classes')\n",
    "plt.grid()\n",
    "\n",
    "plt.show()"
   ]
  },
  {
   "cell_type": "markdown",
   "id": "together-belly",
   "metadata": {
    "ExecuteTime": {
     "end_time": "2021-09-03T13:33:36.066342Z",
     "start_time": "2021-09-03T13:33:36.058341Z"
    }
   },
   "source": [
    "It is clear that the data is imbalanced with ~ 80:20 between the negative class and the positive class respectively. This is off course a problem that we need to address before we model the data as class imbalance impacts classifiers performance."
   ]
  },
  {
   "cell_type": "markdown",
   "id": "political-favor",
   "metadata": {},
   "source": [
    "Also, it will be interesting to explore the `keyword` column more and see its related statistics and  whether is a dominant pattern."
   ]
  },
  {
   "cell_type": "code",
   "execution_count": 132,
   "id": "listed-clearing",
   "metadata": {
    "ExecuteTime": {
     "end_time": "2021-09-03T13:55:47.953999Z",
     "start_time": "2021-09-03T13:55:47.936882Z"
    }
   },
   "outputs": [
    {
     "data": {
      "text/plain": [
       "(219,\n",
       " thunderstorm     93\n",
       " flattened        88\n",
       " stretcher        86\n",
       " mass%20murder    86\n",
       " sirens           83\n",
       "                  ..\n",
       " electrocuted     16\n",
       " rainstorm        11\n",
       " deluged          10\n",
       " siren            10\n",
       " tsunami           6\n",
       " Name: keyword, Length: 219, dtype: int64)"
      ]
     },
     "execution_count": 132,
     "metadata": {},
     "output_type": "execute_result"
    }
   ],
   "source": [
    "df['keyword'].value_counts().count(), df['keyword'].value_counts(), "
   ]
  },
  {
   "cell_type": "markdown",
   "id": "based-radio",
   "metadata": {},
   "source": [
    "There are 219 unique keywords on the column. Apparently, the column needs cleaning on the pre-processing stage, for instance, the value mass%20murder does not seem to be indicative unless it is curated. let us look at some random entires of the same column."
   ]
  },
  {
   "cell_type": "code",
   "execution_count": 284,
   "id": "waiting-retrieval",
   "metadata": {
    "ExecuteTime": {
     "end_time": "2021-09-03T14:50:48.525060Z",
     "start_time": "2021-09-03T14:50:48.502725Z"
    }
   },
   "outputs": [
    {
     "data": {
      "text/html": [
       "<div>\n",
       "<style scoped>\n",
       "    .dataframe tbody tr th:only-of-type {\n",
       "        vertical-align: middle;\n",
       "    }\n",
       "\n",
       "    .dataframe tbody tr th {\n",
       "        vertical-align: top;\n",
       "    }\n",
       "\n",
       "    .dataframe thead th {\n",
       "        text-align: right;\n",
       "    }\n",
       "</style>\n",
       "<table border=\"1\" class=\"dataframe\">\n",
       "  <thead>\n",
       "    <tr style=\"text-align: right;\">\n",
       "      <th></th>\n",
       "      <th>keyword</th>\n",
       "      <th>text</th>\n",
       "      <th>target</th>\n",
       "    </tr>\n",
       "    <tr>\n",
       "      <th>id</th>\n",
       "      <th></th>\n",
       "      <th></th>\n",
       "      <th></th>\n",
       "    </tr>\n",
       "  </thead>\n",
       "  <tbody>\n",
       "    <tr>\n",
       "      <th>4035</th>\n",
       "      <td>detonate</td>\n",
       "      <td>#AblaNari #MohiniMondol threatened crew wid bombs strapped to her body &amp;amp; wud detonate them any moment Anyways such #Le…</td>\n",
       "      <td>1</td>\n",
       "    </tr>\n",
       "    <tr>\n",
       "      <th>6095</th>\n",
       "      <td>hailstorm</td>\n",
       "      <td>Sir I heard your company looking for car name ( Mahindra Hailstorm and mahindra Shred)</td>\n",
       "      <td>0</td>\n",
       "    </tr>\n",
       "    <tr>\n",
       "      <th>1111</th>\n",
       "      <td>blizzard</td>\n",
       "      <td>I became lost in a Himalayan blizzard at 4000 meters and was saved by a horse. https://t.co/DGP7RNeiv6</td>\n",
       "      <td>1</td>\n",
       "    </tr>\n",
       "    <tr>\n",
       "      <th>2749</th>\n",
       "      <td>crush</td>\n",
       "      <td>yo i kinda jus wanna kiss my crush there i said it</td>\n",
       "      <td>0</td>\n",
       "    </tr>\n",
       "    <tr>\n",
       "      <th>1947</th>\n",
       "      <td>bush%20fires</td>\n",
       "      <td>are offering 2 people the chance to WIN a 3-night stay at their bush home in South Africa. Every $20… https://t.co/5QXFjSZzvR</td>\n",
       "      <td>0</td>\n",
       "    </tr>\n",
       "  </tbody>\n",
       "</table>\n",
       "</div>"
      ],
      "text/plain": [
       "           keyword  \\\n",
       "id                   \n",
       "4035      detonate   \n",
       "6095     hailstorm   \n",
       "1111      blizzard   \n",
       "2749         crush   \n",
       "1947  bush%20fires   \n",
       "\n",
       "                                                                                                                               text  \\\n",
       "id                                                                                                                                    \n",
       "4035    #AblaNari #MohiniMondol threatened crew wid bombs strapped to her body &amp; wud detonate them any moment Anyways such #Le…   \n",
       "6095                                         Sir I heard your company looking for car name ( Mahindra Hailstorm and mahindra Shred)   \n",
       "1111                         I became lost in a Himalayan blizzard at 4000 meters and was saved by a horse. https://t.co/DGP7RNeiv6   \n",
       "2749                                                                             yo i kinda jus wanna kiss my crush there i said it   \n",
       "1947  are offering 2 people the chance to WIN a 3-night stay at their bush home in South Africa. Every $20… https://t.co/5QXFjSZzvR   \n",
       "\n",
       "      target  \n",
       "id            \n",
       "4035       1  \n",
       "6095       0  \n",
       "1111       1  \n",
       "2749       0  \n",
       "1947       0  "
      ]
     },
     "execution_count": 284,
     "metadata": {},
     "output_type": "execute_result"
    }
   ],
   "source": [
    "df.sample(5)"
   ]
  },
  {
   "cell_type": "markdown",
   "id": "secret-mobility",
   "metadata": {},
   "source": [
    "The column is mostly one word, but sometimes the entry consists of two words (bi-grams) stuck together with the character set `%20` in between. some examples:\n",
    "- emergency%20services\t\n",
    "- forest%20fire\n",
    "- body%20bag \\\n",
    "etc.."
   ]
  },
  {
   "cell_type": "code",
   "execution_count": 217,
   "id": "understood-amino",
   "metadata": {
    "ExecuteTime": {
     "end_time": "2021-09-03T14:29:09.714219Z",
     "start_time": "2021-09-03T14:29:09.696816Z"
    }
   },
   "outputs": [
    {
     "name": "stdout",
     "output_type": "stream",
     "text": [
      "The number of these bigrams is 1819 entries out of 11350 entries in the dataframe.\n"
     ]
    }
   ],
   "source": [
    "print(f'The number of these bigrams in the keyword column is {df[df[\"keyword\"].str.contains(\"%20\")].count()[0]} \\\n",
    "entries out of {df.shape[0]} entries in the dataframe.') "
   ]
  },
  {
   "cell_type": "markdown",
   "id": "opposed-press",
   "metadata": {},
   "source": [
    "The above off course includes all duplicated entries."
   ]
  },
  {
   "cell_type": "code",
   "execution_count": 257,
   "id": "confidential-corruption",
   "metadata": {
    "ExecuteTime": {
     "end_time": "2021-09-03T14:39:48.126432Z",
     "start_time": "2021-09-03T14:39:48.106669Z"
    }
   },
   "outputs": [
    {
     "name": "stdout",
     "output_type": "stream",
     "text": [
      "The maximum and minimum string length in the text column are (149, 5) respectively.\n"
     ]
    }
   ],
   "source": [
    "print(f'The maximum and minimum string length in the text column are \\\n",
    "{max(df[\"text\"].str.len()), min(df[\"text\"].str.len())} respectively.')"
   ]
  },
  {
   "cell_type": "markdown",
   "id": "conditional-power",
   "metadata": {
    "ExecuteTime": {
     "end_time": "2021-09-03T14:40:07.556391Z",
     "start_time": "2021-09-03T14:40:07.538255Z"
    }
   },
   "source": [
    "Looking at the distribution of the string length, we get:"
   ]
  },
  {
   "cell_type": "code",
   "execution_count": 268,
   "id": "loved-anatomy",
   "metadata": {
    "ExecuteTime": {
     "end_time": "2021-09-03T14:44:52.876560Z",
     "start_time": "2021-09-03T14:44:51.853211Z"
    }
   },
   "outputs": [
    {
     "data": {
      "image/png": "[encoded data removed]",
      "text/plain": [
       "<Figure size 1080x2160 with 1 Axes>"
      ]
     },
     "metadata": {
      "needs_background": "light"
     },
     "output_type": "display_data"
    }
   ],
   "source": [
    "# visualize the `text` Column String Length\n",
    "plt.figure(figsize = (15,30))\n",
    "\n",
    "df['text'].str.len().value_counts().plot.barh()\n",
    "plt.title('Frequency of `text` Column String Length')\n",
    "plt.grid()\n",
    "\n",
    "plt.show()"
   ]
  },
  {
   "cell_type": "markdown",
   "id": "brutal-tomato",
   "metadata": {},
   "source": [
    "It seems that string length of a big part of the entries lay around 120 characters. What is the impact of this?"
   ]
  },
  {
   "cell_type": "markdown",
   "id": "micro-devil",
   "metadata": {},
   "source": [
    "We can also see explore the same column for the hash-tags (#) and the URLs. "
   ]
  },
  {
   "cell_type": "code",
   "execution_count": 287,
   "id": "negative-wildlife",
   "metadata": {
    "ExecuteTime": {
     "end_time": "2021-09-03T14:52:30.942177Z",
     "start_time": "2021-09-03T14:52:30.926956Z"
    }
   },
   "outputs": [
    {
     "name": "stdout",
     "output_type": "stream",
     "text": [
      "The number of the entries in the `text` column with URLs is 5495 entries out of 11350 entries in the dataframe.\n"
     ]
    }
   ],
   "source": [
    "print(f'The number of the entries in the `text` column with URLs is {df[df[\"text\"].str.contains(\"http\")].count()[0]} \\\n",
    "entries out of {df.shape[0]} entries in the dataframe.') "
   ]
  },
  {
   "cell_type": "code",
   "execution_count": 289,
   "id": "swiss-affair",
   "metadata": {
    "ExecuteTime": {
     "end_time": "2021-09-03T14:52:51.320609Z",
     "start_time": "2021-09-03T14:52:51.294338Z"
    }
   },
   "outputs": [
    {
     "name": "stdout",
     "output_type": "stream",
     "text": [
      "The number of the entries in the `text` column with hash-tags is 1529 entries out of 11350 entries in the dataframe.\n"
     ]
    }
   ],
   "source": [
    "print(f'The number of the entries in the `text` column with hash-tags is {df[df[\"text\"].str.contains(\"#\")].count()[0]} \\\n",
    "entries out of {df.shape[0]} entries in the dataframe.') "
   ]
  },
  {
   "cell_type": "markdown",
   "id": "blessed-english",
   "metadata": {},
   "source": [
    "It is the clear that more than half of the entries of the `text` column include some sort of a URL/link."
   ]
  },
  {
   "cell_type": "markdown",
   "id": "ignored-museum",
   "metadata": {},
   "source": [
    "The removal of these characters if any will done in the preprocessing phase, for now we can say that the data is ready for pre-pre-processing."
   ]
  },
  {
   "cell_type": "markdown",
   "id": "defensive-hearing",
   "metadata": {},
   "source": [
    "-----------------------------------"
   ]
  },
  {
   "cell_type": "markdown",
   "id": "consolidated-democrat",
   "metadata": {},
   "source": [
    "### Pre-prcessing"
   ]
  },
  {
   "cell_type": "code",
   "execution_count": null,
   "id": "needed-consequence",
   "metadata": {},
   "outputs": [],
   "source": []
  },
  {
   "cell_type": "code",
   "execution_count": null,
   "id": "harmful-princess",
   "metadata": {},
   "outputs": [],
   "source": []
  },
  {
   "cell_type": "code",
   "execution_count": null,
   "id": "scheduled-drink",
   "metadata": {},
   "outputs": [],
   "source": []
  },
  {
   "cell_type": "code",
   "execution_count": null,
   "id": "sharp-tuner",
   "metadata": {},
   "outputs": [],
   "source": []
  },
  {
   "cell_type": "markdown",
   "id": "dietary-ethernet",
   "metadata": {
    "ExecuteTime": {
     "end_time": "2021-08-24T10:57:39.381712Z",
     "start_time": "2021-08-24T10:57:39.369774Z"
    }
   },
   "source": [
    "### Modelling"
   ]
  },
  {
   "cell_type": "code",
   "execution_count": null,
   "id": "presidential-christmas",
   "metadata": {},
   "outputs": [],
   "source": []
  },
  {
   "cell_type": "code",
   "execution_count": null,
   "id": "processed-final",
   "metadata": {},
   "outputs": [],
   "source": []
  },
  {
   "cell_type": "code",
   "execution_count": null,
   "id": "bulgarian-granny",
   "metadata": {},
   "outputs": [],
   "source": []
  },
  {
   "cell_type": "code",
   "execution_count": null,
   "id": "musical-stereo",
   "metadata": {},
   "outputs": [],
   "source": []
  }
 ],
 "metadata": {
  "hide_input": false,
  "kernelspec": {
   "display_name": "deeplearning",
   "language": "python",
   "name": "deeplearning"
  },
  "language_info": {
   "codemirror_mode": {
    "name": "ipython",
    "version": 3
   },
   "file_extension": ".py",
   "mimetype": "text/x-python",
   "name": "python",
   "nbconvert_exporter": "python",
   "pygments_lexer": "ipython3",
   "version": "3.8.8"
  },
  "toc": {
   "base_numbering": 1,
   "nav_menu": {},
   "number_sections": true,
   "sideBar": true,
   "skip_h1_title": false,
   "title_cell": "Table of Contents",
   "title_sidebar": "Contents",
   "toc_cell": false,
   "toc_position": {},
   "toc_section_display": true,
   "toc_window_display": false
  }
 },
 "nbformat": 4,
 "nbformat_minor": 5
}
