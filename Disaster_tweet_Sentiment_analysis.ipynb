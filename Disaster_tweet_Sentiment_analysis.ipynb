{
 "cells": [
  {
   "cell_type": "markdown",
   "id": "respective-anaheim",
   "metadata": {},
   "source": [
    "**Date: 24th Aug 2021** \\\n",
    "**Author: Osama Sidahmed**"
   ]
  },
  {
   "cell_type": "markdown",
   "id": "hairy-ireland",
   "metadata": {},
   "source": [
    "### Objective"
   ]
  },
  {
   "cell_type": "markdown",
   "id": "collect-norfolk",
   "metadata": {},
   "source": [
    "The objective of this notebook is to create a classifier that differentiate between a tweet related to a real natural disaster and others that do not, using Natural language Processing (NLP) methods.\n",
    "\n",
    "the data will be explored after which it it will be processed and then few classifiers using standard Machine learning algorithms and Deep Learning algorithms will be trained on the data t get to the best comparison using the relevant evaluation metrics."
   ]
  },
  {
   "cell_type": "code",
   "execution_count": null,
   "id": "funded-marker",
   "metadata": {},
   "outputs": [],
   "source": []
  },
  {
   "cell_type": "code",
   "execution_count": null,
   "id": "executed-portrait",
   "metadata": {},
   "outputs": [],
   "source": []
  },
  {
   "cell_type": "code",
   "execution_count": null,
   "id": "gross-wisconsin",
   "metadata": {},
   "outputs": [],
   "source": []
  },
  {
   "cell_type": "markdown",
   "id": "secure-component",
   "metadata": {
    "ExecuteTime": {
     "end_time": "2021-08-24T10:57:14.919906Z",
     "start_time": "2021-08-24T10:57:14.915286Z"
    }
   },
   "source": [
    "### EDA"
   ]
  },
  {
   "cell_type": "code",
   "execution_count": 1,
   "id": "hidden-index",
   "metadata": {
    "ExecuteTime": {
     "end_time": "2021-08-25T10:50:58.354181Z",
     "start_time": "2021-08-25T10:50:44.932029Z"
    }
   },
   "outputs": [],
   "source": [
    "import numpy as np\n",
    "import pandas as pd\n",
    "import matplotlib as plt"
   ]
  },
  {
   "cell_type": "markdown",
   "id": "quick-macedonia",
   "metadata": {},
   "source": [
    "**Dataset Summary:**\n",
    "\n",
    "This has been downloaded form [Kaggle](https://www.kaggle.com/vstepanenko/disaster-tweets). \n",
    "The description below is from the same page.\n",
    "\n",
    "--------------\n",
    "Description:\n",
    "\n",
    "Context\n",
    "The file contains over 11,000 tweets associated with disaster keywords like “crash”, “quarantine”, and “bush fires” as well as the location and keyword itself. The data structure was inherited from Disasters on social media\n",
    "\n",
    "The tweets were collected on Jan 14th, 2020.\n",
    "\n",
    "Some of the topics people were tweeting:\n",
    "\n",
    "The eruption of Taal Volcano in Batangas, Philippines\n",
    "Coronavirus\n",
    "Bushfires in Australia\n",
    "Iran downing of the airplane flight PS752\n",
    "\n",
    "Disclaimer: The dataset contains text that may be considered profane, vulgar, or offensive.\n",
    "\n",
    "Inspiration\n",
    "The intention was to enrich the already available data for this topic with newly collected and manually classified tweets.\n",
    "The initial source Disasters on social media which is used in Real or Not? NLP with Disaster Tweets competition on Kaggle.\n"
   ]
  },
  {
   "cell_type": "code",
   "execution_count": null,
   "id": "expected-career",
   "metadata": {},
   "outputs": [],
   "source": []
  },
  {
   "cell_type": "code",
   "execution_count": null,
   "id": "demographic-inspection",
   "metadata": {},
   "outputs": [],
   "source": []
  },
  {
   "cell_type": "markdown",
   "id": "sunrise-punishment",
   "metadata": {},
   "source": [
    "The first step is to read the csv file into a data frame and explore the dataframe different fields."
   ]
  },
  {
   "cell_type": "code",
   "execution_count": 5,
   "id": "august-miniature",
   "metadata": {
    "ExecuteTime": {
     "end_time": "2021-08-25T11:07:04.017768Z",
     "start_time": "2021-08-25T11:07:03.961114Z"
    }
   },
   "outputs": [],
   "source": [
    "# read dataframe\n",
    "df = pd.read_csv('data/tweets.csv', index_col='id')"
   ]
  },
  {
   "cell_type": "code",
   "execution_count": 7,
   "id": "binding-retail",
   "metadata": {
    "ExecuteTime": {
     "end_time": "2021-08-25T11:10:11.837579Z",
     "start_time": "2021-08-25T11:10:11.815446Z"
    }
   },
   "outputs": [
    {
     "data": {
      "text/html": [
       "<div>\n",
       "<style scoped>\n",
       "    .dataframe tbody tr th:only-of-type {\n",
       "        vertical-align: middle;\n",
       "    }\n",
       "\n",
       "    .dataframe tbody tr th {\n",
       "        vertical-align: top;\n",
       "    }\n",
       "\n",
       "    .dataframe thead th {\n",
       "        text-align: right;\n",
       "    }\n",
       "</style>\n",
       "<table border=\"1\" class=\"dataframe\">\n",
       "  <thead>\n",
       "    <tr style=\"text-align: right;\">\n",
       "      <th></th>\n",
       "      <th>keyword</th>\n",
       "      <th>location</th>\n",
       "      <th>text</th>\n",
       "      <th>target</th>\n",
       "    </tr>\n",
       "    <tr>\n",
       "      <th>id</th>\n",
       "      <th></th>\n",
       "      <th></th>\n",
       "      <th></th>\n",
       "      <th></th>\n",
       "    </tr>\n",
       "  </thead>\n",
       "  <tbody>\n",
       "    <tr>\n",
       "      <th>0</th>\n",
       "      <td>ablaze</td>\n",
       "      <td>NaN</td>\n",
       "      <td>Communal violence in Bhainsa, Telangana. \"Ston...</td>\n",
       "      <td>1</td>\n",
       "    </tr>\n",
       "    <tr>\n",
       "      <th>1</th>\n",
       "      <td>ablaze</td>\n",
       "      <td>NaN</td>\n",
       "      <td>Telangana: Section 144 has been imposed in Bha...</td>\n",
       "      <td>1</td>\n",
       "    </tr>\n",
       "    <tr>\n",
       "      <th>2</th>\n",
       "      <td>ablaze</td>\n",
       "      <td>New York City</td>\n",
       "      <td>Arsonist sets cars ablaze at dealership https:...</td>\n",
       "      <td>1</td>\n",
       "    </tr>\n",
       "    <tr>\n",
       "      <th>3</th>\n",
       "      <td>ablaze</td>\n",
       "      <td>Morgantown, WV</td>\n",
       "      <td>Arsonist sets cars ablaze at dealership https:...</td>\n",
       "      <td>1</td>\n",
       "    </tr>\n",
       "    <tr>\n",
       "      <th>4</th>\n",
       "      <td>ablaze</td>\n",
       "      <td>NaN</td>\n",
       "      <td>\"Lord Jesus, your love brings freedom and pard...</td>\n",
       "      <td>0</td>\n",
       "    </tr>\n",
       "    <tr>\n",
       "      <th>...</th>\n",
       "      <td>...</td>\n",
       "      <td>...</td>\n",
       "      <td>...</td>\n",
       "      <td>...</td>\n",
       "    </tr>\n",
       "    <tr>\n",
       "      <th>11365</th>\n",
       "      <td>wrecked</td>\n",
       "      <td>Blue State in a red sea</td>\n",
       "      <td>Media should have warned us well in advance. T...</td>\n",
       "      <td>0</td>\n",
       "    </tr>\n",
       "    <tr>\n",
       "      <th>11366</th>\n",
       "      <td>wrecked</td>\n",
       "      <td>arohaonces</td>\n",
       "      <td>i feel directly attacked 💀 i consider moonbin ...</td>\n",
       "      <td>0</td>\n",
       "    </tr>\n",
       "    <tr>\n",
       "      <th>11367</th>\n",
       "      <td>wrecked</td>\n",
       "      <td>🇵🇭</td>\n",
       "      <td>i feel directly attacked 💀 i consider moonbin ...</td>\n",
       "      <td>0</td>\n",
       "    </tr>\n",
       "    <tr>\n",
       "      <th>11368</th>\n",
       "      <td>wrecked</td>\n",
       "      <td>auroraborealis</td>\n",
       "      <td>ok who remember \"outcast\" nd the \"dora\" au?? T...</td>\n",
       "      <td>0</td>\n",
       "    </tr>\n",
       "    <tr>\n",
       "      <th>11369</th>\n",
       "      <td>wrecked</td>\n",
       "      <td>NaN</td>\n",
       "      <td>Jake Corway wrecked while running 14th at IRP.</td>\n",
       "      <td>1</td>\n",
       "    </tr>\n",
       "  </tbody>\n",
       "</table>\n",
       "<p>11370 rows × 4 columns</p>\n",
       "</div>"
      ],
      "text/plain": [
       "       keyword                 location  \\\n",
       "id                                        \n",
       "0       ablaze                      NaN   \n",
       "1       ablaze                      NaN   \n",
       "2       ablaze            New York City   \n",
       "3       ablaze           Morgantown, WV   \n",
       "4       ablaze                      NaN   \n",
       "...        ...                      ...   \n",
       "11365  wrecked  Blue State in a red sea   \n",
       "11366  wrecked               arohaonces   \n",
       "11367  wrecked                       🇵🇭   \n",
       "11368  wrecked           auroraborealis   \n",
       "11369  wrecked                      NaN   \n",
       "\n",
       "                                                    text  target  \n",
       "id                                                                \n",
       "0      Communal violence in Bhainsa, Telangana. \"Ston...       1  \n",
       "1      Telangana: Section 144 has been imposed in Bha...       1  \n",
       "2      Arsonist sets cars ablaze at dealership https:...       1  \n",
       "3      Arsonist sets cars ablaze at dealership https:...       1  \n",
       "4      \"Lord Jesus, your love brings freedom and pard...       0  \n",
       "...                                                  ...     ...  \n",
       "11365  Media should have warned us well in advance. T...       0  \n",
       "11366  i feel directly attacked 💀 i consider moonbin ...       0  \n",
       "11367  i feel directly attacked 💀 i consider moonbin ...       0  \n",
       "11368  ok who remember \"outcast\" nd the \"dora\" au?? T...       0  \n",
       "11369     Jake Corway wrecked while running 14th at IRP.       1  \n",
       "\n",
       "[11370 rows x 4 columns]"
      ]
     },
     "execution_count": 7,
     "metadata": {},
     "output_type": "execute_result"
    }
   ],
   "source": [
    "# show dataframe\n",
    "df"
   ]
  },
  {
   "cell_type": "markdown",
   "id": "raised-encounter",
   "metadata": {},
   "source": [
    "Some quick observations about the data: \\\n",
    "    - In addition to the id column that seems to be unique, the data consists of four (4) other columns, `keyword`, `location`, `text`, and `target`\n",
    "    \n"
   ]
  },
  {
   "cell_type": "code",
   "execution_count": null,
   "id": "treated-needle",
   "metadata": {},
   "outputs": [],
   "source": []
  },
  {
   "cell_type": "code",
   "execution_count": null,
   "id": "integrated-malta",
   "metadata": {},
   "outputs": [],
   "source": []
  },
  {
   "cell_type": "code",
   "execution_count": null,
   "id": "impressive-kruger",
   "metadata": {},
   "outputs": [],
   "source": []
  },
  {
   "cell_type": "code",
   "execution_count": null,
   "id": "changing-belfast",
   "metadata": {},
   "outputs": [],
   "source": []
  },
  {
   "cell_type": "code",
   "execution_count": null,
   "id": "equipped-acquisition",
   "metadata": {},
   "outputs": [],
   "source": []
  },
  {
   "cell_type": "code",
   "execution_count": null,
   "id": "continuing-possible",
   "metadata": {},
   "outputs": [],
   "source": []
  },
  {
   "cell_type": "code",
   "execution_count": null,
   "id": "recent-staff",
   "metadata": {},
   "outputs": [],
   "source": []
  },
  {
   "cell_type": "markdown",
   "id": "consolidated-democrat",
   "metadata": {},
   "source": [
    "### Pre-prcessing"
   ]
  },
  {
   "cell_type": "code",
   "execution_count": null,
   "id": "needed-consequence",
   "metadata": {},
   "outputs": [],
   "source": []
  },
  {
   "cell_type": "code",
   "execution_count": null,
   "id": "harmful-princess",
   "metadata": {},
   "outputs": [],
   "source": []
  },
  {
   "cell_type": "code",
   "execution_count": null,
   "id": "scheduled-drink",
   "metadata": {},
   "outputs": [],
   "source": []
  },
  {
   "cell_type": "code",
   "execution_count": null,
   "id": "sharp-tuner",
   "metadata": {},
   "outputs": [],
   "source": []
  },
  {
   "cell_type": "markdown",
   "id": "dietary-ethernet",
   "metadata": {
    "ExecuteTime": {
     "end_time": "2021-08-24T10:57:39.381712Z",
     "start_time": "2021-08-24T10:57:39.369774Z"
    }
   },
   "source": [
    "### Modelling"
   ]
  },
  {
   "cell_type": "code",
   "execution_count": null,
   "id": "presidential-christmas",
   "metadata": {},
   "outputs": [],
   "source": []
  },
  {
   "cell_type": "code",
   "execution_count": null,
   "id": "processed-final",
   "metadata": {},
   "outputs": [],
   "source": []
  },
  {
   "cell_type": "code",
   "execution_count": null,
   "id": "bulgarian-granny",
   "metadata": {},
   "outputs": [],
   "source": []
  },
  {
   "cell_type": "code",
   "execution_count": null,
   "id": "musical-stereo",
   "metadata": {},
   "outputs": [],
   "source": []
  }
 ],
 "metadata": {
  "hide_input": false,
  "kernelspec": {
   "display_name": "deeplearning",
   "language": "python",
   "name": "deeplearning"
  },
  "language_info": {
   "codemirror_mode": {
    "name": "ipython",
    "version": 3
   },
   "file_extension": ".py",
   "mimetype": "text/x-python",
   "name": "python",
   "nbconvert_exporter": "python",
   "pygments_lexer": "ipython3",
   "version": "3.8.8"
  },
  "toc": {
   "base_numbering": 1,
   "nav_menu": {},
   "number_sections": true,
   "sideBar": true,
   "skip_h1_title": false,
   "title_cell": "Table of Contents",
   "title_sidebar": "Contents",
   "toc_cell": false,
   "toc_position": {},
   "toc_section_display": true,
   "toc_window_display": false
  }
 },
 "nbformat": 4,
 "nbformat_minor": 5
}
