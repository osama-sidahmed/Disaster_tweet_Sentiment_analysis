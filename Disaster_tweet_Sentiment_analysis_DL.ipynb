{
 "cells": [
  {
   "cell_type": "markdown",
   "id": "included-serbia",
   "metadata": {},
   "source": [
    "**Date: 24th Aug 2021** \\\n",
    "**Author: Osama Sidahmed**"
   ]
  },
  {
   "cell_type": "markdown",
   "id": "dynamic-length",
   "metadata": {},
   "source": [
    "On the previous notebook, some EDA was done, the data was preprocessed and some baseline modelling using Logistic regression and SVM was performed after which we made a quick comparison of the best estimators evaluation metrics. At the end of the notebook we saved our cleaned dataframes so that we use them on this notebook that we will use for doing some deeplearning modelling."
   ]
  },
  {
   "cell_type": "markdown",
   "id": "described-gabriel",
   "metadata": {},
   "source": [
    "### Deeplearning modelling"
   ]
  },
  {
   "cell_type": "markdown",
   "id": "twelve-future",
   "metadata": {},
   "source": [
    "#### Keras Dense Network"
   ]
  },
  {
   "cell_type": "markdown",
   "id": "authorized-clearing",
   "metadata": {},
   "source": [
    "In this section we will attempt Dense networks to solve for our problem. First, a standard dense neural network will be fitted and evaluated and we will look at some visuals to aid us check for any signs for overfitting. This will help setup the best model on the Grid search later in terms of the model structure and the hyperparameters range."
   ]
  },
  {
   "cell_type": "code",
   "execution_count": 2,
   "id": "ignored-management",
   "metadata": {
    "ExecuteTime": {
     "end_time": "2021-10-04T14:56:19.772523Z",
     "start_time": "2021-10-04T14:56:19.762345Z"
    }
   },
   "outputs": [],
   "source": [
    "import numpy as np\n",
    "import pandas as pd\n",
    "import matplotlib.pyplot as plt\n",
    "import seaborn as sns"
   ]
  },
  {
   "cell_type": "code",
   "execution_count": 3,
   "id": "focal-panel",
   "metadata": {
    "ExecuteTime": {
     "end_time": "2021-10-04T14:56:20.561481Z",
     "start_time": "2021-10-04T14:56:19.775522Z"
    }
   },
   "outputs": [],
   "source": [
    "# Import libraries\n",
    "from sklearn.pipeline import Pipeline\n",
    "from sklearn.feature_extraction.text import CountVectorizer\n",
    "from sklearn.feature_extraction.text import TfidfVectorizer\n",
    "\n",
    "from sklearn.model_selection import GridSearchCV"
   ]
  },
  {
   "cell_type": "code",
   "execution_count": 4,
   "id": "aerial-young",
   "metadata": {
    "ExecuteTime": {
     "end_time": "2021-10-04T14:56:25.450584Z",
     "start_time": "2021-10-04T14:56:20.561481Z"
    }
   },
   "outputs": [],
   "source": [
    "import tensorflow as tf\n",
    "from tensorflow import keras\n",
    "from tensorflow.keras import layers\n",
    "from tensorflow.keras.wrappers.scikit_learn import KerasClassifier # for Keras NN CV"
   ]
  },
  {
   "cell_type": "markdown",
   "id": "banned-argument",
   "metadata": {},
   "source": [
    "As we have done all the necessary pre-processing on the preceding notebook, we can just load the csv file we saved at the end of that notebook and use the data within on this notebook as mentioned earlier."
   ]
  },
  {
   "cell_type": "code",
   "execution_count": 5,
   "id": "constant-michigan",
   "metadata": {
    "ExecuteTime": {
     "end_time": "2021-10-04T14:56:25.497402Z",
     "start_time": "2021-10-04T14:56:25.452293Z"
    }
   },
   "outputs": [],
   "source": [
    "# Read csv file containing the database dataframes\n",
    "df_train_lemma_sc = pd.read_csv('data/' + 'df_train_lemma_sc.csv')\n",
    "df_test_lemma_sc = pd.read_csv('data/' + 'df_test_lemma_sc.csv')"
   ]
  },
  {
   "cell_type": "code",
   "execution_count": 6,
   "id": "transparent-reach",
   "metadata": {
    "ExecuteTime": {
     "end_time": "2021-10-04T14:56:25.528220Z",
     "start_time": "2021-10-04T14:56:25.500457Z"
    }
   },
   "outputs": [
    {
     "data": {
      "text/plain": [
       "(     id  target                              text_spacy_Lemmatized\n",
       " 0  3296       0   the   sector have see a deluge of disruption ...\n",
       " 1   258       0   nicki minaj single handedly annihilate the ma...\n",
       " 2  4898       1   dmregister  rt tdavisdmr  a man be believe to...\n",
       " 3  8980       0   I m scream bc the baby probably still see in ...\n",
       " 4  7919       0   surprising oil tanker spill statistic publish...,\n",
       "      id  target                              text_spacy_Lemmatized\n",
       " 0  6211       0   when your dog  cat start pee on it  crap in t...\n",
       " 1   589       1   after the attack  the soldier be surprised th...\n",
       " 2  2741       0   do your research to find out if something lik...\n",
       " 3  9614       0   the actual reason he wo nt have a problem be ...\n",
       " 4  5108       0   hello  ph social medium  sorry for loudness  ...)"
      ]
     },
     "execution_count": 6,
     "metadata": {},
     "output_type": "execute_result"
    }
   ],
   "source": [
    "df_train_lemma_sc.head(), df_test_lemma_sc.head()"
   ]
  },
  {
   "cell_type": "markdown",
   "id": "motivated-triangle",
   "metadata": {},
   "source": [
    "Now, we need to split X and y. Note that the data is already split into train and test set from the previous notebook, this will make it easier to compare with the baseline models."
   ]
  },
  {
   "cell_type": "code",
   "execution_count": 111,
   "id": "increasing-maintenance",
   "metadata": {
    "ExecuteTime": {
     "end_time": "2021-10-04T17:19:54.726335Z",
     "start_time": "2021-10-04T17:19:54.686642Z"
    }
   },
   "outputs": [],
   "source": [
    "# define our X_train and y_train\n",
    "X_train = df_train_lemma_sc['text_spacy_Lemmatized'].fillna(' ')\n",
    "y_train = df_train_lemma_sc['target']"
   ]
  },
  {
   "cell_type": "code",
   "execution_count": 112,
   "id": "rough-simple",
   "metadata": {
    "ExecuteTime": {
     "end_time": "2021-10-04T17:19:55.415912Z",
     "start_time": "2021-10-04T17:19:55.403752Z"
    }
   },
   "outputs": [],
   "source": [
    "# define our X_test and y_test\n",
    "X_test = df_test_lemma_sc['text_spacy_Lemmatized'].fillna(' ')\n",
    "y_test = df_test_lemma_sc['target']"
   ]
  },
  {
   "cell_type": "code",
   "execution_count": 113,
   "id": "north-helen",
   "metadata": {
    "ExecuteTime": {
     "end_time": "2021-10-04T17:19:56.799799Z",
     "start_time": "2021-10-04T17:19:56.783055Z"
    }
   },
   "outputs": [
    {
     "data": {
      "text/plain": [
       "((8512,), (2838,), (8512,), (2838,))"
      ]
     },
     "execution_count": 113,
     "metadata": {},
     "output_type": "execute_result"
    }
   ],
   "source": [
    "# confirm the dataframes shapes\n",
    "X_train.shape, X_test.shape, y_train.shape, y_test.shape"
   ]
  },
  {
   "cell_type": "markdown",
   "id": "portuguese-marina",
   "metadata": {},
   "source": [
    "Now since this data is just cleaned data, we still need to create our features before modelling."
   ]
  },
  {
   "cell_type": "markdown",
   "id": "considered-sixth",
   "metadata": {
    "ExecuteTime": {
     "end_time": "2021-09-30T18:11:34.076683Z",
     "start_time": "2021-09-30T18:11:34.065023Z"
    }
   },
   "source": [
    "Before we do any modelling, we will prepare our train and test data for Keras networks, this include:\n",
    "- Fitting and transforming our X data using the bag of words for our initial model\n",
    "\n",
    "For now will not be splitting our train data to train/val sets but will rather use the Keras built-in `validation_split` param to split our validation data while modelling."
   ]
  },
  {
   "cell_type": "code",
   "execution_count": 114,
   "id": "gothic-nature",
   "metadata": {
    "ExecuteTime": {
     "end_time": "2021-10-04T17:19:58.394434Z",
     "start_time": "2021-10-04T17:19:58.383380Z"
    }
   },
   "outputs": [
    {
     "data": {
      "text/plain": [
       "0     the   sector have see a deluge of disruption ...\n",
       "1     nicki minaj single handedly annihilate the ma...\n",
       "2     dmregister  rt tdavisdmr  a man be believe to...\n",
       "3     I m scream bc the baby probably still see in ...\n",
       "4     surprising oil tanker spill statistic publish...\n",
       "Name: text_spacy_Lemmatized, dtype: object"
      ]
     },
     "execution_count": 114,
     "metadata": {},
     "output_type": "execute_result"
    }
   ],
   "source": [
    "# sanity check -  our X_train data\n",
    "X_train.head()"
   ]
  },
  {
   "cell_type": "code",
   "execution_count": 115,
   "id": "auburn-forest",
   "metadata": {
    "ExecuteTime": {
     "end_time": "2021-10-04T17:19:59.883588Z",
     "start_time": "2021-10-04T17:19:59.873435Z"
    }
   },
   "outputs": [
    {
     "data": {
      "text/plain": [
       "0    0\n",
       "1    0\n",
       "2    1\n",
       "3    0\n",
       "4    0\n",
       "Name: target, dtype: int64"
      ]
     },
     "execution_count": 115,
     "metadata": {},
     "output_type": "execute_result"
    }
   ],
   "source": [
    "# sanity check -  our y_train data\n",
    "y_train.head()"
   ]
  },
  {
   "cell_type": "code",
   "execution_count": 118,
   "id": "recent-service",
   "metadata": {
    "ExecuteTime": {
     "end_time": "2021-10-04T17:36:02.004003Z",
     "start_time": "2021-10-04T17:36:01.527135Z"
    }
   },
   "outputs": [],
   "source": [
    "# Fitting and transforming our X data using the bag of words for our initial model\n",
    "transformer  = CountVectorizer(stop_words='english').fit(X_train)\n",
    "X_train_transformed_dense = transformer.transform(X_train).todense()"
   ]
  },
  {
   "cell_type": "code",
   "execution_count": 119,
   "id": "expanded-incentive",
   "metadata": {
    "ExecuteTime": {
     "end_time": "2021-10-04T17:36:02.738627Z",
     "start_time": "2021-10-04T17:36:02.726563Z"
    }
   },
   "outputs": [
    {
     "data": {
      "text/plain": [
       "matrix([[0, 0, 0, ..., 0, 0, 0],\n",
       "        [0, 0, 0, ..., 0, 0, 0],\n",
       "        [0, 0, 0, ..., 0, 0, 0],\n",
       "        ...,\n",
       "        [0, 0, 0, ..., 0, 0, 0],\n",
       "        [0, 0, 0, ..., 0, 0, 0],\n",
       "        [0, 0, 0, ..., 0, 0, 0]], dtype=int64)"
      ]
     },
     "execution_count": 119,
     "metadata": {},
     "output_type": "execute_result"
    }
   ],
   "source": [
    "# check the resulting densee martix\n",
    "X_train_transformed_dense"
   ]
  },
  {
   "cell_type": "markdown",
   "id": "french-saskatchewan",
   "metadata": {
    "ExecuteTime": {
     "end_time": "2021-10-04T14:09:25.558026Z",
     "start_time": "2021-10-04T14:09:25.554025Z"
    }
   },
   "source": [
    "The reason we transformed the matrix to dense is because of the large number of zero-valued elements on our matrix. As you can see below, we have more than 14,000 columns. We did some work in the previous models to reduce that but we will keep this as is for now as this is only an initial model. We have the opportunity to improve this later."
   ]
  },
  {
   "cell_type": "code",
   "execution_count": 120,
   "id": "desirable-pittsburgh",
   "metadata": {
    "ExecuteTime": {
     "end_time": "2021-10-04T17:36:04.387116Z",
     "start_time": "2021-10-04T17:36:04.376936Z"
    }
   },
   "outputs": [
    {
     "data": {
      "text/plain": [
       "(8512, 14061)"
      ]
     },
     "execution_count": 120,
     "metadata": {},
     "output_type": "execute_result"
    }
   ],
   "source": [
    "# the shape of the X data\n",
    "X_train_transformed_dense.shape"
   ]
  },
  {
   "cell_type": "code",
   "execution_count": 121,
   "id": "elect-piano",
   "metadata": {
    "ExecuteTime": {
     "end_time": "2021-10-04T17:38:04.093165Z",
     "start_time": "2021-10-04T17:38:04.037308Z"
    }
   },
   "outputs": [
    {
     "data": {
      "text/plain": [
       "str"
      ]
     },
     "execution_count": 121,
     "metadata": {},
     "output_type": "execute_result"
    }
   ],
   "source": [
    "# ensuring that the data is string type\n",
    "type(X_train.iloc[0])"
   ]
  },
  {
   "cell_type": "code",
   "execution_count": 122,
   "id": "warming-geometry",
   "metadata": {
    "ExecuteTime": {
     "end_time": "2021-10-04T17:38:46.454464Z",
     "start_time": "2021-10-04T17:38:46.430945Z"
    }
   },
   "outputs": [
    {
     "data": {
      "text/plain": [
       "(8512,)"
      ]
     },
     "execution_count": 122,
     "metadata": {},
     "output_type": "execute_result"
    }
   ],
   "source": [
    "y_train.shape"
   ]
  },
  {
   "cell_type": "markdown",
   "id": "incorporate-arrival",
   "metadata": {},
   "source": [
    "For the sake of modelling, we need to reshape the matrix so that it is compatible with Keras as following:"
   ]
  },
  {
   "cell_type": "code",
   "execution_count": 126,
   "id": "falling-adjustment",
   "metadata": {
    "ExecuteTime": {
     "end_time": "2021-10-04T17:40:30.270233Z",
     "start_time": "2021-10-04T17:40:30.262147Z"
    }
   },
   "outputs": [],
   "source": [
    "# reshape the target data matrix\n",
    "y_train_reshaped  = y_train.values.reshape(-1,1)"
   ]
  },
  {
   "cell_type": "code",
   "execution_count": 127,
   "id": "short-sessions",
   "metadata": {
    "ExecuteTime": {
     "end_time": "2021-10-04T17:40:30.952341Z",
     "start_time": "2021-10-04T17:40:30.946216Z"
    }
   },
   "outputs": [
    {
     "data": {
      "text/plain": [
       "array([[0],\n",
       "       [0],\n",
       "       [1],\n",
       "       ...,\n",
       "       [0],\n",
       "       [0],\n",
       "       [0]], dtype=int64)"
      ]
     },
     "execution_count": 127,
     "metadata": {},
     "output_type": "execute_result"
    }
   ],
   "source": [
    "y_train_reshaped"
   ]
  },
  {
   "cell_type": "code",
   "execution_count": 129,
   "id": "intended-poultry",
   "metadata": {
    "ExecuteTime": {
     "end_time": "2021-10-04T17:40:59.661439Z",
     "start_time": "2021-10-04T17:40:59.644323Z"
    }
   },
   "outputs": [
    {
     "data": {
      "text/plain": [
       "(8512, 1)"
      ]
     },
     "execution_count": 129,
     "metadata": {},
     "output_type": "execute_result"
    }
   ],
   "source": [
    "# and confirming the shape\n",
    "y_train_reshaped.shape"
   ]
  },
  {
   "cell_type": "code",
   "execution_count": 130,
   "id": "paperback-speaker",
   "metadata": {
    "ExecuteTime": {
     "end_time": "2021-10-04T17:41:50.519643Z",
     "start_time": "2021-10-04T17:41:50.497639Z"
    }
   },
   "outputs": [],
   "source": [
    "# Random seed for reproducibility\n",
    "seed = 1\n",
    "np.random.seed(seed)"
   ]
  },
  {
   "cell_type": "code",
   "execution_count": 137,
   "id": "executed-queens",
   "metadata": {
    "ExecuteTime": {
     "end_time": "2021-10-04T17:44:23.154636Z",
     "start_time": "2021-10-04T17:44:22.944360Z"
    }
   },
   "outputs": [],
   "source": [
    "# Define the merics\n",
    "METRICS = [\n",
    "      keras.metrics.TruePositives(name='tp'),\n",
    "      keras.metrics.FalsePositives(name='fp'),\n",
    "      keras.metrics.TrueNegatives(name='tn'),\n",
    "      keras.metrics.FalseNegatives(name='fn'), \n",
    "      keras.metrics.BinaryAccuracy(name='accuracy'),\n",
    "      keras.metrics.Precision(name='precision'),\n",
    "      keras.metrics.Recall(name='recall'),\n",
    "      keras.metrics.AUC(name='auc'),\n",
    "]\n",
    "\n",
    "\n",
    "# create model\n",
    "model = keras.Sequential()\n",
    "model.add(layers.Dense(12, activation='relu'))\n",
    "model.add(layers.Dropout(0.25)) # Set 20% drop out\n",
    "# model.add(layers.Dense(6, activation='relu'))\n",
    "# model.add(layers.Dropout(0.25)) # Set 20% drop out\n",
    "\n",
    "# Declare the output layer\n",
    "model.add(layers.Dense(1, activation='sigmoid'))\n",
    "\n",
    "# Compile model\n",
    "model.compile(loss = 'binary_crossentropy', optimizer = keras.optimizers.Adam(learning_rate=0.00025), \n",
    "              metrics = METRICS)"
   ]
  },
  {
   "cell_type": "code",
   "execution_count": 138,
   "id": "fifty-ranch",
   "metadata": {
    "ExecuteTime": {
     "end_time": "2021-10-04T17:44:56.880645Z",
     "start_time": "2021-10-04T17:44:23.873952Z"
    },
    "scrolled": true
   },
   "outputs": [
    {
     "name": "stdout",
     "output_type": "stream",
     "text": [
      "Epoch 1/15\n",
      "200/200 [==============================] - 3s 15ms/step - loss: 0.6448 - tp: 126.0000 - fp: 298.0000 - tn: 4877.0000 - fn: 1083.0000 - accuracy: 0.7837 - precision: 0.2972 - recall: 0.1042 - auc: 0.5934 - val_loss: 0.5862 - val_tp: 4.0000 - val_fp: 0.0000e+00 - val_tn: 1753.0000 - val_fn: 371.0000 - val_accuracy: 0.8257 - val_precision: 1.0000 - val_recall: 0.0107 - val_auc: 0.6991\n",
      "Epoch 2/15\n",
      "200/200 [==============================] - 2s 8ms/step - loss: 0.5359 - tp: 65.0000 - fp: 2.0000 - tn: 5173.0000 - fn: 1144.0000 - accuracy: 0.8205 - precision: 0.9701 - recall: 0.0538 - auc: 0.7612 - val_loss: 0.4957 - val_tp: 18.0000 - val_fp: 1.0000 - val_tn: 1752.0000 - val_fn: 357.0000 - val_accuracy: 0.8318 - val_precision: 0.9474 - val_recall: 0.0480 - val_auc: 0.7463\n",
      "Epoch 3/15\n",
      "200/200 [==============================] - 2s 8ms/step - loss: 0.4511 - tp: 160.0000 - fp: 2.0000 - tn: 5173.0000 - fn: 1049.0000 - accuracy: 0.8354 - precision: 0.9877 - recall: 0.1323 - auc: 0.8436 - val_loss: 0.4362 - val_tp: 41.0000 - val_fp: 4.0000 - val_tn: 1749.0000 - val_fn: 334.0000 - val_accuracy: 0.8412 - val_precision: 0.9111 - val_recall: 0.1093 - val_auc: 0.7837\n",
      "Epoch 4/15\n",
      "200/200 [==============================] - 1s 7ms/step - loss: 0.3869 - tp: 300.0000 - fp: 6.0000 - tn: 5169.0000 - fn: 909.0000 - accuracy: 0.8567 - precision: 0.9804 - recall: 0.2481 - auc: 0.8943 - val_loss: 0.3966 - val_tp: 66.0000 - val_fp: 6.0000 - val_tn: 1747.0000 - val_fn: 309.0000 - val_accuracy: 0.8520 - val_precision: 0.9167 - val_recall: 0.1760 - val_auc: 0.8096\n",
      "Epoch 5/15\n",
      "200/200 [==============================] - 1s 7ms/step - loss: 0.3383 - tp: 443.0000 - fp: 15.0000 - tn: 5160.0000 - fn: 766.0000 - accuracy: 0.8777 - precision: 0.9672 - recall: 0.3664 - auc: 0.9245 - val_loss: 0.3688 - val_tp: 94.0000 - val_fp: 13.0000 - val_tn: 1740.0000 - val_fn: 281.0000 - val_accuracy: 0.8618 - val_precision: 0.8785 - val_recall: 0.2507 - val_auc: 0.8273\n",
      "Epoch 6/15\n",
      "200/200 [==============================] - 1s 7ms/step - loss: 0.3015 - tp: 548.0000 - fp: 21.0000 - tn: 5154.0000 - fn: 661.0000 - accuracy: 0.8932 - precision: 0.9631 - recall: 0.4533 - auc: 0.9369 - val_loss: 0.3489 - val_tp: 123.0000 - val_fp: 17.0000 - val_tn: 1736.0000 - val_fn: 252.0000 - val_accuracy: 0.8736 - val_precision: 0.8786 - val_recall: 0.3280 - val_auc: 0.8396\n",
      "Epoch 7/15\n",
      "200/200 [==============================] - 1s 7ms/step - loss: 0.2682 - tp: 659.0000 - fp: 25.0000 - tn: 5150.0000 - fn: 550.0000 - accuracy: 0.9099 - precision: 0.9635 - recall: 0.5451 - auc: 0.9496 - val_loss: 0.3342 - val_tp: 139.0000 - val_fp: 22.0000 - val_tn: 1731.0000 - val_fn: 236.0000 - val_accuracy: 0.8788 - val_precision: 0.8634 - val_recall: 0.3707 - val_auc: 0.8482\n",
      "Epoch 8/15\n",
      "200/200 [==============================] - 1s 7ms/step - loss: 0.2406 - tp: 750.0000 - fp: 32.0000 - tn: 5143.0000 - fn: 459.0000 - accuracy: 0.9231 - precision: 0.9591 - recall: 0.6203 - auc: 0.9610 - val_loss: 0.3232 - val_tp: 152.0000 - val_fp: 25.0000 - val_tn: 1728.0000 - val_fn: 223.0000 - val_accuracy: 0.8835 - val_precision: 0.8588 - val_recall: 0.4053 - val_auc: 0.8538\n",
      "Epoch 9/15\n",
      "200/200 [==============================] - 2s 8ms/step - loss: 0.2234 - tp: 778.0000 - fp: 34.0000 - tn: 5141.0000 - fn: 431.0000 - accuracy: 0.9272 - precision: 0.9581 - recall: 0.6435 - auc: 0.9659 - val_loss: 0.3151 - val_tp: 159.0000 - val_fp: 30.0000 - val_tn: 1723.0000 - val_fn: 216.0000 - val_accuracy: 0.8844 - val_precision: 0.8413 - val_recall: 0.4240 - val_auc: 0.8583\n",
      "Epoch 10/15\n",
      "200/200 [==============================] - 2s 8ms/step - loss: 0.2046 - tp: 840.0000 - fp: 37.0000 - tn: 5138.0000 - fn: 369.0000 - accuracy: 0.9364 - precision: 0.9578 - recall: 0.6948 - auc: 0.9698 - val_loss: 0.3091 - val_tp: 167.0000 - val_fp: 31.0000 - val_tn: 1722.0000 - val_fn: 208.0000 - val_accuracy: 0.8877 - val_precision: 0.8434 - val_recall: 0.4453 - val_auc: 0.8614\n",
      "Epoch 11/15\n",
      "200/200 [==============================] - 2s 8ms/step - loss: 0.1829 - tp: 904.0000 - fp: 44.0000 - tn: 5131.0000 - fn: 305.0000 - accuracy: 0.9453 - precision: 0.9536 - recall: 0.7477 - auc: 0.9789 - val_loss: 0.3045 - val_tp: 173.0000 - val_fp: 36.0000 - val_tn: 1717.0000 - val_fn: 202.0000 - val_accuracy: 0.8882 - val_precision: 0.8278 - val_recall: 0.4613 - val_auc: 0.8639\n",
      "Epoch 12/15\n",
      "200/200 [==============================] - 2s 8ms/step - loss: 0.1714 - tp: 918.0000 - fp: 41.0000 - tn: 5134.0000 - fn: 291.0000 - accuracy: 0.9480 - precision: 0.9572 - recall: 0.7593 - auc: 0.9800 - val_loss: 0.3009 - val_tp: 174.0000 - val_fp: 44.0000 - val_tn: 1709.0000 - val_fn: 201.0000 - val_accuracy: 0.8849 - val_precision: 0.7982 - val_recall: 0.4640 - val_auc: 0.8664\n",
      "Epoch 13/15\n",
      "200/200 [==============================] - 2s 8ms/step - loss: 0.1599 - tp: 950.0000 - fp: 49.0000 - tn: 5126.0000 - fn: 259.0000 - accuracy: 0.9518 - precision: 0.9510 - recall: 0.7858 - auc: 0.9824 - val_loss: 0.2991 - val_tp: 177.0000 - val_fp: 48.0000 - val_tn: 1705.0000 - val_fn: 198.0000 - val_accuracy: 0.8844 - val_precision: 0.7867 - val_recall: 0.4720 - val_auc: 0.8680\n",
      "Epoch 14/15\n",
      "200/200 [==============================] - 2s 8ms/step - loss: 0.1490 - tp: 959.0000 - fp: 40.0000 - tn: 5135.0000 - fn: 250.0000 - accuracy: 0.9546 - precision: 0.9600 - recall: 0.7932 - auc: 0.9850 - val_loss: 0.2976 - val_tp: 186.0000 - val_fp: 49.0000 - val_tn: 1704.0000 - val_fn: 189.0000 - val_accuracy: 0.8882 - val_precision: 0.7915 - val_recall: 0.4960 - val_auc: 0.8686\n",
      "Epoch 15/15\n",
      "200/200 [==============================] - 2s 8ms/step - loss: 0.1374 - tp: 985.0000 - fp: 41.0000 - tn: 5134.0000 - fn: 224.0000 - accuracy: 0.9585 - precision: 0.9600 - recall: 0.8147 - auc: 0.9881 - val_loss: 0.2966 - val_tp: 194.0000 - val_fp: 53.0000 - val_tn: 1700.0000 - val_fn: 181.0000 - val_accuracy: 0.8900 - val_precision: 0.7854 - val_recall: 0.5173 - val_auc: 0.8700\n"
     ]
    }
   ],
   "source": [
    "# Fit model\n",
    "history = model.fit(X_train_transformed_dense,\n",
    "                    y_train_reshaped, epochs=15, verbose=1, validation_split=0.25)"
   ]
  },
  {
   "cell_type": "markdown",
   "id": "intermediate-sandwich",
   "metadata": {},
   "source": [
    "We trained the model for 15 epochs, while monitoring our metrics, it is much easier, however if we can plot the history of epochs to understand the model performance."
   ]
  },
  {
   "cell_type": "code",
   "execution_count": 139,
   "id": "tight-youth",
   "metadata": {
    "ExecuteTime": {
     "end_time": "2021-10-04T17:44:59.453797Z",
     "start_time": "2021-10-04T17:44:56.890180Z"
    }
   },
   "outputs": [
    {
     "name": "stdout",
     "output_type": "stream",
     "text": [
      "Train Accuracy: 0.9585\n",
      "Test Accuracy: 0.8774\n"
     ]
    }
   ],
   "source": [
    "# Evaluate the network\n",
    "train_accuracy = history.history['accuracy'][-1]\n",
    "result = model.evaluate(transformer.transform(X_test).todense()\n",
    "                        ,y_test, verbose=0)\n",
    "\n",
    "print(f\"Train Accuracy: {train_accuracy:.4f}\")\n",
    "print(f\"Test Accuracy: {result[5]:.4f}\") \n",
    "\n",
    "# Generate predictions\n",
    "predictions = model.predict(transformer.transform(X_test).todense())"
   ]
  },
  {
   "cell_type": "markdown",
   "id": "dense-solid",
   "metadata": {},
   "source": [
    "Just looking at the train and test accuracy scores, it seems that there is a considerable overfitting in our network training. This can be explained by the cross in training and validation losses at the about the forth epoch, after which the validation loss rate of diminishing started to decrease compared to the training set. Looking at this plot alone, it can be said that we should have stopped our training at epoch 4. "
   ]
  },
  {
   "cell_type": "code",
   "execution_count": 148,
   "id": "completed-extension",
   "metadata": {
    "ExecuteTime": {
     "end_time": "2021-10-04T17:47:38.991748Z",
     "start_time": "2021-10-04T17:47:38.750823Z"
    }
   },
   "outputs": [
    {
     "data": {
      "image/png": "[encoded data removed]",
      "text/plain": [
       "<Figure size 1080x360 with 1 Axes>"
      ]
     },
     "metadata": {
      "needs_background": "light"
     },
     "output_type": "display_data"
    }
   ],
   "source": [
    "# Plot Train Loss and Validation Loss\n",
    "plt.figure(figsize=(15, 5))\n",
    "\n",
    "plt.plot(history.history['loss'])\n",
    "plt.plot(history.history['val_loss'])\n",
    "\n",
    "plt.title('Model Loss')\n",
    "plt.ylabel('Loss')\n",
    "plt.xlabel('Epoch')\n",
    "plt.legend(['Train Loss', 'Validation Loss'])\n",
    "plt.grid()\n",
    "plt.xticks(np.arange(len(history.history)), np.arange(1, len(history.history)+1)) # to start the plot from 1\n",
    "\n",
    "plt.show()"
   ]
  },
  {
   "cell_type": "code",
   "execution_count": 147,
   "id": "veterinary-produce",
   "metadata": {
    "ExecuteTime": {
     "end_time": "2021-10-04T17:47:34.611427Z",
     "start_time": "2021-10-04T17:47:34.323227Z"
    }
   },
   "outputs": [
    {
     "data": {
      "image/png": "[encoded data removed]",
      "text/plain": [
       "<Figure size 1080x360 with 1 Axes>"
      ]
     },
     "metadata": {
      "needs_background": "light"
     },
     "output_type": "display_data"
    }
   ],
   "source": [
    "# Plot the train and val accuracy\n",
    "plt.figure(figsize=(15, 5))\n",
    "\n",
    "plt.plot(history.history[\"accuracy\"])\n",
    "plt.plot(history.history[\"val_accuracy\"])\n",
    "\n",
    "plt.title('Model Accuracy')\n",
    "plt.ylabel('Accuracy')\n",
    "plt.xlabel('Epoch')\n",
    "plt.legend(['Train Accuracy', 'Val Accuracy'])\n",
    "plt.grid()\n",
    "plt.xticks(np.arange(len(history.history)), np.arange(1, len(history.history)+1)) # to start the plot from 1\n",
    "\n",
    "plt.show()"
   ]
  },
  {
   "cell_type": "markdown",
   "id": "damaged-paragraph",
   "metadata": {},
   "source": [
    "After plotting the accuracy scores, we see that there was some relative gain in the validation accuracy for another two epochs - until epoch 6 - with no much jump in the training set accuracy score."
   ]
  },
  {
   "cell_type": "code",
   "execution_count": 146,
   "id": "earned-northern",
   "metadata": {
    "ExecuteTime": {
     "end_time": "2021-10-04T17:47:08.169733Z",
     "start_time": "2021-10-04T17:47:07.866631Z"
    }
   },
   "outputs": [
    {
     "data": {
      "image/png": "[encoded data removed]",
      "text/plain": [
       "<Figure size 1080x360 with 1 Axes>"
      ]
     },
     "metadata": {
      "needs_background": "light"
     },
     "output_type": "display_data"
    }
   ],
   "source": [
    "plt.figure(figsize=(15, 5))\n",
    "\n",
    "plt.plot(history.history['precision'])\n",
    "plt.plot(history.history['recall'])\n",
    "plt.plot(history.history['val_precision'])\n",
    "plt.plot(history.history['val_recall'])\n",
    "\n",
    "plt.title('Precision & Recall')\n",
    "plt.ylabel('Precision/Recall')\n",
    "plt.xlabel('Epoch')\n",
    "plt.legend(['Train Precision', 'Train Recall', 'Val Precision', 'Val Recall'])\n",
    "plt.grid()\n",
    "plt.xticks(np.arange(len(history.history)), np.arange(1, len(history.history)+1)) # to start the plot from 1\n",
    "\n",
    "plt.show()"
   ]
  },
  {
   "cell_type": "markdown",
   "id": "generous-genetics",
   "metadata": {},
   "source": [
    "Now plotting the precision and recall scores, has added another dimension to the decision criteria. Looking at the validation set lines and seeing them converge over time, we should ask ourselves an important question, do we care more about precision or recall?"
   ]
  },
  {
   "cell_type": "code",
   "execution_count": 143,
   "id": "fleet-barrier",
   "metadata": {
    "ExecuteTime": {
     "end_time": "2021-10-04T17:45:02.307652Z",
     "start_time": "2021-10-04T17:45:00.982667Z"
    }
   },
   "outputs": [
    {
     "name": "stdout",
     "output_type": "stream",
     "text": [
      "Train Accuracy: 0.9585\n",
      "Test Accuracy: 0.8774\n",
      "Test Precision: 0.7586\n",
      "Test Recall: 0.5000\n",
      "Test AUC: 0.8724\n",
      "Test TP: 264\n",
      "Test FP: 84\n",
      "Test TN: 2226\n",
      "Test FN: 264\n"
     ]
    }
   ],
   "source": [
    "# Evaluate the model using the test data and generate predictions\n",
    "# Evaluate the network\n",
    "train_accuracy = history.history[\"accuracy\"][-1]\n",
    "result = model.evaluate(transformer.transform(X_test).todense(),\n",
    "                        y_test, verbose=0)\n",
    "\n",
    "# loss', 'tp', 'fp', 'tn', 'fn', 'accuracy', 'precision', 'recall', 'auc'\n",
    "print(f\"Train Accuracy: {train_accuracy:.4f}\")\n",
    "print(f\"Test Accuracy: {result[5]:.4f}\")\n",
    "print(f\"Test Precision: {result[6]:.4f}\")\n",
    "print(f\"Test Recall: {result[7]:.4f}\")\n",
    "print(f\"Test AUC: {result[8]:.4f}\")\n",
    "print(f\"Test TP: {result[1]:.0f}\")\n",
    "print(f\"Test FP: {result[2]:.0f}\")\n",
    "print(f\"Test TN: {result[3]:.0f}\")\n",
    "print(f\"Test FN: {result[4]:.0f}\")\n",
    "\n",
    "predictions = model.predict(transformer.transform(X_test).todense())"
   ]
  },
  {
   "cell_type": "markdown",
   "id": "designed-auditor",
   "metadata": {},
   "source": [
    "The previous question brings us to analyzing out confusion matrix and the model AUC, although the data is not imbalanced, it is worth looking into that and assess our model performance."
   ]
  },
  {
   "cell_type": "code",
   "execution_count": null,
   "id": "important-windows",
   "metadata": {},
   "outputs": [],
   "source": []
  }
 ],
 "metadata": {
  "hide_input": false,
  "kernelspec": {
   "display_name": "deeplearning",
   "language": "python",
   "name": "deeplearning"
  },
  "language_info": {
   "codemirror_mode": {
    "name": "ipython",
    "version": 3
   },
   "file_extension": ".py",
   "mimetype": "text/x-python",
   "name": "python",
   "nbconvert_exporter": "python",
   "pygments_lexer": "ipython3",
   "version": "3.8.8"
  },
  "toc": {
   "base_numbering": 1,
   "nav_menu": {},
   "number_sections": true,
   "sideBar": true,
   "skip_h1_title": false,
   "title_cell": "Table of Contents",
   "title_sidebar": "Contents",
   "toc_cell": false,
   "toc_position": {},
   "toc_section_display": true,
   "toc_window_display": false
  }
 },
 "nbformat": 4,
 "nbformat_minor": 5
}
